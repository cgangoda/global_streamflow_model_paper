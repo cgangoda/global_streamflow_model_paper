{
 "cells": [
  {
   "cell_type": "markdown",
   "metadata": {
    "id": "dzNFopjta4Ln"
   },
   "source": [
    "# Imports"
   ]
  },
  {
   "cell_type": "code",
   "execution_count": 1,
   "metadata": {
    "executionInfo": {
     "elapsed": 3755,
     "status": "ok",
     "timestamp": 1683956288771,
     "user": {
      "displayName": "Grey Nearing",
      "userId": "00389065855797486266"
     },
     "user_tz": 420
    },
    "id": "HGO-zC7TxOSg"
   },
   "outputs": [],
   "source": [
    "import datetime\n",
    "import numpy as np\n",
    "import os\n",
    "import shutil\n",
    "import tqdm\n",
    "import xarray"
   ]
  },
  {
   "cell_type": "code",
   "execution_count": 3,
   "metadata": {
    "executionInfo": {
     "elapsed": 10376,
     "status": "ok",
     "timestamp": 1683956299494,
     "user": {
      "displayName": "Grey Nearing",
      "userId": "00389065855797486266"
     },
     "user_tz": 420
    },
    "id": "vMru6zQLMOVN"
   },
   "outputs": [],
   "source": [
    "from backend import loading_utils\n",
    "from backend import data_paths\n",
    "from backend import gauge_groups_utils\n",
    "from backend import return_period_metrics  \n",
    "from backend import metrics_utils\n",
    "from backend import evaluation_utils"
   ]
  },
  {
   "cell_type": "code",
   "execution_count": 4,
   "metadata": {},
   "outputs": [],
   "source": [
    "# This flag should be set to True if you are loading GRDC daily streamflow data\n",
    "# from a file that you got from the GRDC directly.\n",
    "USE_RAW_GRDC_DATA = True"
   ]
  },
  {
   "cell_type": "markdown",
   "metadata": {
    "id": "PVucJMQLqcsd"
   },
   "source": [
    "# Metadata"
   ]
  },
  {
   "cell_type": "markdown",
   "metadata": {},
   "source": [
    "## Gauge Groups"
   ]
  },
  {
   "cell_type": "markdown",
   "metadata": {
    "id": "PPniAV8DrPf8"
   },
   "source": [
    "### Full Gauge Group"
   ]
  },
  {
   "cell_type": "code",
   "execution_count": 5,
   "metadata": {
    "executionInfo": {
     "elapsed": 57,
     "status": "ok",
     "timestamp": 1678960283627,
     "user": {
      "displayName": "Grey Nearing",
      "userId": "00389065855797486266"
     },
     "user_tz": -120
    },
    "id": "Ak8EySNIqenW",
    "outputId": "7734c3fd-d8a0-4862-8179-7bdb70553958"
   },
   "outputs": [
    {
     "name": "stdout",
     "output_type": "stream",
     "text": [
      "There are 5678 gauges.\n"
     ]
    }
   ],
   "source": [
    "gauges = gauge_groups_utils.get_full_gauge_group()\n",
    "print(f'There are {len(gauges)} gauges.')"
   ]
  },
  {
   "cell_type": "markdown",
   "metadata": {
    "id": "4Burru4iOYAS"
   },
   "source": [
    "### GloFAS v3 Benchmarking Gauge Group"
   ]
  },
  {
   "cell_type": "code",
   "execution_count": 6,
   "metadata": {
    "executionInfo": {
     "elapsed": 4,
     "status": "ok",
     "timestamp": 1684109005497,
     "user": {
      "displayName": "Grey Nearing",
      "userId": "00389065855797486266"
     },
     "user_tz": 420
    },
    "id": "R-hAbjZZOYAW",
    "outputId": "89e635b4-452b-4ae6-b6a1-fe9631fd9c06"
   },
   "outputs": [
    {
     "name": "stdout",
     "output_type": "stream",
     "text": [
      "There are 778 v3 benchmarking gauges.\n"
     ]
    }
   ],
   "source": [
    "# Read GloFAS Metadata file.\n",
    "glofas_metadata = loading_utils.load_glofas_metadata_file()\n",
    "glofas_gauges = [gauge for gauge in glofas_metadata.index]\n",
    "\n",
    "# Find gauge group intersection.\n",
    "benchmarking_v3_gauges = list(set(gauges).intersection(glofas_gauges))\n",
    "print(f'There are {len(benchmarking_v3_gauges)} v3 benchmarking gauges.')"
   ]
  },
  {
   "cell_type": "markdown",
   "metadata": {
    "id": "_BkjA0m0cy8V"
   },
   "source": [
    "### GloFAS v4 Benchmarking Gauge Group### GloFAS v4"
   ]
  },
  {
   "cell_type": "code",
   "execution_count": 7,
   "metadata": {
    "executionInfo": {
     "elapsed": 62,
     "status": "ok",
     "timestamp": 1684109005982,
     "user": {
      "displayName": "Grey Nearing",
      "userId": "00389065855797486266"
     },
     "user_tz": 420
    },
    "id": "r7DGt8lcc2h-",
    "outputId": "64f7b4d8-b813-444d-9a13-556cfdbac2fe"
   },
   "outputs": [
    {
     "name": "stdout",
     "output_type": "stream",
     "text": [
      "There are 1144 v4 benchmarking gauges.\n"
     ]
    }
   ],
   "source": [
    "# Read GloFAS Metadata file.\n",
    "glofas_v4_metadata = loading_utils.load_glofas_v4_metadata_file()\n",
    "glofas_v4_gauges = [gauge for gauge in glofas_v4_metadata.index]\n",
    "\n",
    "# Find gauge group intersection.\n",
    "benchmarking_v4_gauges = list(set(gauges).intersection(glofas_v4_gauges))\n",
    "print(f'There are {len(benchmarking_v4_gauges)} v4 benchmarking gauges.')"
   ]
  },
  {
   "cell_type": "code",
   "execution_count": 8,
   "metadata": {},
   "outputs": [
    {
     "data": {
      "text/plain": [
       "['GRDC_6984500',\n",
       " 'GRDC_6987050',\n",
       " 'GRDC_5708145',\n",
       " 'GRDC_6984800',\n",
       " 'GRDC_6998400',\n",
       " 'GRDC_6337400',\n",
       " 'GRDC_4150330',\n",
       " 'GRDC_6984700',\n",
       " 'GRDC_1591408',\n",
       " 'GRDC_4121400',\n",
       " 'GRDC_1837410']"
      ]
     },
     "execution_count": 8,
     "metadata": {},
     "output_type": "execute_result"
    }
   ],
   "source": [
    "gauges = [6984500, 6987050, 5708145, 6984800, 6998400, 6337400, 4150330, 6984700, 1591408, 4121400, 1837410]\n",
    "gauges = [f'GRDC_{gauge}' for gauge in gauges]\n",
    "benchmarking_v3_gauges = list(set(benchmarking_v3_gauges).intersection(set(gauges)))\n",
    "benchmarking_v4_gauges = list(set(benchmarking_v4_gauges).intersection(set(gauges)))\n",
    "gauges"
   ]
  },
  {
   "cell_type": "markdown",
   "metadata": {
    "id": "lLo36TxLVO2u"
   },
   "source": [
    "## Validation Time Periods"
   ]
  },
  {
   "cell_type": "markdown",
   "metadata": {},
   "source": [
    "### GloFAS v3"
   ]
  },
  {
   "cell_type": "code",
   "execution_count": 9,
   "metadata": {
    "id": "w0yKvPC_SExa"
   },
   "outputs": [],
   "source": [
    "glofas_v3_validation_time_periods = {\n",
    "    gauge: [\n",
    "        glofas_metadata.loc[gauge, 'Validation_Start'],\n",
    "        glofas_metadata.loc[gauge, 'Validation_End']\n",
    "    ] for gauge in benchmarking_v3_gauges\n",
    "}\n",
    "\n",
    "glofas_v3_validation_time_periods.update(\n",
    "    {\n",
    "        gauge: None\n",
    "        for gauge in gauges if gauge not in benchmarking_v3_gauges        \n",
    "    }\n",
    ")"
   ]
  },
  {
   "cell_type": "code",
   "execution_count": 10,
   "metadata": {
    "id": "ARRDqCfDykSq"
   },
   "outputs": [
    {
     "name": "stdout",
     "output_type": "stream",
     "text": [
      "There are 0 gauges with dates that are out of bounds.\n"
     ]
    }
   ],
   "source": [
    "# Ensure that all start and end dates are within the Google model window.\n",
    "out_of_bounds_gauges = []\n",
    "for gauge in benchmarking_v3_gauges:\n",
    "  if datetime.datetime.strptime(glofas_v3_validation_time_periods[gauge][0], '%m/%d/%y %H:%M') < datetime.datetime(1980, 1, 1):\n",
    "    out_of_bounds_gauges.append(gauge)\n",
    "  if datetime.datetime.strptime(glofas_v3_validation_time_periods[gauge][1], '%m/%d/%y %H:%M') > datetime.datetime(2022, 1, 1):\n",
    "    out_of_bounds_gauges.append(gauge)\n",
    "\n",
    "print(f'There are {len(out_of_bounds_gauges)} gauges with dates that are out of bounds.')"
   ]
  },
  {
   "cell_type": "markdown",
   "metadata": {},
   "source": [
    "### GloFAS v4"
   ]
  },
  {
   "cell_type": "code",
   "execution_count": 11,
   "metadata": {},
   "outputs": [],
   "source": [
    "v4meta = loading_utils.load_glofas_v4_metadata_file()\n",
    "\n",
    "def _get_v4_val_period(gauge):\n",
    "  try:\n",
    "    end_date = pd.to_datetime(v4meta.loc[gauge, 'Calib_start (Split Date)'].strip(), format='%d/%m/%Y %H:%M')\n",
    "    start_date = pd.to_datetime(v4meta.loc[gauge, 'Start Obs'].strip(), format='%d/%m/%Y %H:%M')\n",
    "    return [start_date, end_date]\n",
    "  except:\n",
    "    return None\n",
    "\n",
    "glofas_v4_validation_time_periods = {gauge: _get_v4_val_period(gauge) for gauge in benchmarking_v4_gauges}\n",
    "\n",
    "glofas_v4_validation_time_periods.update(\n",
    "    {\n",
    "        gauge: None\n",
    "        for gauge in gauges if gauge not in benchmarking_v4_gauges        \n",
    "    }\n",
    ")"
   ]
  },
  {
   "cell_type": "markdown",
   "metadata": {
    "id": "vPHbRVcD8ipt"
   },
   "source": [
    "### Google Model"
   ]
  },
  {
   "cell_type": "code",
   "execution_count": 12,
   "metadata": {
    "id": "jiF38bqW8iw8"
   },
   "outputs": [],
   "source": [
    "google_validation_time_periods = {\n",
    "    gauge: ['2014-01-01', '2023-01-01'] for gauge in gauges\n",
    "}"
   ]
  },
  {
   "cell_type": "markdown",
   "metadata": {
    "id": "KOvnxnO5d_vD"
   },
   "source": [
    "# Google Model Metrics"
   ]
  },
  {
   "cell_type": "markdown",
   "metadata": {
    "id": "zRqtragoQWW1"
   },
   "source": [
    "## Load Data: Google Model Runs"
   ]
  },
  {
   "cell_type": "code",
   "execution_count": 13,
   "metadata": {},
   "outputs": [
    {
     "name": "stdout",
     "output_type": "stream",
     "text": [
      "Working on experiment: kfold_splits\n"
     ]
    },
    {
     "name": "stderr",
     "output_type": "stream",
     "text": [
      "100%|████████████████████████████████████████████████████████████████████████████████| 11/11 [00:00<00:00, 34.80it/s]\n"
     ]
    },
    {
     "name": "stdout",
     "output_type": "stream",
     "text": [
      "Working on experiment: continent_splits\n"
     ]
    },
    {
     "name": "stderr",
     "output_type": "stream",
     "text": [
      "100%|████████████████████████████████████████████████████████████████████████████████| 11/11 [00:00<00:00, 54.79it/s]\n"
     ]
    },
    {
     "name": "stdout",
     "output_type": "stream",
     "text": [
      "Working on experiment: climate_splits\n"
     ]
    },
    {
     "name": "stderr",
     "output_type": "stream",
     "text": [
      "100%|████████████████████████████████████████████████████████████████████████████████| 11/11 [00:00<00:00, 58.23it/s]\n"
     ]
    },
    {
     "name": "stdout",
     "output_type": "stream",
     "text": [
      "Working on experiment: full_run\n"
     ]
    },
    {
     "name": "stderr",
     "output_type": "stream",
     "text": [
      "100%|████████████████████████████████████████████████████████████████████████████████| 11/11 [00:00<00:00, 58.81it/s]\n"
     ]
    }
   ],
   "source": [
    "google_model_runs = loading_utils.load_all_experimental_model_runs(\n",
    "  gauges=gauges,\n",
    "  load_without_grdc=USE_RAW_GRDC_DATA\n",
    ")"
   ]
  },
  {
   "cell_type": "code",
   "execution_count": 14,
   "metadata": {},
   "outputs": [
    {
     "name": "stdout",
     "output_type": "stream",
     "text": [
      "There are 0 (out of 11) missing gauges in experiemnt kfold_splits.\n",
      "There are 0 (out of 11) missing gauges in experiemnt continent_splits.\n",
      "There are 0 (out of 11) missing gauges in experiemnt climate_splits.\n",
      "There are 0 (out of 11) missing gauges in experiemnt full_run.\n"
     ]
    }
   ],
   "source": [
    "# Count missing gauges per experiment.\n",
    "for experiment in google_model_runs:\n",
    "  missing_gauges = len(gauges) - len(google_model_runs[experiment].gauge_id)\n",
    "  print(f'There are {missing_gauges} (out of {len(gauges)}) missing gauges in experiemnt {experiment}.')"
   ]
  },
  {
   "cell_type": "markdown",
   "metadata": {},
   "source": [
    "## Load Data: GRDC Observation Data"
   ]
  },
  {
   "cell_type": "code",
   "execution_count": 15,
   "metadata": {},
   "outputs": [],
   "source": [
    "if USE_RAW_GRDC_DATA:\n",
    "  grdc_observation_data = loading_utils.load_grdc_data()\n",
    "  unnormalized_grdc_observation_data = grdc_observation_data[metrics_utils.UNNORMALIZED_OBS_VARIABLE].rename(metrics_utils.OBS_VARIABLE)\n",
    "  for experiment in google_model_runs.keys():\n",
    "    google_model_runs[experiment] = xarray.merge(\n",
    "        [google_model_runs[experiment], grdc_observation_data[metrics_utils.OBS_VARIABLE]])\n",
    "  del grdc_observation_data\n",
    "\n",
    "else:\n",
    "  experiment = list(google_model_runs.keys())[0]\n",
    "  unnormalized_grdc_observation_data = loading_utils.unnormalize_observation(\n",
    "      normalized_discharge=google_model_runs[experiment][metrics_utils.OBS_VARIABLE])\n",
    "  unnormalized_grdc_observation_data = unnormalized_grdc_observation_data.rename(metrics_utils.OBS_VARIABLE).sel(lead_time=0) "
   ]
  },
  {
   "cell_type": "markdown",
   "metadata": {},
   "source": [
    "## Metrics: 2014 - Present"
   ]
  },
  {
   "cell_type": "code",
   "execution_count": null,
   "metadata": {},
   "outputs": [],
   "source": [
    "# RESTART = False\n",
    "\n",
    "# working_path = data_paths.GOOGLE_2014_RETURN_PERIOD_METRICS_DIR\n",
    "# experiments = data_paths.EXPERIMENTS\n",
    "# gauge_list = gauges\n",
    "# ds_dict = google_model_runs\n",
    "# evaluation_time_periods = google_validation_time_periods\n",
    "# lead_times = None\n",
    "\n",
    "# missing_gauges = return_period_metrics.compute_metrics(\n",
    "#     restart=RESTART,\n",
    "#     working_path=working_path,\n",
    "#     experiments=experiments,\n",
    "#     gauge_list=gauge_list,\n",
    "#     sim_variable=metrics_utils.GOOGLE_VARIABLE,\n",
    "#     ds_dict=ds_dict,\n",
    "#     evaluation_time_periods=evaluation_time_periods,\n",
    "#     lead_times=lead_times\n",
    "# )\n",
    "\n",
    "# for experiment in experiments:\n",
    "#   print(f'Experiment {experiment} has {len(missing_gauges[experiment])} missing gauges.')\n",
    "\n",
    "# metrics = metrics_utils.load_metrics_df(\n",
    "#     filepath=working_path / experiment / 'precision' / f'{gauges[0]}.csv')\n",
    "# metrics"
   ]
  },
  {
   "cell_type": "markdown",
   "metadata": {
    "id": "8_gz12ner_iY"
   },
   "source": [
    "## Metrics: 1980 - Present"
   ]
  },
  {
   "cell_type": "code",
   "execution_count": null,
   "metadata": {
    "executionInfo": {
     "elapsed": 171999,
     "status": "ok",
     "timestamp": 1678974843460,
     "user": {
      "displayName": "Grey Nearing",
      "userId": "00389065855797486266"
     },
     "user_tz": -120
    },
    "id": "YNMuFv9zr_io",
    "outputId": "1ab0d24d-63b7-4cb0-c4d1-f2bd14df98f9"
   },
   "outputs": [],
   "source": [
    "# RESTART = False\n",
    "\n",
    "# working_path = data_paths.GOOGLE_1980_RETURN_PERIOD_METRICS_DIR\n",
    "# experiments = data_paths.EXPERIMENTS\n",
    "# gauge_list = gauges\n",
    "# ds_dict = google_model_runs\n",
    "# evaluation_time_periods = None\n",
    "# lead_times = [0]\n",
    "\n",
    "# missing_gauges = return_period_metrics.compute_metrics(\n",
    "#     restart=RESTART,\n",
    "#     working_path=working_path,\n",
    "#     experiments=experiments,\n",
    "#     gauge_list=gauge_list,\n",
    "#     sim_variable=metrics_utils.GOOGLE_VARIABLE,\n",
    "#     ds_dict=ds_dict,\n",
    "#     evaluation_time_periods=evaluation_time_periods,\n",
    "#     lead_times=lead_times\n",
    "# )\n",
    "\n",
    "# for experiment in experiments:\n",
    "#   print(f'Experiment {experiment} has {len(missing_gauges[experiment])} missing gauges.')\n",
    "\n",
    "# metrics = metrics_utils.load_metrics_df(\n",
    "#     filepath=working_path / experiment / 'precision' / f'{gauges[0]}.csv')\n",
    "# metrics"
   ]
  },
  {
   "cell_type": "markdown",
   "metadata": {},
   "source": [
    "## Metrics: Glofas v3 Validation Period"
   ]
  },
  {
   "cell_type": "code",
   "execution_count": null,
   "metadata": {},
   "outputs": [],
   "source": [
    "# RESTART = False\n",
    "\n",
    "# working_path = data_paths.GOOGLE_v3_PERIOD_RETURN_PERIOD_METRICS_DIR\n",
    "# experiments = data_paths.EXPERIMENTS\n",
    "# gauge_list = benchmarking_v4_gauges\n",
    "# ds_dict = google_model_runs\n",
    "# evaluation_time_periods = glofas_v3_validation_time_periods\n",
    "# lead_times = [0]\n",
    "\n",
    "# missing_gauges = return_period_metrics.compute_metrics(\n",
    "#     restart=RESTART,\n",
    "#     working_path=working_path,\n",
    "#     experiments=experiments,\n",
    "#     gauge_list=gauge_list,\n",
    "#     sim_variable=metrics_utils.GOOGLE_VARIABLE,\n",
    "#     ds_dict=ds_dict,\n",
    "#     evaluation_time_periods=evaluation_time_periods,\n",
    "#     lead_times=lead_times\n",
    "# )\n",
    "\n",
    "# for experiment in experiments:\n",
    "#   print(f'Experiment {experiment} has {len(missing_gauges[experiment])} missing gauges.')\n",
    "\n",
    "# metrics = metrics_utils.load_metrics_df(\n",
    "#     filepath=working_path / experiment / 'precision' / f'{gauges[0]}.csv')\n",
    "# metrics"
   ]
  },
  {
   "cell_type": "markdown",
   "metadata": {},
   "source": [
    "## Metrics: Glofas v4 Validation Period"
   ]
  },
  {
   "cell_type": "code",
   "execution_count": null,
   "metadata": {},
   "outputs": [],
   "source": [
    "# RESTART = False\n",
    "\n",
    "# working_path = data_paths.GOOGLE_v4_PERIOD_RETURN_PERIOD_METRICS_DIR\n",
    "# experiments = data_paths.EXPERIMENTS\n",
    "# gauge_list = benchmarking_v4_gauges\n",
    "# ds_dict = google_model_runs\n",
    "# evaluation_time_periods = glofas_v4_validation_time_periods\n",
    "# lead_times = [0]\n",
    "\n",
    "# missing_gauges = return_period_metrics.compute_metrics(\n",
    "#     restart=RESTART,\n",
    "#     working_path=working_path,\n",
    "#     experiments=experiments,\n",
    "#     gauge_list=gauge_list,\n",
    "#     sim_variable=metrics_utils.GOOGLE_VARIABLE,\n",
    "#     ds_dict=ds_dict,\n",
    "#     evaluation_time_periods=evaluation_time_periods,\n",
    "#     lead_times=lead_times\n",
    "# )\n",
    "\n",
    "# for experiment in experiments:\n",
    "#   print(f'Experiment {experiment} has {len(missing_gauges[experiment])} missing gauges.')\n",
    "\n",
    "# metrics = metrics_utils.load_metrics_df(\n",
    "#     filepath=working_path / experiment / 'precision' / f'{gauges[0]}.csv')\n",
    "# metrics"
   ]
  },
  {
   "cell_type": "markdown",
   "metadata": {},
   "source": [
    "## Delete Variables to Clear Memory"
   ]
  },
  {
   "cell_type": "code",
   "execution_count": 16,
   "metadata": {},
   "outputs": [],
   "source": [
    "del google_model_runs"
   ]
  },
  {
   "cell_type": "markdown",
   "metadata": {
    "id": "dIRc3y2R0xip"
   },
   "source": [
    "# GloFAS v3 Reanalysis"
   ]
  },
  {
   "cell_type": "markdown",
   "metadata": {},
   "source": [
    "## Load Data: GloFAS v3 All GRDC Gauges"
   ]
  },
  {
   "cell_type": "code",
   "execution_count": 17,
   "metadata": {},
   "outputs": [
    {
     "name": "stderr",
     "output_type": "stream",
     "text": [
      "100%|████████████████████████████████████████████████████████████████████████████████| 11/11 [00:00<00:00, 35.21it/s]\n"
     ]
    }
   ],
   "source": [
    "glofas_v3_reanalysis_all_grdc_gauges = loading_utils.load_glofas_model_runs(\n",
    "    gauges=gauges,\n",
    "    reanalysis=True,\n",
    "    all_grdc_gauges=True\n",
    ")"
   ]
  },
  {
   "cell_type": "code",
   "execution_count": 18,
   "metadata": {},
   "outputs": [
    {
     "name": "stdout",
     "output_type": "stream",
     "text": [
      "There are 2 (out of 11) missing gauges in glofas runs.\n"
     ]
    }
   ],
   "source": [
    "# Count missing gauges.\n",
    "missing_gauges = len(gauges) - len(glofas_v3_reanalysis_all_grdc_gauges.gauge_id)\n",
    "print(f'There are {missing_gauges} (out of {len(gauges)}) missing gauges in glofas runs.')"
   ]
  },
  {
   "cell_type": "code",
   "execution_count": 19,
   "metadata": {},
   "outputs": [],
   "source": [
    "# Drop unused coordinates that might contain nans.\n",
    "glofas_v3_reanalysis_all_grdc_gauges = glofas_v3_reanalysis_all_grdc_gauges.drop(\n",
    "    [\n",
    "        'surface',\n",
    "        'latitude',\n",
    "        'longitude',\n",
    "        'valid_time',\n",
    "    ]\n",
    ")"
   ]
  },
  {
   "cell_type": "code",
   "execution_count": 20,
   "metadata": {},
   "outputs": [],
   "source": [
    "# Merge everything into one large xarray.\n",
    "# This xarray merge takes ... forever ...\n",
    "merged_dataset_v3_reanalysis_all_grdc_gauges = xarray.merge(\n",
    "    [glofas_v3_reanalysis_all_grdc_gauges, unnormalized_grdc_observation_data])\n",
    "\n",
    "# For the reanalysis, only use the nowcast.\n",
    "merged_dataset_v3_reanalysis_all_grdc_gauges = merged_dataset_v3_reanalysis_all_grdc_gauges.sel(lead_time=[0])"
   ]
  },
  {
   "cell_type": "markdown",
   "metadata": {},
   "source": [
    "## Metrics: GloFAS v3 Validation Period"
   ]
  },
  {
   "cell_type": "code",
   "execution_count": null,
   "metadata": {},
   "outputs": [],
   "source": [
    "# RESTART = True\n",
    "\n",
    "# working_path = data_paths.GLOFAS_v3_REANALYSIS_v3_PERIOD_RETURN_PERIOD_METRICS_DIR\n",
    "# experiments = [loading_utils.GLOFAS_REANALYSIS_VARIABLE_NAME]\n",
    "# gauge_list = benchmarking_v3_gauges\n",
    "# ds_dict = {'glofas_reanalysis': merged_dataset_v3_reanalysis_all_grdc_gauges}\n",
    "# evaluation_time_periods = glofas_v3_validation_time_periods\n",
    "# lead_times = [0]\n",
    "\n",
    "# missing_gauges = return_period_metrics.compute_metrics(\n",
    "#     restart=RESTART,\n",
    "#     working_path=working_path,\n",
    "#     experiments=experiments,\n",
    "#     gauge_list=gauge_list,\n",
    "#     sim_variable=loading_utils.GLOFAS_REANALYSIS_VARIABLE_NAME,\n",
    "#     ds_dict=ds_dict,\n",
    "#     evaluation_time_periods=evaluation_time_periods,\n",
    "#     lead_times=lead_times\n",
    "# )\n",
    "\n",
    "# for experiment in experiments:\n",
    "#   print(f'Experiment {experiment} has {len(missing_gauges[experiment])} missing gauges.')\n",
    "\n",
    "# metrics = metrics_utils.load_metrics_df(\n",
    "#     filepath=working_path / experiment / 'precision' / f'{gauges[0]}.csv')\n",
    "# metrics"
   ]
  },
  {
   "cell_type": "markdown",
   "metadata": {},
   "source": [
    "## Metrics: 1980 - Present"
   ]
  },
  {
   "cell_type": "code",
   "execution_count": 21,
   "metadata": {},
   "outputs": [
    {
     "name": "stdout",
     "output_type": "stream",
     "text": [
      "Working on experiment: glofas_reanalysis ...\n"
     ]
    },
    {
     "name": "stderr",
     "output_type": "stream",
     "text": [
      "100%|████████████████████████████████████████████████████████████████████████████████| 11/11 [00:18<00:00,  1.66s/it]"
     ]
    },
    {
     "name": "stdout",
     "output_type": "stream",
     "text": [
      "Experiment glofas_reanalysis has 0 missing gauges.\n"
     ]
    },
    {
     "name": "stderr",
     "output_type": "stream",
     "text": [
      "\n"
     ]
    },
    {
     "data": {
      "text/html": [
       "<div>\n",
       "<style scoped>\n",
       "    .dataframe tbody tr th:only-of-type {\n",
       "        vertical-align: middle;\n",
       "    }\n",
       "\n",
       "    .dataframe tbody tr th {\n",
       "        vertical-align: top;\n",
       "    }\n",
       "\n",
       "    .dataframe thead th {\n",
       "        text-align: right;\n",
       "    }\n",
       "</style>\n",
       "<table border=\"1\" class=\"dataframe\">\n",
       "  <thead>\n",
       "    <tr style=\"text-align: right;\">\n",
       "      <th></th>\n",
       "      <th>Unnamed: 1</th>\n",
       "      <th>0</th>\n",
       "      <th>1</th>\n",
       "      <th>2</th>\n",
       "      <th>3</th>\n",
       "      <th>4</th>\n",
       "      <th>5</th>\n",
       "      <th>6</th>\n",
       "      <th>7</th>\n",
       "    </tr>\n",
       "  </thead>\n",
       "  <tbody>\n",
       "    <tr>\n",
       "      <th>1.01</th>\n",
       "      <td>0.0</td>\n",
       "      <td>0.058824</td>\n",
       "      <td>NaN</td>\n",
       "      <td>NaN</td>\n",
       "      <td>NaN</td>\n",
       "      <td>NaN</td>\n",
       "      <td>NaN</td>\n",
       "      <td>NaN</td>\n",
       "      <td>NaN</td>\n",
       "    </tr>\n",
       "    <tr>\n",
       "      <th>1.01</th>\n",
       "      <td>1.0</td>\n",
       "      <td>0.235294</td>\n",
       "      <td>NaN</td>\n",
       "      <td>NaN</td>\n",
       "      <td>NaN</td>\n",
       "      <td>NaN</td>\n",
       "      <td>NaN</td>\n",
       "      <td>NaN</td>\n",
       "      <td>NaN</td>\n",
       "    </tr>\n",
       "    <tr>\n",
       "      <th>1.01</th>\n",
       "      <td>2.0</td>\n",
       "      <td>0.235294</td>\n",
       "      <td>NaN</td>\n",
       "      <td>NaN</td>\n",
       "      <td>NaN</td>\n",
       "      <td>NaN</td>\n",
       "      <td>NaN</td>\n",
       "      <td>NaN</td>\n",
       "      <td>NaN</td>\n",
       "    </tr>\n",
       "    <tr>\n",
       "      <th>2.00</th>\n",
       "      <td>0.0</td>\n",
       "      <td>0.500000</td>\n",
       "      <td>NaN</td>\n",
       "      <td>NaN</td>\n",
       "      <td>NaN</td>\n",
       "      <td>NaN</td>\n",
       "      <td>NaN</td>\n",
       "      <td>NaN</td>\n",
       "      <td>NaN</td>\n",
       "    </tr>\n",
       "    <tr>\n",
       "      <th>2.00</th>\n",
       "      <td>1.0</td>\n",
       "      <td>0.500000</td>\n",
       "      <td>NaN</td>\n",
       "      <td>NaN</td>\n",
       "      <td>NaN</td>\n",
       "      <td>NaN</td>\n",
       "      <td>NaN</td>\n",
       "      <td>NaN</td>\n",
       "      <td>NaN</td>\n",
       "    </tr>\n",
       "    <tr>\n",
       "      <th>2.00</th>\n",
       "      <td>2.0</td>\n",
       "      <td>0.500000</td>\n",
       "      <td>NaN</td>\n",
       "      <td>NaN</td>\n",
       "      <td>NaN</td>\n",
       "      <td>NaN</td>\n",
       "      <td>NaN</td>\n",
       "      <td>NaN</td>\n",
       "      <td>NaN</td>\n",
       "    </tr>\n",
       "    <tr>\n",
       "      <th>5.00</th>\n",
       "      <td>0.0</td>\n",
       "      <td>0.000000</td>\n",
       "      <td>NaN</td>\n",
       "      <td>NaN</td>\n",
       "      <td>NaN</td>\n",
       "      <td>NaN</td>\n",
       "      <td>NaN</td>\n",
       "      <td>NaN</td>\n",
       "      <td>NaN</td>\n",
       "    </tr>\n",
       "    <tr>\n",
       "      <th>5.00</th>\n",
       "      <td>1.0</td>\n",
       "      <td>0.000000</td>\n",
       "      <td>NaN</td>\n",
       "      <td>NaN</td>\n",
       "      <td>NaN</td>\n",
       "      <td>NaN</td>\n",
       "      <td>NaN</td>\n",
       "      <td>NaN</td>\n",
       "      <td>NaN</td>\n",
       "    </tr>\n",
       "    <tr>\n",
       "      <th>5.00</th>\n",
       "      <td>2.0</td>\n",
       "      <td>0.333333</td>\n",
       "      <td>NaN</td>\n",
       "      <td>NaN</td>\n",
       "      <td>NaN</td>\n",
       "      <td>NaN</td>\n",
       "      <td>NaN</td>\n",
       "      <td>NaN</td>\n",
       "      <td>NaN</td>\n",
       "    </tr>\n",
       "    <tr>\n",
       "      <th>10.00</th>\n",
       "      <td>0.0</td>\n",
       "      <td>0.000000</td>\n",
       "      <td>NaN</td>\n",
       "      <td>NaN</td>\n",
       "      <td>NaN</td>\n",
       "      <td>NaN</td>\n",
       "      <td>NaN</td>\n",
       "      <td>NaN</td>\n",
       "      <td>NaN</td>\n",
       "    </tr>\n",
       "    <tr>\n",
       "      <th>10.00</th>\n",
       "      <td>1.0</td>\n",
       "      <td>0.000000</td>\n",
       "      <td>NaN</td>\n",
       "      <td>NaN</td>\n",
       "      <td>NaN</td>\n",
       "      <td>NaN</td>\n",
       "      <td>NaN</td>\n",
       "      <td>NaN</td>\n",
       "      <td>NaN</td>\n",
       "    </tr>\n",
       "    <tr>\n",
       "      <th>10.00</th>\n",
       "      <td>2.0</td>\n",
       "      <td>0.000000</td>\n",
       "      <td>NaN</td>\n",
       "      <td>NaN</td>\n",
       "      <td>NaN</td>\n",
       "      <td>NaN</td>\n",
       "      <td>NaN</td>\n",
       "      <td>NaN</td>\n",
       "      <td>NaN</td>\n",
       "    </tr>\n",
       "    <tr>\n",
       "      <th>20.00</th>\n",
       "      <td>0.0</td>\n",
       "      <td>0.000000</td>\n",
       "      <td>NaN</td>\n",
       "      <td>NaN</td>\n",
       "      <td>NaN</td>\n",
       "      <td>NaN</td>\n",
       "      <td>NaN</td>\n",
       "      <td>NaN</td>\n",
       "      <td>NaN</td>\n",
       "    </tr>\n",
       "    <tr>\n",
       "      <th>20.00</th>\n",
       "      <td>1.0</td>\n",
       "      <td>0.000000</td>\n",
       "      <td>NaN</td>\n",
       "      <td>NaN</td>\n",
       "      <td>NaN</td>\n",
       "      <td>NaN</td>\n",
       "      <td>NaN</td>\n",
       "      <td>NaN</td>\n",
       "      <td>NaN</td>\n",
       "    </tr>\n",
       "    <tr>\n",
       "      <th>20.00</th>\n",
       "      <td>2.0</td>\n",
       "      <td>0.000000</td>\n",
       "      <td>NaN</td>\n",
       "      <td>NaN</td>\n",
       "      <td>NaN</td>\n",
       "      <td>NaN</td>\n",
       "      <td>NaN</td>\n",
       "      <td>NaN</td>\n",
       "      <td>NaN</td>\n",
       "    </tr>\n",
       "    <tr>\n",
       "      <th>50.00</th>\n",
       "      <td>0.0</td>\n",
       "      <td>0.000000</td>\n",
       "      <td>NaN</td>\n",
       "      <td>NaN</td>\n",
       "      <td>NaN</td>\n",
       "      <td>NaN</td>\n",
       "      <td>NaN</td>\n",
       "      <td>NaN</td>\n",
       "      <td>NaN</td>\n",
       "    </tr>\n",
       "    <tr>\n",
       "      <th>50.00</th>\n",
       "      <td>1.0</td>\n",
       "      <td>0.000000</td>\n",
       "      <td>NaN</td>\n",
       "      <td>NaN</td>\n",
       "      <td>NaN</td>\n",
       "      <td>NaN</td>\n",
       "      <td>NaN</td>\n",
       "      <td>NaN</td>\n",
       "      <td>NaN</td>\n",
       "    </tr>\n",
       "    <tr>\n",
       "      <th>50.00</th>\n",
       "      <td>2.0</td>\n",
       "      <td>0.000000</td>\n",
       "      <td>NaN</td>\n",
       "      <td>NaN</td>\n",
       "      <td>NaN</td>\n",
       "      <td>NaN</td>\n",
       "      <td>NaN</td>\n",
       "      <td>NaN</td>\n",
       "      <td>NaN</td>\n",
       "    </tr>\n",
       "  </tbody>\n",
       "</table>\n",
       "</div>"
      ],
      "text/plain": [
       "       Unnamed: 1         0   1   2   3   4   5   6   7\n",
       "1.01          0.0  0.058824 NaN NaN NaN NaN NaN NaN NaN\n",
       "1.01          1.0  0.235294 NaN NaN NaN NaN NaN NaN NaN\n",
       "1.01          2.0  0.235294 NaN NaN NaN NaN NaN NaN NaN\n",
       "2.00          0.0  0.500000 NaN NaN NaN NaN NaN NaN NaN\n",
       "2.00          1.0  0.500000 NaN NaN NaN NaN NaN NaN NaN\n",
       "2.00          2.0  0.500000 NaN NaN NaN NaN NaN NaN NaN\n",
       "5.00          0.0  0.000000 NaN NaN NaN NaN NaN NaN NaN\n",
       "5.00          1.0  0.000000 NaN NaN NaN NaN NaN NaN NaN\n",
       "5.00          2.0  0.333333 NaN NaN NaN NaN NaN NaN NaN\n",
       "10.00         0.0  0.000000 NaN NaN NaN NaN NaN NaN NaN\n",
       "10.00         1.0  0.000000 NaN NaN NaN NaN NaN NaN NaN\n",
       "10.00         2.0  0.000000 NaN NaN NaN NaN NaN NaN NaN\n",
       "20.00         0.0  0.000000 NaN NaN NaN NaN NaN NaN NaN\n",
       "20.00         1.0  0.000000 NaN NaN NaN NaN NaN NaN NaN\n",
       "20.00         2.0  0.000000 NaN NaN NaN NaN NaN NaN NaN\n",
       "50.00         0.0  0.000000 NaN NaN NaN NaN NaN NaN NaN\n",
       "50.00         1.0  0.000000 NaN NaN NaN NaN NaN NaN NaN\n",
       "50.00         2.0  0.000000 NaN NaN NaN NaN NaN NaN NaN"
      ]
     },
     "execution_count": 21,
     "metadata": {},
     "output_type": "execute_result"
    }
   ],
   "source": [
    "RESTART = True\n",
    "\n",
    "working_path = data_paths.GLOFAS_v3_REANALYSIS_1980_RETURN_PERIOD_METRICS_DIR\n",
    "experiments = [loading_utils.GLOFAS_REANALYSIS_VARIABLE_NAME]\n",
    "gauge_list = gauges\n",
    "ds_dict = {'glofas_reanalysis': merged_dataset_v3_reanalysis_all_grdc_gauges}\n",
    "evaluation_time_periods = None\n",
    "lead_times = [0]\n",
    "\n",
    "missing_gauges = return_period_metrics.compute_metrics(\n",
    "    restart=RESTART,\n",
    "    working_path=working_path,\n",
    "    experiments=experiments,\n",
    "    gauge_list=gauge_list,\n",
    "    sim_variable=loading_utils.GLOFAS_REANALYSIS_VARIABLE_NAME,\n",
    "    ds_dict=ds_dict,\n",
    "    evaluation_time_periods=evaluation_time_periods,\n",
    "    lead_times=lead_times\n",
    ")\n",
    "\n",
    "for experiment in experiments:\n",
    "  print(f'Experiment {experiment} has {len(missing_gauges[experiment])} missing gauges.')\n",
    "\n",
    "metrics = metrics_utils.load_metrics_df(\n",
    "    filepath=working_path / experiment / 'precision' / f'{gauges[0]}.csv')\n",
    "metrics"
   ]
  },
  {
   "cell_type": "markdown",
   "metadata": {},
   "source": [
    "## Metrics: 2014 - Present"
   ]
  },
  {
   "cell_type": "code",
   "execution_count": null,
   "metadata": {},
   "outputs": [],
   "source": [
    "RESTART = True\n",
    "\n",
    "working_path = data_paths.GLOFAS_v3_REANALYSIS_2014_RETURN_PERIOD_METRICS_DIR\n",
    "experiments = [loading_utils.GLOFAS_REANALYSIS_VARIABLE_NAME]\n",
    "gauge_list = gauges\n",
    "ds_dict = {'glofas_reanalysis': merged_dataset_v3_reanalysis_all_grdc_gauges}\n",
    "evaluation_time_periods = google_validation_time_periods\n",
    "lead_times = [0]\n",
    "\n",
    "missing_gauges = return_period_metrics.compute_metrics(\n",
    "    restart=RESTART,\n",
    "    working_path=working_path,\n",
    "    experiments=experiments,\n",
    "    gauge_list=gauge_list,\n",
    "    sim_variable=loading_utils.GLOFAS_REANALYSIS_VARIABLE_NAME,\n",
    "    ds_dict=ds_dict,\n",
    "    evaluation_time_periods=evaluation_time_periods,\n",
    "    lead_times=lead_times\n",
    ")\n",
    "\n",
    "for experiment in experiments:\n",
    "  print(f'Experiment {experiment} has {len(missing_gauges[experiment])} missing gauges.')\n",
    "\n",
    "metrics = metrics_utils.load_metrics_df(\n",
    "    filepath=working_path / experiment / 'precision' / f'{gauges[0]}.csv')\n",
    "metrics"
   ]
  },
  {
   "cell_type": "markdown",
   "metadata": {
    "id": "vlyp2OKC6gRn"
   },
   "source": [
    "# GloFAS v4 Reanalysis"
   ]
  },
  {
   "cell_type": "markdown",
   "metadata": {},
   "source": [
    "## Load Data: GloFAS v4 Benchmarking Gauges"
   ]
  },
  {
   "cell_type": "code",
   "execution_count": null,
   "metadata": {},
   "outputs": [],
   "source": [
    "glofas_v4_reanalysis_benchmarking_gauges = loading_utils.load_glofas_model_runs(\n",
    "    gauges=benchmarking_v4_gauges,\n",
    "    v4=True,\n",
    ")"
   ]
  },
  {
   "cell_type": "code",
   "execution_count": null,
   "metadata": {},
   "outputs": [],
   "source": [
    "# Count missing gauges.\n",
    "missing_gauges = len(benchmarking_v4_gauges) - len(glofas_v4_reanalysis_benchmarking_gauges.gauge_id)\n",
    "print(f'There are {missing_gauges} (out of {len(benchmarking_v4_gauges)}) missing gauges in glofas runs.')"
   ]
  },
  {
   "cell_type": "code",
   "execution_count": null,
   "metadata": {},
   "outputs": [],
   "source": [
    "# Drop unused coordinates that might contain nans.\n",
    "glofas_v4_reanalysis_benchmarking_gauges = glofas_v4_reanalysis_benchmarking_gauges.drop(\n",
    "    [\n",
    "        'latitude',\n",
    "        'longitude',\n",
    "    ]\n",
    ")"
   ]
  },
  {
   "cell_type": "code",
   "execution_count": null,
   "metadata": {},
   "outputs": [],
   "source": [
    "# Merge everything into one large xarray.\n",
    "# This xarray merge takes ... forever ...\n",
    "merged_dataset_v4_reanalysis_benchmarking_gauges = xarray.merge(\n",
    "    [glofas_v4_reanalysis_benchmarking_gauges, unnormalized_grdc_observation_data])\n",
    "\n",
    "# For the reanalysis, only use the nowcast.\n",
    "merged_dataset_v4_reanalysis_benchmarking_gauges = merged_dataset_v4_reanalysis_benchmarking_gauges.sel(lead_time=[0])"
   ]
  },
  {
   "cell_type": "markdown",
   "metadata": {},
   "source": [
    "## Metrics: GloFAS v4 Benchmarking Period"
   ]
  },
  {
   "cell_type": "code",
   "execution_count": null,
   "metadata": {},
   "outputs": [],
   "source": [
    "RESTART = True\n",
    "\n",
    "working_path = data_paths.GLOFAS_v4_REANALYSIS_v4_PERIOD_RETURN_PERIOD_METRICS_DIR\n",
    "experiments = [loading_utils.GLOFAS_REANALYSIS_VARIABLE_NAME]\n",
    "gauge_list = benchmarking_v4_gauges\n",
    "ds_dict = {'glofas_reanalysis': merged_dataset_v4_reanalysis_all_grdc_gauges}\n",
    "evaluation_time_periods = glofas_v4_validation_time_periods\n",
    "lead_times = [0]\n",
    "\n",
    "missing_gauges = return_period_metrics.compute_metrics(\n",
    "    restart=RESTART,\n",
    "    working_path=working_path,\n",
    "    experiments=experiments,\n",
    "    gauge_list=gauge_list,\n",
    "    sim_variable=loading_utils.GLOFAS_REANALYSIS_VARIABLE_NAME,\n",
    "    ds_dict=ds_dict,\n",
    "    evaluation_time_periods=evaluation_time_periods,\n",
    "    lead_times=lead_times\n",
    ")\n",
    "\n",
    "for experiment in experiments:\n",
    "  print(f'Experiment {experiment} has {len(missing_gauges[experiment])} missing gauges.')\n",
    "\n",
    "metrics = metrics_utils.load_metrics_df(\n",
    "    filepath=working_path / experiment / 'precision' / f'{gauges[0]}.csv')\n",
    "metrics"
   ]
  },
  {
   "cell_type": "code",
   "execution_count": null,
   "metadata": {},
   "outputs": [],
   "source": []
  },
  {
   "cell_type": "code",
   "execution_count": null,
   "metadata": {},
   "outputs": [],
   "source": []
  },
  {
   "cell_type": "code",
   "execution_count": null,
   "metadata": {},
   "outputs": [],
   "source": []
  }
 ],
 "metadata": {
  "colab": {
   "last_runtime": {
    "build_target": "//intelligence/flood_forecasting/colab:notebook",
    "kind": "private"
   },
   "provenance": [
    {
     "file_id": "18Q7SqYfIiUY2tbHk_wSE4xwAF53pF0bK",
     "timestamp": 1677256000296
    },
    {
     "file_id": "1U5lV5oB6crQAV7-OLTxegU4Dathhwd8Q",
     "timestamp": 1676807730788
    }
   ]
  },
  "kernelspec": {
   "display_name": "Python 3 (ipykernel)",
   "language": "python",
   "name": "python3"
  },
  "language_info": {
   "codemirror_mode": {
    "name": "ipython",
    "version": 3
   },
   "file_extension": ".py",
   "mimetype": "text/x-python",
   "name": "python",
   "nbconvert_exporter": "python",
   "pygments_lexer": "ipython3",
   "version": "3.11.4"
  }
 },
 "nbformat": 4,
 "nbformat_minor": 1
}
