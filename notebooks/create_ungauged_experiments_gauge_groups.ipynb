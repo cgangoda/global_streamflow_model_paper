{
 "cells": [
  {
   "cell_type": "markdown",
   "metadata": {
    "id": "M-6wvCx1kB4I"
   },
   "source": [
    "# Create Ungauged Experiments Gauge Groups\n",
    "\n",
    "This notebook creates splits of Caravan + GRDC gauges for running models and assessing skill on ungauged basins. \n",
    "\n",
    "The splits are:\n",
    "\n",
    "  1) Random (K-Fold)\n",
    "\n",
    "  2) Continents\n",
    "\n",
    "  3) Climate Zones\n",
    "  \n",
    "  4) Countries\n",
    "\n",
    "  5) Hydrologically-Separated Basins"
   ]
  },
  {
   "cell_type": "markdown",
   "metadata": {
    "id": "2c1kUlzp4Cof"
   },
   "source": [
    "# Imports"
   ]
  },
  {
   "cell_type": "code",
   "execution_count": 1,
   "metadata": {},
   "outputs": [],
   "source": [
    "%load_ext autoreload\n",
    "%autoreload 2"
   ]
  },
  {
   "cell_type": "code",
   "execution_count": 49,
   "metadata": {
    "id": "bsipqHR84Fqf"
   },
   "outputs": [],
   "source": [
    "import geopandas as gpd\n",
    "import itertools\n",
    "import matplotlib.pyplot as plt\n",
    "import numpy as np\n",
    "import os\n",
    "import pandas as pd\n",
    "import random\n",
    "import shutil\n",
    "from sklearn.model_selection import KFold"
   ]
  },
  {
   "cell_type": "code",
   "execution_count": 3,
   "metadata": {
    "id": "12wLabUvQuZH"
   },
   "outputs": [],
   "source": [
    "from backend import data_paths\n",
    "from backend import gauge_groups_utils\n",
    "from backend import loading_utils\n",
    "from backend import evaluation_utils"
   ]
  },
  {
   "cell_type": "markdown",
   "metadata": {
    "id": "Jypqr3cg5DVh"
   },
   "source": [
    "# Experiment Setup"
   ]
  },
  {
   "cell_type": "markdown",
   "metadata": {
    "id": "2qQGo5Opl9wN"
   },
   "source": [
    "## Create Gauge Groups Directory"
   ]
  },
  {
   "cell_type": "code",
   "execution_count": null,
   "metadata": {
    "id": "qTqIHNaOmwhG"
   },
   "outputs": [],
   "source": [
    "DELETE_EXISTING_GAUGE_GROUPS = False\n",
    "\n",
    "if os.path.exists(data_paths.GAUGE_GROUPS_DIR) and DELETE_EXISTING_GAUGE_GROUPS:\n",
    "    raise ValueError('I am making you comment this error and rerun this cell if '\n",
    "                     'you really want to delete the existing gauge groups.')\n",
    "    shutil.rmtree(data_paths.GAUGE_GROUPS_DIR)\n",
    "os.makedirs(data_paths.GAUGE_GROUPS_DIR)"
   ]
  },
  {
   "cell_type": "markdown",
   "metadata": {
    "id": "XeChLZU-4-Bx"
   },
   "source": [
    "## Load Gauge Groups"
   ]
  },
  {
   "cell_type": "code",
   "execution_count": 4,
   "metadata": {
    "id": "0Q1iOsoF4YGF"
   },
   "outputs": [
    {
     "name": "stdout",
     "output_type": "stream",
     "text": [
      "There are 5678 gauges.\n"
     ]
    }
   ],
   "source": [
    "full_gauge_group = gauge_groups_utils.load_gauge_group(data_paths.FULL_GAUGE_GROUP_FILE)\n",
    "print(f'There are {len(full_gauge_group)} gauges.')"
   ]
  },
  {
   "cell_type": "code",
   "execution_count": 5,
   "metadata": {},
   "outputs": [
    {
     "name": "stdout",
     "output_type": "stream",
     "text": [
      "There are 0 basins missing from the hybas info file.\n"
     ]
    },
    {
     "name": "stderr",
     "output_type": "stream",
     "text": [
      "/tmp/ipykernel_270088/2591505088.py:4: DtypeWarning: Columns (18,20,21,22,23,24,25,27) have mixed types. Specify dtype option on import or set low_memory=False.\n",
      "  gauges_with_hybas_home_polygon = pd.read_csv(f, index_col='unique_gauge_id')\n"
     ]
    }
   ],
   "source": [
    "# The HydroBASINS info file assocaites each gauge with a HydroBASINS polygon.\n",
    "# We will only keep one gauge per HyBAS level 12 polygon.\n",
    "with open(data_paths.HYBAS_INFO_FILE, 'r') as f:\n",
    "    gauges_with_hybas_home_polygon = pd.read_csv(f, index_col='unique_gauge_id')\n",
    "gauge_to_hybas_id = gauges_with_hybas_home_polygon[['HYBAS_ID']]\n",
    "print(f'There are {len(set(full_gauge_group) - set(gauge_to_hybas_id.index))} basins missing from the hybas info file.')\n",
    "\n",
    "gauge_to_hybas_id = gauge_to_hybas_id.loc[full_gauge_group]\n",
    "gauge_to_hybas_id = gauge_to_hybas_id.loc[gauge_to_hybas_id.drop_duplicates(subset=['HYBAS_ID']).index]\n",
    "full_gauge_group = list(gauge_to_hybas_id.index)"
   ]
  },
  {
   "cell_type": "markdown",
   "metadata": {
    "id": "7IVq1h_aCd1y"
   },
   "source": [
    "# Create Random Split Gauge Groups"
   ]
  },
  {
   "cell_type": "code",
   "execution_count": 11,
   "metadata": {
    "executionInfo": {
     "elapsed": 3,
     "status": "ok",
     "timestamp": 1686133759940,
     "user": {
      "displayName": "Grey Nearing",
      "userId": "00389065855797486266"
     },
     "user_tz": -180
    },
    "id": "-VxppuoxGr1L"
   },
   "outputs": [
    {
     "ename": "FileExistsError",
     "evalue": "[Errno 17] File exists: '/home/gsnearing/github_repo/global_streamflow_model_paper/gauge_groups/dual_lstm/kfold_splits'",
     "output_type": "error",
     "traceback": [
      "\u001b[0;31m---------------------------------------------------------------------------\u001b[0m",
      "\u001b[0;31mFileExistsError\u001b[0m                           Traceback (most recent call last)",
      "Cell \u001b[0;32mIn[11], line 2\u001b[0m\n\u001b[1;32m      1\u001b[0m KFOLD_GAUGE_GROUPS_DIR \u001b[38;5;241m=\u001b[39m data_paths\u001b[38;5;241m.\u001b[39mGAUGE_GROUPS_DIR \u001b[38;5;241m/\u001b[39m \u001b[38;5;124m'\u001b[39m\u001b[38;5;124mkfold_splits\u001b[39m\u001b[38;5;124m'\u001b[39m \n\u001b[0;32m----> 2\u001b[0m \u001b[43mos\u001b[49m\u001b[38;5;241;43m.\u001b[39;49m\u001b[43mmakedirs\u001b[49m\u001b[43m(\u001b[49m\u001b[43mKFOLD_GAUGE_GROUPS_DIR\u001b[49m\u001b[43m)\u001b[49m\n",
      "File \u001b[0;32m<frozen os>:225\u001b[0m, in \u001b[0;36mmakedirs\u001b[0;34m(name, mode, exist_ok)\u001b[0m\n",
      "\u001b[0;31mFileExistsError\u001b[0m: [Errno 17] File exists: '/home/gsnearing/github_repo/global_streamflow_model_paper/gauge_groups/dual_lstm/kfold_splits'"
     ]
    }
   ],
   "source": [
    "KFOLD_GAUGE_GROUPS_DIR = data_paths.GAUGE_GROUPS_DIR / 'kfold_splits' \n",
    "os.makedirs(KFOLD_GAUGE_GROUPS_DIR)"
   ]
  },
  {
   "cell_type": "code",
   "execution_count": 13,
   "metadata": {
    "executionInfo": {
     "elapsed": 59,
     "status": "ok",
     "timestamp": 1686133760907,
     "user": {
      "displayName": "Grey Nearing",
      "userId": "00389065855797486266"
     },
     "user_tz": -180
    },
    "id": "hcgDvWQwA_4n",
    "outputId": "7bb10818-b980-418e-f67a-cff6ababb051"
   },
   "outputs": [
    {
     "name": "stdout",
     "output_type": "stream",
     "text": [
      "Saved 568 basins from a random split to ::: /home/gsnearing/github_repo/global_streamflow_model_paper/gauge_groups/dual_lstm/kfold_splits/random_group_0.txt.\n",
      "Saved 568 basins from a random split to ::: /home/gsnearing/github_repo/global_streamflow_model_paper/gauge_groups/dual_lstm/kfold_splits/random_group_1.txt.\n",
      "Saved 568 basins from a random split to ::: /home/gsnearing/github_repo/global_streamflow_model_paper/gauge_groups/dual_lstm/kfold_splits/random_group_2.txt.\n",
      "Saved 568 basins from a random split to ::: /home/gsnearing/github_repo/global_streamflow_model_paper/gauge_groups/dual_lstm/kfold_splits/random_group_3.txt.\n",
      "Saved 568 basins from a random split to ::: /home/gsnearing/github_repo/global_streamflow_model_paper/gauge_groups/dual_lstm/kfold_splits/random_group_4.txt.\n",
      "Saved 568 basins from a random split to ::: /home/gsnearing/github_repo/global_streamflow_model_paper/gauge_groups/dual_lstm/kfold_splits/random_group_5.txt.\n",
      "Saved 568 basins from a random split to ::: /home/gsnearing/github_repo/global_streamflow_model_paper/gauge_groups/dual_lstm/kfold_splits/random_group_6.txt.\n",
      "Saved 568 basins from a random split to ::: /home/gsnearing/github_repo/global_streamflow_model_paper/gauge_groups/dual_lstm/kfold_splits/random_group_7.txt.\n",
      "Saved 567 basins from a random split to ::: /home/gsnearing/github_repo/global_streamflow_model_paper/gauge_groups/dual_lstm/kfold_splits/random_group_8.txt.\n",
      "Saved 567 basins from a random split to ::: /home/gsnearing/github_repo/global_streamflow_model_paper/gauge_groups/dual_lstm/kfold_splits/random_group_9.txt.\n"
     ]
    }
   ],
   "source": [
    "kf = KFold(n_splits=10, random_state=None, shuffle=True)\n",
    "\n",
    "for split_idx, (_, test_index) in enumerate(kf.split(full_gauge_group)):\n",
    "  \n",
    "    # Create the gauge list for this split.\n",
    "    split_basins = [full_gauge_group[basin_idx] for basin_idx in test_index]\n",
    "\n",
    "    # Save the list to a file.\n",
    "    filename = KFOLD_GAUGE_GROUPS_DIR / f'random_group_{split_idx}.txt'\n",
    "    gauge_groups_utils.write_gauge_group(filename=filename, basins=split_basins)\n",
    "    print(f'Saved {len(split_basins)} basins from a random split to ::: {filename}.')"
   ]
  },
  {
   "cell_type": "markdown",
   "metadata": {
    "id": "RdP4MahPG79t"
   },
   "source": [
    "# Create Continent Gague Groups"
   ]
  },
  {
   "cell_type": "code",
   "execution_count": 14,
   "metadata": {
    "id": "HKfPTk7OG79_"
   },
   "outputs": [
    {
     "ename": "FileExistsError",
     "evalue": "[Errno 17] File exists: '/home/gsnearing/github_repo/global_streamflow_model_paper/gauge_groups/dual_lstm/continent_splits'",
     "output_type": "error",
     "traceback": [
      "\u001b[0;31m---------------------------------------------------------------------------\u001b[0m",
      "\u001b[0;31mFileExistsError\u001b[0m                           Traceback (most recent call last)",
      "Cell \u001b[0;32mIn[14], line 2\u001b[0m\n\u001b[1;32m      1\u001b[0m CONTINENT_GAUGE_GROUPS_DIR \u001b[38;5;241m=\u001b[39m data_paths\u001b[38;5;241m.\u001b[39mGAUGE_GROUPS_DIR \u001b[38;5;241m/\u001b[39m \u001b[38;5;124m'\u001b[39m\u001b[38;5;124mcontinent_splits\u001b[39m\u001b[38;5;124m'\u001b[39m \n\u001b[0;32m----> 2\u001b[0m \u001b[43mos\u001b[49m\u001b[38;5;241;43m.\u001b[39;49m\u001b[43mmakedirs\u001b[49m\u001b[43m(\u001b[49m\u001b[43mCONTINENT_GAUGE_GROUPS_DIR\u001b[49m\u001b[43m)\u001b[49m\n",
      "File \u001b[0;32m<frozen os>:225\u001b[0m, in \u001b[0;36mmakedirs\u001b[0;34m(name, mode, exist_ok)\u001b[0m\n",
      "\u001b[0;31mFileExistsError\u001b[0m: [Errno 17] File exists: '/home/gsnearing/github_repo/global_streamflow_model_paper/gauge_groups/dual_lstm/continent_splits'"
     ]
    }
   ],
   "source": [
    "CONTINENT_GAUGE_GROUPS_DIR = data_paths.GAUGE_GROUPS_DIR / 'continent_splits' \n",
    "os.makedirs(CONTINENT_GAUGE_GROUPS_DIR)"
   ]
  },
  {
   "cell_type": "markdown",
   "metadata": {
    "id": "d3RX4zCge8lt"
   },
   "source": [
    "## Map Caravan and GRDC to Continent"
   ]
  },
  {
   "cell_type": "code",
   "execution_count": 15,
   "metadata": {
    "executionInfo": {
     "elapsed": 56,
     "status": "ok",
     "timestamp": 1686133782184,
     "user": {
      "displayName": "Grey Nearing",
      "userId": "00389065855797486266"
     },
     "user_tz": -180
    },
    "id": "B0MTANiCT1X3"
   },
   "outputs": [],
   "source": [
    "# Mapping from Caravan source dataset to continent.\n",
    "# This is only needed if the full gauge group includes Caravan gauges.\n",
    "caravan_continent_mapping = {\n",
    "    'CAMELS': 'North America',\n",
    "    'CAMELSAUS': 'South West Pacific',\n",
    "    'CAMELSBR': 'South America',\n",
    "    'CAMELSCL': 'South America',\n",
    "    'CAMELSDK': 'Europe',\n",
    "    'CAMELSGB': 'Europe',\n",
    "    'LAMAH': 'Europe',\n",
    "    'HYSETS': 'North America'\n",
    "}\n",
    "\n",
    "def get_caravan_continent(basin):\n",
    "    source = basin.split('_')[1]\n",
    "    for source in caravan_continent_mapping:\n",
    "        if f'_{source}_' in basin:\n",
    "            return caravan_continent_mapping[source]\n",
    "\n",
    "gauge_continents_caravan = {basin: get_caravan_continent(basin) for basin in full_gauge_group if 'CARAVAN' in basin} "
   ]
  },
  {
   "cell_type": "code",
   "execution_count": 16,
   "metadata": {
    "executionInfo": {
     "elapsed": 290,
     "status": "ok",
     "timestamp": 1686133783089,
     "user": {
      "displayName": "Grey Nearing",
      "userId": "00389065855797486266"
     },
     "user_tz": -180
    },
    "id": "DGDliF6WYKX1"
   },
   "outputs": [],
   "source": [
    "# Maps GRDC gauges to continents.\n",
    "with open(data_paths.GRDC_METADATA_FILE, 'rt') as f:\n",
    "    grdc_metadata = pd.read_csv(f, index_col='grdc_no')\n",
    "\n",
    "wmo_region_mapping = {\n",
    "    1: 'Africa',\n",
    "    2: 'Asia',\n",
    "    3: 'South America',\n",
    "    4: 'North America',\n",
    "    5: 'South West Pacific',\n",
    "    6: 'Europe',\n",
    "}\n",
    "\n",
    "def get_grdc_continent(basin):\n",
    "    basin_id = int(basin.split('_')[-1])\n",
    "    wmo_region = grdc_metadata.loc[basin_id, 'wmo_reg']\n",
    "    return wmo_region_mapping[wmo_region]\n",
    "\n",
    "gauge_continents_grdc = {basin: get_grdc_continent(basin) for basin in full_gauge_group if 'GRDC' in basin} "
   ]
  },
  {
   "cell_type": "code",
   "execution_count": 17,
   "metadata": {
    "colab": {
     "height": 269
    },
    "executionInfo": {
     "elapsed": 699,
     "status": "ok",
     "timestamp": 1686133784755,
     "user": {
      "displayName": "Grey Nearing",
      "userId": "00389065855797486266"
     },
     "user_tz": -180
    },
    "id": "im6kzIZJZbR6",
    "outputId": "867a3d06-9372-4051-b5e2-e7d3ff7e71e8"
   },
   "outputs": [
    {
     "data": {
      "image/png": "[encoded data removed]",
      "text/plain": [
       "<Figure size 640x480 with 2 Axes>"
      ]
     },
     "metadata": {},
     "output_type": "display_data"
    }
   ],
   "source": [
    "# Visual check that the WMO regions are correct.\n",
    "plt.scatter(grdc_metadata['long'], grdc_metadata['lat'], c=grdc_metadata['wmo_reg'])\n",
    "cbar = plt.colorbar()\n",
    "cbar.solids.set_edgecolor(\"face\")"
   ]
  },
  {
   "cell_type": "markdown",
   "metadata": {
    "id": "RJkJmR89bndf"
   },
   "source": [
    "## Save Continent Gauge Groups"
   ]
  },
  {
   "cell_type": "code",
   "execution_count": null,
   "metadata": {
    "id": "eogN6m8Fbpow"
   },
   "outputs": [],
   "source": [
    "def save_continent_file(continent, basins):\n",
    "    continent_for_filename = continent.lower().replace(' ', '_')\n",
    "    filename = CONTINENT_GAUGE_GROUPS_DIR / f'{continent_for_filename}.txt'\n",
    "    gauge_groups_utils.write_gauge_group(filename=filename, basins=basins)\n",
    "    return filename"
   ]
  },
  {
   "cell_type": "code",
   "execution_count": null,
   "metadata": {
    "id": "OBcnDAxBT1cN"
   },
   "outputs": [],
   "source": [
    "gauge_continents = {**gauge_continents_grdc, **gauge_continents_caravan}\n",
    "print(f'There are {len(gauge_continents)} gauges.')\n",
    "\n",
    "for continent in wmo_region_mapping.values():\n",
    "    basins_in_continent = [basin for basin, cont in gauge_continents.items() if cont == continent]\n",
    "    filename = save_continent_file(continent, basins_in_continent)\n",
    "    print(f'Saved {len(basins_in_continent)} basins in {continent} to ::: {filename}')"
   ]
  },
  {
   "cell_type": "markdown",
   "metadata": {
    "id": "NOvfBkq8fB-B"
   },
   "source": [
    "# Create Climate Zone Gauge Groups"
   ]
  },
  {
   "cell_type": "markdown",
   "metadata": {
    "id": "Sg58NEYiYGmn"
   },
   "source": [
    "## Separate into Climate Zones"
   ]
  },
  {
   "cell_type": "code",
   "execution_count": 18,
   "metadata": {
    "executionInfo": {
     "elapsed": 63126,
     "status": "ok",
     "timestamp": 1686133853029,
     "user": {
      "displayName": "Grey Nearing",
      "userId": "00389065855797486266"
     },
     "user_tz": -180
    },
    "id": "1ryccGAOg3Pp",
    "outputId": "a0147608-2db4-4953-e969-7b61d4004080"
   },
   "outputs": [
    {
     "name": "stderr",
     "output_type": "stream",
     "text": [
      "/home/gsnearing/github_repo/global_streamflow_model_paper/notebooks/backend/loading_utils.py:52: DtypeWarning: Columns (18,20,21,22,23,24,25,27) have mixed types. Specify dtype option on import or set low_memory=False.\n",
      "  return pd.read_csv(f, index_col='HYBAS_ID')\n"
     ]
    }
   ],
   "source": [
    "# We will get the climate zones from HyBAS attributes.\n",
    "# First, we need the hybas polygon for each gauge.\n",
    "gauges_with_hybas_home_polygon = loading_utils.load_hydroatlas_info_file()\n",
    "gauges_with_hybas_home_polygon = gauges_with_hybas_home_polygon[['longitude',\t'latitude', 'unique_gauge_id']]\n",
    "\n",
    "# Get climate zone from the HyBAS attributes file.\n",
    "hybas_climate_zones = loading_utils.load_hydroatlas_attributes_file()\n",
    "\n",
    "# Extract climate zones for gauge group into a df.\n",
    "climate_zones_df = pd.concat([hybas_climate_zones.loc[gauges_with_hybas_home_polygon.index], gauges_with_hybas_home_polygon], axis=1)\n",
    "climate_zones_df.reset_index(inplace=True)\n",
    "climate_zones_df.set_index('unique_gauge_id', inplace=True)\n",
    "climate_zones_df = climate_zones_df.loc[full_gauge_group]"
   ]
  },
  {
   "cell_type": "code",
   "execution_count": 19,
   "metadata": {
    "executionInfo": {
     "elapsed": 4585,
     "status": "ok",
     "timestamp": 1686133858244,
     "user": {
      "displayName": "Grey Nearing",
      "userId": "00389065855797486266"
     },
     "user_tz": -180
    },
    "id": "5Muox8LTX_du"
   },
   "outputs": [],
   "source": [
    "# Mapping from integer values in the attributes df to named climate zones.\n",
    "climate_zone_mapping = {\n",
    "    1: 'Arctic 1',\n",
    "    2: 'Arctic 2',\n",
    "    3: 'Extremely Cold and Wet 1',\n",
    "    4: 'Extremely Cold and Wet 2',\n",
    "    5: 'Cold and Wet',\n",
    "    6: 'Extremely Cold and Mesic',\n",
    "    7: 'Cold and Mesic',\n",
    "    8: 'Cool Temperate and Dry',\n",
    "    9: 'Cool Temperate and Xeric',\n",
    "    10: 'Cool Temperate and Moist',\n",
    "    11: 'Warm Temperate and Mesic',\n",
    "    12: 'Warm Temperate and Xeric',\n",
    "    13: 'Hot and Mesic',\n",
    "    14: 'Hot and Dry',\n",
    "    15: 'Hot and Arid',\n",
    "    16: 'Extremely Hot and Arid',\n",
    "    17: 'Extremely Hot and Xeric',\n",
    "    18: 'Extremely Hot and Moist'\n",
    "}\n",
    "\n",
    "# All climate zones.\n",
    "climate_zones = set(climate_zones_df['clz_cl_smj'])\n",
    "\n",
    "# Separate basins into all climate zones\n",
    "basins_in_climate_zone = {}\n",
    "for zone in climate_zones:\n",
    "    basins_in_climate_zone[climate_zone_mapping[zone]] = [\n",
    "        basin for basin, data in climate_zones_df.iterrows() if data['clz_cl_smj'] == zone]\n",
    "\n",
    "# Turn the zones into descriptive names.\n",
    "climate_zones = set([climate_zone_mapping[zone] for zone in climate_zones_df['clz_cl_smj']])"
   ]
  },
  {
   "cell_type": "code",
   "execution_count": 20,
   "metadata": {
    "executionInfo": {
     "elapsed": 4,
     "status": "ok",
     "timestamp": 1686133859064,
     "user": {
      "displayName": "Grey Nearing",
      "userId": "00389065855797486266"
     },
     "user_tz": -180
    },
    "id": "-incPmGzX2MO",
    "outputId": "61cde6d7-af06-443b-c901-ff253e0aa962"
   },
   "outputs": [
    {
     "name": "stdout",
     "output_type": "stream",
     "text": [
      "There are 13 climate zones.\n"
     ]
    }
   ],
   "source": [
    "# Combine certain climate zones without a lot of basins: Cold and Wet.\n",
    "basins_in_climate_zone['Cold and Wet'] = basins_in_climate_zone['Cold and Wet'] + \\\n",
    "                                         basins_in_climate_zone['Extremely Cold and Wet 1'] + \\\n",
    "                                         basins_in_climate_zone['Extremely Cold and Wet 2']\n",
    "basins_in_climate_zone.pop('Extremely Cold and Wet 1')\n",
    "basins_in_climate_zone.pop('Extremely Cold and Wet 2')\n",
    "\n",
    "# Combine certain climate zones without a lot of basins: Cold and Mesic.\n",
    "basins_in_climate_zone['Cold and Mesic'] = basins_in_climate_zone['Extremely Cold and Mesic'] + \\\n",
    "                                           basins_in_climate_zone['Cold and Mesic'] + \\\n",
    "                                           basins_in_climate_zone['Arctic 2']\n",
    "basins_in_climate_zone.pop('Extremely Cold and Mesic')\n",
    "basins_in_climate_zone.pop('Arctic 2')\n",
    "\n",
    "# Revised list of climate zones.\n",
    "climate_zones = list(basins_in_climate_zone.keys())\n",
    "print(f'There are {len(climate_zones)} climate zones.')"
   ]
  },
  {
   "cell_type": "markdown",
   "metadata": {
    "id": "--VXTr8Zbfe3"
   },
   "source": [
    "## Save Climate Gauge Groups"
   ]
  },
  {
   "cell_type": "code",
   "execution_count": null,
   "metadata": {
    "id": "efQz_21yUEor"
   },
   "outputs": [],
   "source": [
    "CLIMATE_ZONES_GAUGE_GROUPS_DIR = data_paths.GAUGE_GROUPS_DIR / 'climate_splits' \n",
    "os.makedirs(CLIMATE_ZONES_GAUGE_GROUPS_DIR)\n",
    "\n",
    "def save_climate_file(zone, basins):\n",
    "    zone_name = zone.lower().replace(' ', '_')\n",
    "    filename = CLIMATE_ZONES_GAUGE_GROUPS_DIR / f'{zone_name}.txt'\n",
    "    gauge_groups_utils.write_gauge_group(filename=filename, basins=basins)\n",
    "    return filename"
   ]
  },
  {
   "cell_type": "code",
   "execution_count": null,
   "metadata": {
    "id": "FgfCDkDRUEs7"
   },
   "outputs": [],
   "source": [
    "for zone in climate_zones:\n",
    "    filename = save_climate_file(zone, basins_in_climate_zone[zone])\n",
    "    print(f'Saved {len(basins_in_climate_zone[zone])} basins in zone {zone} to ::: {filename}')"
   ]
  },
  {
   "cell_type": "markdown",
   "metadata": {
    "id": "fZtOFFEskA5u"
   },
   "source": [
    "# Create Country Gauge Groups"
   ]
  },
  {
   "cell_type": "markdown",
   "metadata": {
    "id": "K1oejvS_MDel"
   },
   "source": [
    "## Separate into Countries"
   ]
  },
  {
   "cell_type": "code",
   "execution_count": 22,
   "metadata": {
    "executionInfo": {
     "elapsed": 4073,
     "status": "ok",
     "timestamp": 1686133864572,
     "user": {
      "displayName": "Grey Nearing",
      "userId": "00389065855797486266"
     },
     "user_tz": -180
    },
    "id": "oy9Ab4rCkJkW"
   },
   "outputs": [],
   "source": [
    "hydroatlas_countries = loading_utils.load_hydroatlas_country_file()\n",
    "gauges_with_countries = list(set(gauge_to_hybas_id['HYBAS_ID']).intersection(set(hydroatlas_countries.index)))\n",
    "gauge_countries = hydroatlas_countries.loc[gauges_with_countries]\n",
    "gauge_countries = gauge_countries[~gauge_countries.index.duplicated(keep='first')]\n",
    "gauge_countries = pd.concat([gauge_to_hybas_id.reset_index().set_index('HYBAS_ID'), gauge_countries], axis=1)\n",
    "gauge_countries.reset_index(inplace=True)\n",
    "gauge_countries.set_index('unique_gauge_id', inplace=True)\n",
    "gauge_countries = gauge_countries.drop('index', axis=1)\n",
    "gauge_countries = gauge_countries.dropna()"
   ]
  },
  {
   "cell_type": "markdown",
   "metadata": {
    "id": "JjUJj64pL__8"
   },
   "source": [
    "## Save Country Gauge Groups"
   ]
  },
  {
   "cell_type": "code",
   "execution_count": 21,
   "metadata": {
    "executionInfo": {
     "elapsed": 2,
     "status": "ok",
     "timestamp": 1686133859800,
     "user": {
      "displayName": "Grey Nearing",
      "userId": "00389065855797486266"
     },
     "user_tz": -180
    },
    "id": "tlHvEF7FKpac"
   },
   "outputs": [
    {
     "ename": "FileExistsError",
     "evalue": "[Errno 17] File exists: '/home/gsnearing/github_repo/global_streamflow_model_paper/gauge_groups/dual_lstm/country_splits'",
     "output_type": "error",
     "traceback": [
      "\u001b[0;31m---------------------------------------------------------------------------\u001b[0m",
      "\u001b[0;31mFileExistsError\u001b[0m                           Traceback (most recent call last)",
      "Cell \u001b[0;32mIn[21], line 2\u001b[0m\n\u001b[1;32m      1\u001b[0m COUNTRIES_GAUGE_GROUPS_DIR \u001b[38;5;241m=\u001b[39m data_paths\u001b[38;5;241m.\u001b[39mGAUGE_GROUPS_DIR \u001b[38;5;241m/\u001b[39m \u001b[38;5;124m'\u001b[39m\u001b[38;5;124mcountry_splits\u001b[39m\u001b[38;5;124m'\u001b[39m \n\u001b[0;32m----> 2\u001b[0m \u001b[43mos\u001b[49m\u001b[38;5;241;43m.\u001b[39;49m\u001b[43mmakedirs\u001b[49m\u001b[43m(\u001b[49m\u001b[43mCOUNTRIES_GAUGE_GROUPS_DIR\u001b[49m\u001b[43m)\u001b[49m\n\u001b[1;32m      4\u001b[0m \u001b[38;5;28;01mdef\u001b[39;00m \u001b[38;5;21msave_country_file\u001b[39m(country, basins):\n\u001b[1;32m      5\u001b[0m     country_string \u001b[38;5;241m=\u001b[39m country\u001b[38;5;241m.\u001b[39mlower()\n",
      "File \u001b[0;32m<frozen os>:225\u001b[0m, in \u001b[0;36mmakedirs\u001b[0;34m(name, mode, exist_ok)\u001b[0m\n",
      "\u001b[0;31mFileExistsError\u001b[0m: [Errno 17] File exists: '/home/gsnearing/github_repo/global_streamflow_model_paper/gauge_groups/dual_lstm/country_splits'"
     ]
    }
   ],
   "source": [
    "def save_country_file(country, basins):\n",
    "    country_string = country.lower()\n",
    "    country_string = country_string.replace(' ', '_')\n",
    "    country_string = country_string.replace('\\'', '')\n",
    "    country_string = country_string.replace('ã', 'a')\n",
    "    country_string = country_string.replace('é', 'e')\n",
    "    country_string = country_string.replace('í', 'i')\n",
    "    country_string = country_string.replace('ô', 'o')\n",
    "    filename = COUNTRIES_GAUGE_GROUPS_DIR / f'{country_string}.txt'\n",
    "    gauge_groups_utils.write_gauge_group(filename=filename, basins=basins)\n",
    "    return filename"
   ]
  },
  {
   "cell_type": "code",
   "execution_count": null,
   "metadata": {},
   "outputs": [],
   "source": [
    "COUNTRIES_GAUGE_GROUPS_DIR = data_paths.GAUGE_GROUPS_DIR / 'country_splits' \n",
    "os.makedirs(COUNTRIES_GAUGE_GROUPS_DIR)"
   ]
  },
  {
   "cell_type": "code",
   "execution_count": null,
   "metadata": {
    "id": "TYlIUNvrKM_C",
    "scrolled": false
   },
   "outputs": [],
   "source": [
    "countries = set(gauge_countries['Country'])\n",
    "for country in countries:\n",
    "    basins_in_country = [basin for basin, data in gauge_countries.iterrows() if data['Country'] == country]\n",
    "    print(country, len(basins_in_country))\n",
    "    filename = save_country_file(country=country, basins=basins_in_country)"
   ]
  },
  {
   "cell_type": "markdown",
   "metadata": {},
   "source": [
    "# Hydrologically Separated Basins"
   ]
  },
  {
   "cell_type": "markdown",
   "metadata": {},
   "source": [
    "## Helper Functions"
   ]
  },
  {
   "cell_type": "code",
   "execution_count": 23,
   "metadata": {},
   "outputs": [],
   "source": [
    "def split_in_two(x: list[int]):\n",
    "\n",
    "    x = random.sample(x, len(x))\n",
    "    maxx = x.pop(x.index(max(x)))\n",
    "    x.append(maxx)\n",
    "\n",
    "    idx = len(x) // 2\n",
    "    diff = abs(sum(x[:idx]) - sum(x[idx:]))\n",
    "    while abs(sum(x[:idx+1]) - sum(x[idx+1:])) < diff:\n",
    "        idx += 1\n",
    "        if idx == len(x):\n",
    "            break\n",
    "        diff = abs(sum(x[:idx]) - sum(x[idx:]))\n",
    "    while abs(sum(x[:idx-1]) - sum(x[idx-1:])) < diff:\n",
    "        idx -= 1\n",
    "        if idx == 0:\n",
    "            break\n",
    "        diff = abs(sum(x[:idx]) - sum(x[idx:]))\n",
    "    return x[:idx], x[idx:]\n",
    "\n",
    "\n",
    "def split_in_2n(\n",
    "    x: list[int],\n",
    "    n: int,\n",
    "    count: int = 1\n",
    ") -> tuple[list[list[int]], int]:\n",
    "\n",
    "    if np.log2(n) != int(np.log2(n)):\n",
    "        raise ValueError('Number of groups must be a power of 2.')\n",
    "    if count == 0 and len(x) < n:\n",
    "        raise ValueError('Number of groups is larger than number of elements in the list.')\n",
    "\n",
    "    if not isinstance(x[0], list):\n",
    "        x = split_in_two(x)\n",
    "\n",
    "    if count != np.log2(n):\n",
    "        return list(itertools.chain.from_iterable([split_in_2n(xi, n, count+1) for xi in x]))\n",
    "    else:\n",
    "        return x"
   ]
  },
  {
   "cell_type": "markdown",
   "metadata": {},
   "source": [
    "## Separate"
   ]
  },
  {
   "cell_type": "code",
   "execution_count": 40,
   "metadata": {},
   "outputs": [
    {
     "name": "stderr",
     "output_type": "stream",
     "text": [
      "/home/gsnearing/github_repo/global_streamflow_model_paper/notebooks/backend/loading_utils.py:52: DtypeWarning: Columns (18,20,21,22,23,24,25,27) have mixed types. Specify dtype option on import or set low_memory=False.\n",
      "  return pd.read_csv(f, index_col='HYBAS_ID')\n"
     ]
    },
    {
     "name": "stdout",
     "output_type": "stream",
     "text": [
      "There are 5678 gauges in the metadata file.\n"
     ]
    }
   ],
   "source": [
    "# Load file with HyBAS metadata for all gauges.\n",
    "metadata = loading_utils.load_hydroatlas_info_file()\n",
    "\n",
    "# Pull gauges from the gauge group.\n",
    "metadata.set_index('unique_gauge_id', inplace=True)\n",
    "metadata = metadata.loc[[idx for idx in metadata.index if idx in full_gauge_group]];\n",
    "print(f'There are {metadata.shape[0]} gauges in the metadata file.');"
   ]
  },
  {
   "cell_type": "code",
   "execution_count": 43,
   "metadata": {},
   "outputs": [
    {
     "name": "stdout",
     "output_type": "stream",
     "text": [
      "There are 1294 terminal basins.\n"
     ]
    }
   ],
   "source": [
    "# Number of gauges in each terminal basin.\n",
    "terminal_basins = list(metadata['MAIN_BAS'].unique())\n",
    "gauge_counts = metadata['MAIN_BAS'].value_counts()\n",
    "print(f'There are {len(terminal_basins)} terminal basins.')"
   ]
  },
  {
   "cell_type": "code",
   "execution_count": 44,
   "metadata": {},
   "outputs": [],
   "source": [
    "# Create a pure counter of the terminal basin.\n",
    "for terminal_basin_idx, terminal_basin in enumerate(terminal_basins):\n",
    "    metadata.loc[metadata['MAIN_BAS'] == terminal_basin, 'terminal_basin_idx'] = terminal_basin_idx"
   ]
  },
  {
   "cell_type": "code",
   "execution_count": 45,
   "metadata": {},
   "outputs": [],
   "source": [
    "# Number of gauge groups -- must be a power of 2.\n",
    "num_gauge_groups = 2**3"
   ]
  },
  {
   "cell_type": "code",
   "execution_count": 50,
   "metadata": {},
   "outputs": [
    {
     "name": "stdout",
     "output_type": "stream",
     "text": [
      "There are 8 splits with [710, 709, 711, 709, 676, 739, 669, 755] gauges in each split (5678 total).\n",
      "-----------------------------------------------\n",
      "Split index: 0,  # HyBAS terminal IDs: 213,  # Gauges: 710\n",
      "Split index: 1,  # HyBAS terminal IDs: 248,  # Gauges: 709\n",
      "Split index: 2,  # HyBAS terminal IDs: 176,  # Gauges: 711\n",
      "Split index: 3,  # HyBAS terminal IDs: 179,  # Gauges: 709\n",
      "Split index: 4,  # HyBAS terminal IDs: 170,  # Gauges: 676\n",
      "Split index: 5,  # HyBAS terminal IDs: 92,  # Gauges: 739\n",
      "Split index: 6,  # HyBAS terminal IDs: 166,  # Gauges: 669\n",
      "Split index: 7,  # HyBAS terminal IDs: 50,  # Gauges: 755\n"
     ]
    }
   ],
   "source": [
    "# Create matched lists of the terminal HyBAS IDs and the gauges counts for each one.\n",
    "all_counts_list = [] #list(gauge_counts.values)\n",
    "all_hybas_ids_list = []#list(gauge_counts.keys())\n",
    "for hid, count in gauge_counts.items():\n",
    "    all_counts_list.append(count)\n",
    "    all_hybas_ids_list.append(hid)\n",
    "\n",
    "# Terminal HyBAS IDs are ordered by number of gauges that drain to each one.\n",
    "# Reordering these randomly reduces bias in the splitting algorithm.\n",
    "random_idx = list(range(len(gauge_counts)))\n",
    "random.shuffle(random_idx)\n",
    "all_counts_list = [all_counts_list[i] for i in random_idx]\n",
    "all_hybas_ids_list = [all_hybas_ids_list[i] for i in random_idx]\n",
    "\n",
    "# Split the gauge groups.\n",
    "counts_split = split_in_2n(all_counts_list, num_gauge_groups)\n",
    "counts_in_groups = [sum(split) for split in counts_split]\n",
    "print(f'There are {len(counts_split)} splits with '\n",
    "      f'{counts_in_groups} gauges in each split '\n",
    "      f'({sum(counts_in_groups)} total).')\n",
    "print('-----------------------------------------------')\n",
    "\n",
    "# Storage for which HyBAS ID and which gauges go into which split.\n",
    "split_hybas_id_mapper = {split_idx: [] for split_idx in range(num_gauge_groups)}\n",
    "gauges_in_split = {split_idx: [] for split_idx in split_hybas_id_mapper.keys()}\n",
    "\n",
    "# Loop through the splits to find HyBAS IDs and associated gauges for each split.\n",
    "for split_idx, split in enumerate(counts_split):\n",
    "\n",
    "    # Match HyBAS IDs to the splits.\n",
    "    for gauge_count in split:\n",
    "        idx = all_counts_list.index(gauge_count)\n",
    "        split_hybas_id_mapper[split_idx].append(all_hybas_ids_list[idx])\n",
    "        all_counts_list.pop(idx)\n",
    "        all_hybas_ids_list.pop(idx)\n",
    "\n",
    "    # Match gauges with terminating HyBAS IDs.\n",
    "    hybas_list = split_hybas_id_mapper[split_idx]\n",
    "    list_of_lists = [metadata[metadata['MAIN_BAS'] == hybas_id].index for hybas_id in hybas_list]\n",
    "    gauges_in_split[split_idx] = list(itertools.chain.from_iterable(list_of_lists))\n",
    "\n",
    "    # Store the split ID in the metadata dataframe.\n",
    "    metadata.loc[gauges_in_split[split_idx], 'split'] = split_idx\n",
    "\n",
    "    # Report to screen.\n",
    "    print(\n",
    "        f'Split index: {split_idx}, ',\n",
    "        f'# HyBAS terminal IDs: {len(hybas_list)}, ',\n",
    "        f'# Gauges: {len(gauges_in_split[split_idx])}',\n",
    "    )"
   ]
  },
  {
   "cell_type": "code",
   "execution_count": 52,
   "metadata": {},
   "outputs": [
    {
     "data": {
      "text/plain": [
       "Text(0, 0.5, 'Gauge Count')"
      ]
     },
     "execution_count": 52,
     "metadata": {},
     "output_type": "execute_result"
    },
    {
     "data": {
      "image/png": "[encoded data removed]",
      "text/plain": [
       "<Figure size 640x480 with 1 Axes>"
      ]
     },
     "metadata": {},
     "output_type": "display_data"
    }
   ],
   "source": [
    "plt.bar(\n",
    "    range(len(gauges_in_split)),\n",
    "    [len(g) for g in gauges_in_split.values()],\n",
    "    color=evaluation_utils.COLORS\n",
    ");\n",
    "plt.xticks(ticks=range(len(gauges_in_split)), labels=[int(g) for g in gauges_in_split.keys()])\n",
    "plt.title('Approximately Equal Gauge Counts')\n",
    "plt.xlabel('Gauge Group')\n",
    "plt.ylabel('Gauge Count')"
   ]
  },
  {
   "cell_type": "markdown",
   "metadata": {},
   "source": [
    "## Save Gauge Groups"
   ]
  },
  {
   "cell_type": "code",
   "execution_count": 54,
   "metadata": {},
   "outputs": [
    {
     "ename": "FileExistsError",
     "evalue": "[Errno 17] File exists: '/home/gsnearing/github_repo/global_streamflow_model_paper/gauge_groups/dual_lstm/hydrologically_separated'",
     "output_type": "error",
     "traceback": [
      "\u001b[0;31m---------------------------------------------------------------------------\u001b[0m",
      "\u001b[0;31mFileExistsError\u001b[0m                           Traceback (most recent call last)",
      "Cell \u001b[0;32mIn[54], line 2\u001b[0m\n\u001b[1;32m      1\u001b[0m HYDROLOGICALLY_SEPARATED_GAUGE_GROUPS_DIR \u001b[38;5;241m=\u001b[39m data_paths\u001b[38;5;241m.\u001b[39mGAUGE_GROUPS_DIR \u001b[38;5;241m/\u001b[39m \u001b[38;5;124m'\u001b[39m\u001b[38;5;124mhydrologically_separated\u001b[39m\u001b[38;5;124m'\u001b[39m \n\u001b[0;32m----> 2\u001b[0m \u001b[43mos\u001b[49m\u001b[38;5;241;43m.\u001b[39;49m\u001b[43mmakedirs\u001b[49m\u001b[43m(\u001b[49m\u001b[43mHYDROLOGICALLY_SEPARATED_GAUGE_GROUPS_DIR\u001b[49m\u001b[43m)\u001b[49m\n",
      "File \u001b[0;32m<frozen os>:225\u001b[0m, in \u001b[0;36mmakedirs\u001b[0;34m(name, mode, exist_ok)\u001b[0m\n",
      "\u001b[0;31mFileExistsError\u001b[0m: [Errno 17] File exists: '/home/gsnearing/github_repo/global_streamflow_model_paper/gauge_groups/dual_lstm/hydrologically_separated'"
     ]
    }
   ],
   "source": [
    "HYDROLOGICALLY_SEPARATED_GAUGE_GROUPS_DIR = data_paths.GAUGE_GROUPS_DIR / 'hydrologically_separated' \n",
    "os.makedirs(HYDROLOGICALLY_SEPARATED_GAUGE_GROUPS_DIR)"
   ]
  },
  {
   "cell_type": "code",
   "execution_count": 55,
   "metadata": {},
   "outputs": [],
   "source": [
    "for split_idx, gauges in gauges_in_split.items():\n",
    "    filename = HYDROLOGICALLY_SEPARATED_GAUGE_GROUPS_DIR / f'split_{split_idx}.txt'\n",
    "    gauge_groups_utils.write_gauge_group(filename=filename, basins=gauges)"
   ]
  },
  {
   "cell_type": "code",
   "execution_count": null,
   "metadata": {},
   "outputs": [],
   "source": []
  }
 ],
 "metadata": {
  "colab": {
   "last_runtime": {
    "build_target": "//intelligence/flood_forecasting/colab:notebook",
    "kind": "private"
   },
   "provenance": [],
   "toc_visible": true
  },
  "kernelspec": {
   "display_name": "Python 3 (ipykernel)",
   "language": "python",
   "name": "python3"
  },
  "language_info": {
   "codemirror_mode": {
    "name": "ipython",
    "version": 3
   },
   "file_extension": ".py",
   "mimetype": "text/x-python",
   "name": "python",
   "nbconvert_exporter": "python",
   "pygments_lexer": "ipython3",
   "version": "3.11.4"
  }
 },
 "nbformat": 4,
 "nbformat_minor": 1
}
