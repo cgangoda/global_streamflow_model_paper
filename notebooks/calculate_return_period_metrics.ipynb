{
 "cells": [
  {
   "cell_type": "markdown",
   "metadata": {
    "id": "dzNFopjta4Ln"
   },
   "source": [
    "# Imports"
   ]
  },
  {
   "cell_type": "code",
   "execution_count": 1,
   "metadata": {},
   "outputs": [],
   "source": [
    "%load_ext autoreload\n",
    "%autoreload 2"
   ]
  },
  {
   "cell_type": "code",
   "execution_count": 2,
   "metadata": {
    "executionInfo": {
     "elapsed": 3755,
     "status": "ok",
     "timestamp": 1683956288771,
     "user": {
      "displayName": "Grey Nearing",
      "userId": "00389065855797486266"
     },
     "user_tz": 420
    },
    "id": "HGO-zC7TxOSg"
   },
   "outputs": [],
   "source": [
    "import pickle as pkl\n",
    "import xarray"
   ]
  },
  {
   "cell_type": "code",
   "execution_count": 3,
   "metadata": {
    "executionInfo": {
     "elapsed": 10376,
     "status": "ok",
     "timestamp": 1683956299494,
     "user": {
      "displayName": "Grey Nearing",
      "userId": "00389065855797486266"
     },
     "user_tz": 420
    },
    "id": "vMru6zQLMOVN"
   },
   "outputs": [],
   "source": [
    "from backend import data_paths\n",
    "from backend import evaluation_utils\n",
    "from backend import gauge_groups_utils\n",
    "from backend import loading_utils\n",
    "from backend import metrics_utils\n",
    "from backend import return_period_metrics"
   ]
  },
  {
   "cell_type": "code",
   "execution_count": 4,
   "metadata": {},
   "outputs": [],
   "source": [
    "RESTART = True"
   ]
  },
  {
   "cell_type": "markdown",
   "metadata": {
    "id": "PVucJMQLqcsd"
   },
   "source": [
    "# Load Data"
   ]
  },
  {
   "cell_type": "markdown",
   "metadata": {},
   "source": [
    "## Experiments"
   ]
  },
  {
   "cell_type": "code",
   "execution_count": 5,
   "metadata": {},
   "outputs": [],
   "source": [
    "GOOGLE_EXPERIMENTS = ['hydrologically_separated']\n",
    "GLOFAS_EXPERIMENTS = [metrics_utils.GLOFAS_VARIABLE]"
   ]
  },
  {
   "cell_type": "markdown",
   "metadata": {},
   "source": [
    "### GloFAS Data"
   ]
  },
  {
   "cell_type": "code",
   "execution_count": 6,
   "metadata": {},
   "outputs": [
    {
     "name": "stdout",
     "output_type": "stream",
     "text": [
      "There are 5678 gauges.\n"
     ]
    }
   ],
   "source": [
    "all_gauges = gauge_groups_utils.get_full_gauge_group()\n",
    "print(f'There are {len(all_gauges)} gauges.')"
   ]
  },
  {
   "cell_type": "code",
   "execution_count": 7,
   "metadata": {},
   "outputs": [],
   "source": [
    "glofas_model_runs = loading_utils.load_glofas_model_runs(gauges=all_gauges)"
   ]
  },
  {
   "cell_type": "code",
   "execution_count": 8,
   "metadata": {},
   "outputs": [],
   "source": [
    "glofas_gauges = set(glofas_model_runs.gauge_id.values)"
   ]
  },
  {
   "cell_type": "markdown",
   "metadata": {},
   "source": [
    "### Google Data"
   ]
  },
  {
   "cell_type": "code",
   "execution_count": 9,
   "metadata": {},
   "outputs": [
    {
     "name": "stdout",
     "output_type": "stream",
     "text": [
      "Working on experiment: hydrologically_separated\n"
     ]
    },
    {
     "name": "stderr",
     "output_type": "stream",
     "text": [
      "100%|█████████████████████████████████████████████████████████████████████████████████████████████████████████████████████████████████████████████████████████████████████████████████████████████████████████████████████| 4089/4089 [01:49<00:00, 37.28it/s]\n"
     ]
    }
   ],
   "source": [
    "google_model_runs = loading_utils.load_all_experimental_model_runs(\n",
    "    gauges=glofas_gauges,\n",
    "    experiments=GOOGLE_EXPERIMENTS\n",
    ")"
   ]
  },
  {
   "cell_type": "code",
   "execution_count": 10,
   "metadata": {},
   "outputs": [],
   "source": [
    "google_gauges = set(google_model_runs[GOOGLE_EXPERIMENTS[0]].gauge_id.values)"
   ]
  },
  {
   "cell_type": "markdown",
   "metadata": {},
   "source": [
    "### GRDC Data"
   ]
  },
  {
   "cell_type": "code",
   "execution_count": 12,
   "metadata": {},
   "outputs": [],
   "source": [
    "grdc_observation_data = loading_utils.load_grdc_data()"
   ]
  },
  {
   "cell_type": "markdown",
   "metadata": {},
   "source": [
    "## Overlapping Gauge Groups"
   ]
  },
  {
   "cell_type": "code",
   "execution_count": 13,
   "metadata": {},
   "outputs": [
    {
     "name": "stdout",
     "output_type": "stream",
     "text": [
      "There are 4084 gauges that exist for both models.\n"
     ]
    }
   ],
   "source": [
    "gauges = list(glofas_gauges.intersection(google_gauges))\n",
    "print(f'There are {len(gauges)} gauges that exist for both models.')"
   ]
  },
  {
   "cell_type": "markdown",
   "metadata": {},
   "source": [
    "# Time Periods"
   ]
  },
  {
   "cell_type": "code",
   "execution_count": 14,
   "metadata": {},
   "outputs": [],
   "source": [
    "google_validation_time_periods = {\n",
    "    gauge: ['2014-01-01', '2023-01-01'] for gauge in gauges\n",
    "}"
   ]
  },
  {
   "cell_type": "markdown",
   "metadata": {
    "id": "KOvnxnO5d_vD"
   },
   "source": [
    "# Google Model Metrics"
   ]
  },
  {
   "cell_type": "code",
   "execution_count": 15,
   "metadata": {},
   "outputs": [
    {
     "ename": "KeyboardInterrupt",
     "evalue": "",
     "output_type": "error",
     "traceback": [
      "\u001b[0;31m---------------------------------------------------------------------------\u001b[0m",
      "\u001b[0;31mKeyboardInterrupt\u001b[0m                         Traceback (most recent call last)",
      "Cell \u001b[0;32mIn[15], line 3\u001b[0m\n\u001b[1;32m      1\u001b[0m \u001b[38;5;66;03m# Add observation data to model run xarrays, and delete redundant varaible to save memory.\u001b[39;00m\n\u001b[1;32m      2\u001b[0m \u001b[38;5;28;01mfor\u001b[39;00m experiment \u001b[38;5;129;01min\u001b[39;00m google_model_runs\u001b[38;5;241m.\u001b[39mkeys():\n\u001b[0;32m----> 3\u001b[0m     google_model_runs[experiment] \u001b[38;5;241m=\u001b[39m \u001b[43mxarray\u001b[49m\u001b[38;5;241;43m.\u001b[39;49m\u001b[43mmerge\u001b[49m\u001b[43m(\u001b[49m\n\u001b[1;32m      4\u001b[0m \u001b[43m        \u001b[49m\u001b[43m[\u001b[49m\u001b[43mgoogle_model_runs\u001b[49m\u001b[43m[\u001b[49m\u001b[43mexperiment\u001b[49m\u001b[43m]\u001b[49m\u001b[43m,\u001b[49m\u001b[43m \u001b[49m\u001b[43mgrdc_observation_data\u001b[49m\u001b[43m]\u001b[49m\u001b[43m)\u001b[49m\n",
      "File \u001b[0;32m~/miniconda3/envs/global-modeling-paper/lib/python3.11/site-packages/xarray/core/merge.py:1025\u001b[0m, in \u001b[0;36mmerge\u001b[0;34m(objects, compat, join, fill_value, combine_attrs)\u001b[0m\n\u001b[1;32m   1022\u001b[0m     obj \u001b[38;5;241m=\u001b[39m obj\u001b[38;5;241m.\u001b[39mto_dataset(promote_attrs\u001b[38;5;241m=\u001b[39m\u001b[38;5;28;01mTrue\u001b[39;00m) \u001b[38;5;28;01mif\u001b[39;00m \u001b[38;5;28misinstance\u001b[39m(obj, DataArray) \u001b[38;5;28;01melse\u001b[39;00m obj\n\u001b[1;32m   1023\u001b[0m     dict_like_objects\u001b[38;5;241m.\u001b[39mappend(obj)\n\u001b[0;32m-> 1025\u001b[0m merge_result \u001b[38;5;241m=\u001b[39m \u001b[43mmerge_core\u001b[49m\u001b[43m(\u001b[49m\n\u001b[1;32m   1026\u001b[0m \u001b[43m    \u001b[49m\u001b[43mdict_like_objects\u001b[49m\u001b[43m,\u001b[49m\n\u001b[1;32m   1027\u001b[0m \u001b[43m    \u001b[49m\u001b[43mcompat\u001b[49m\u001b[43m,\u001b[49m\n\u001b[1;32m   1028\u001b[0m \u001b[43m    \u001b[49m\u001b[43mjoin\u001b[49m\u001b[43m,\u001b[49m\n\u001b[1;32m   1029\u001b[0m \u001b[43m    \u001b[49m\u001b[43mcombine_attrs\u001b[49m\u001b[38;5;241;43m=\u001b[39;49m\u001b[43mcombine_attrs\u001b[49m\u001b[43m,\u001b[49m\n\u001b[1;32m   1030\u001b[0m \u001b[43m    \u001b[49m\u001b[43mfill_value\u001b[49m\u001b[38;5;241;43m=\u001b[39;49m\u001b[43mfill_value\u001b[49m\u001b[43m,\u001b[49m\n\u001b[1;32m   1031\u001b[0m \u001b[43m\u001b[49m\u001b[43m)\u001b[49m\n\u001b[1;32m   1032\u001b[0m \u001b[38;5;28;01mreturn\u001b[39;00m Dataset\u001b[38;5;241m.\u001b[39m_construct_direct(\u001b[38;5;241m*\u001b[39m\u001b[38;5;241m*\u001b[39mmerge_result\u001b[38;5;241m.\u001b[39m_asdict())\n",
      "File \u001b[0;32m~/miniconda3/envs/global-modeling-paper/lib/python3.11/site-packages/xarray/core/merge.py:752\u001b[0m, in \u001b[0;36mmerge_core\u001b[0;34m(objects, compat, join, combine_attrs, priority_arg, explicit_coords, indexes, fill_value)\u001b[0m\n\u001b[1;32m    749\u001b[0m _assert_compat_valid(compat)\n\u001b[1;32m    751\u001b[0m coerced \u001b[38;5;241m=\u001b[39m coerce_pandas_values(objects)\n\u001b[0;32m--> 752\u001b[0m aligned \u001b[38;5;241m=\u001b[39m \u001b[43mdeep_align\u001b[49m\u001b[43m(\u001b[49m\n\u001b[1;32m    753\u001b[0m \u001b[43m    \u001b[49m\u001b[43mcoerced\u001b[49m\u001b[43m,\u001b[49m\u001b[43m \u001b[49m\u001b[43mjoin\u001b[49m\u001b[38;5;241;43m=\u001b[39;49m\u001b[43mjoin\u001b[49m\u001b[43m,\u001b[49m\u001b[43m \u001b[49m\u001b[43mcopy\u001b[49m\u001b[38;5;241;43m=\u001b[39;49m\u001b[38;5;28;43;01mFalse\u001b[39;49;00m\u001b[43m,\u001b[49m\u001b[43m \u001b[49m\u001b[43mindexes\u001b[49m\u001b[38;5;241;43m=\u001b[39;49m\u001b[43mindexes\u001b[49m\u001b[43m,\u001b[49m\u001b[43m \u001b[49m\u001b[43mfill_value\u001b[49m\u001b[38;5;241;43m=\u001b[39;49m\u001b[43mfill_value\u001b[49m\n\u001b[1;32m    754\u001b[0m \u001b[43m\u001b[49m\u001b[43m)\u001b[49m\n\u001b[1;32m    755\u001b[0m collected \u001b[38;5;241m=\u001b[39m collect_variables_and_indexes(aligned, indexes\u001b[38;5;241m=\u001b[39mindexes)\n\u001b[1;32m    756\u001b[0m prioritized \u001b[38;5;241m=\u001b[39m _get_priority_vars_and_indexes(aligned, priority_arg, compat\u001b[38;5;241m=\u001b[39mcompat)\n",
      "File \u001b[0;32m~/miniconda3/envs/global-modeling-paper/lib/python3.11/site-packages/xarray/core/alignment.py:835\u001b[0m, in \u001b[0;36mdeep_align\u001b[0;34m(objects, join, copy, indexes, exclude, raise_on_invalid, fill_value)\u001b[0m\n\u001b[1;32m    832\u001b[0m     \u001b[38;5;28;01melse\u001b[39;00m:\n\u001b[1;32m    833\u001b[0m         out\u001b[38;5;241m.\u001b[39mappend(variables)\n\u001b[0;32m--> 835\u001b[0m aligned \u001b[38;5;241m=\u001b[39m \u001b[43malign\u001b[49m\u001b[43m(\u001b[49m\n\u001b[1;32m    836\u001b[0m \u001b[43m    \u001b[49m\u001b[38;5;241;43m*\u001b[39;49m\u001b[43mtargets\u001b[49m\u001b[43m,\u001b[49m\n\u001b[1;32m    837\u001b[0m \u001b[43m    \u001b[49m\u001b[43mjoin\u001b[49m\u001b[38;5;241;43m=\u001b[39;49m\u001b[43mjoin\u001b[49m\u001b[43m,\u001b[49m\n\u001b[1;32m    838\u001b[0m \u001b[43m    \u001b[49m\u001b[43mcopy\u001b[49m\u001b[38;5;241;43m=\u001b[39;49m\u001b[43mcopy\u001b[49m\u001b[43m,\u001b[49m\n\u001b[1;32m    839\u001b[0m \u001b[43m    \u001b[49m\u001b[43mindexes\u001b[49m\u001b[38;5;241;43m=\u001b[39;49m\u001b[43mindexes\u001b[49m\u001b[43m,\u001b[49m\n\u001b[1;32m    840\u001b[0m \u001b[43m    \u001b[49m\u001b[43mexclude\u001b[49m\u001b[38;5;241;43m=\u001b[39;49m\u001b[43mexclude\u001b[49m\u001b[43m,\u001b[49m\n\u001b[1;32m    841\u001b[0m \u001b[43m    \u001b[49m\u001b[43mfill_value\u001b[49m\u001b[38;5;241;43m=\u001b[39;49m\u001b[43mfill_value\u001b[49m\u001b[43m,\u001b[49m\n\u001b[1;32m    842\u001b[0m \u001b[43m\u001b[49m\u001b[43m)\u001b[49m\n\u001b[1;32m    844\u001b[0m \u001b[38;5;28;01mfor\u001b[39;00m position, key, aligned_obj \u001b[38;5;129;01min\u001b[39;00m \u001b[38;5;28mzip\u001b[39m(positions, keys, aligned):\n\u001b[1;32m    845\u001b[0m     \u001b[38;5;28;01mif\u001b[39;00m key \u001b[38;5;129;01mis\u001b[39;00m no_key:\n",
      "File \u001b[0;32m~/miniconda3/envs/global-modeling-paper/lib/python3.11/site-packages/xarray/core/alignment.py:772\u001b[0m, in \u001b[0;36malign\u001b[0;34m(join, copy, indexes, exclude, fill_value, *objects)\u001b[0m\n\u001b[1;32m    576\u001b[0m \u001b[38;5;250m\u001b[39m\u001b[38;5;124;03m\"\"\"\u001b[39;00m\n\u001b[1;32m    577\u001b[0m \u001b[38;5;124;03mGiven any number of Dataset and/or DataArray objects, returns new\u001b[39;00m\n\u001b[1;32m    578\u001b[0m \u001b[38;5;124;03mobjects with aligned indexes and dimension sizes.\u001b[39;00m\n\u001b[0;32m   (...)\u001b[0m\n\u001b[1;32m    762\u001b[0m \n\u001b[1;32m    763\u001b[0m \u001b[38;5;124;03m\"\"\"\u001b[39;00m\n\u001b[1;32m    764\u001b[0m aligner \u001b[38;5;241m=\u001b[39m Aligner(\n\u001b[1;32m    765\u001b[0m     objects,\n\u001b[1;32m    766\u001b[0m     join\u001b[38;5;241m=\u001b[39mjoin,\n\u001b[0;32m   (...)\u001b[0m\n\u001b[1;32m    770\u001b[0m     fill_value\u001b[38;5;241m=\u001b[39mfill_value,\n\u001b[1;32m    771\u001b[0m )\n\u001b[0;32m--> 772\u001b[0m \u001b[43maligner\u001b[49m\u001b[38;5;241;43m.\u001b[39;49m\u001b[43malign\u001b[49m\u001b[43m(\u001b[49m\u001b[43m)\u001b[49m\n\u001b[1;32m    773\u001b[0m \u001b[38;5;28;01mreturn\u001b[39;00m aligner\u001b[38;5;241m.\u001b[39mresults\n",
      "File \u001b[0;32m~/miniconda3/envs/global-modeling-paper/lib/python3.11/site-packages/xarray/core/alignment.py:565\u001b[0m, in \u001b[0;36mAligner.align\u001b[0;34m(self)\u001b[0m\n\u001b[1;32m    563\u001b[0m     \u001b[38;5;28mself\u001b[39m\u001b[38;5;241m.\u001b[39moverride_indexes()\n\u001b[1;32m    564\u001b[0m \u001b[38;5;28;01melse\u001b[39;00m:\n\u001b[0;32m--> 565\u001b[0m     \u001b[38;5;28;43mself\u001b[39;49m\u001b[38;5;241;43m.\u001b[39;49m\u001b[43mreindex_all\u001b[49m\u001b[43m(\u001b[49m\u001b[43m)\u001b[49m\n",
      "File \u001b[0;32m~/miniconda3/envs/global-modeling-paper/lib/python3.11/site-packages/xarray/core/alignment.py:542\u001b[0m, in \u001b[0;36mAligner.reindex_all\u001b[0;34m(self)\u001b[0m\n\u001b[1;32m    541\u001b[0m \u001b[38;5;28;01mdef\u001b[39;00m \u001b[38;5;21mreindex_all\u001b[39m(\u001b[38;5;28mself\u001b[39m) \u001b[38;5;241m-\u001b[39m\u001b[38;5;241m>\u001b[39m \u001b[38;5;28;01mNone\u001b[39;00m:\n\u001b[0;32m--> 542\u001b[0m     \u001b[38;5;28mself\u001b[39m\u001b[38;5;241m.\u001b[39mresults \u001b[38;5;241m=\u001b[39m \u001b[38;5;28mtuple\u001b[39m(\n\u001b[1;32m    543\u001b[0m         \u001b[38;5;28mself\u001b[39m\u001b[38;5;241m.\u001b[39m_reindex_one(obj, matching_indexes)\n\u001b[1;32m    544\u001b[0m         \u001b[38;5;28;01mfor\u001b[39;00m obj, matching_indexes \u001b[38;5;129;01min\u001b[39;00m \u001b[38;5;28mzip\u001b[39m(\n\u001b[1;32m    545\u001b[0m             \u001b[38;5;28mself\u001b[39m\u001b[38;5;241m.\u001b[39mobjects, \u001b[38;5;28mself\u001b[39m\u001b[38;5;241m.\u001b[39mobjects_matching_indexes\n\u001b[1;32m    546\u001b[0m         )\n\u001b[1;32m    547\u001b[0m     )\n",
      "File \u001b[0;32m~/miniconda3/envs/global-modeling-paper/lib/python3.11/site-packages/xarray/core/alignment.py:543\u001b[0m, in \u001b[0;36m<genexpr>\u001b[0;34m(.0)\u001b[0m\n\u001b[1;32m    541\u001b[0m \u001b[38;5;28;01mdef\u001b[39;00m \u001b[38;5;21mreindex_all\u001b[39m(\u001b[38;5;28mself\u001b[39m) \u001b[38;5;241m-\u001b[39m\u001b[38;5;241m>\u001b[39m \u001b[38;5;28;01mNone\u001b[39;00m:\n\u001b[1;32m    542\u001b[0m     \u001b[38;5;28mself\u001b[39m\u001b[38;5;241m.\u001b[39mresults \u001b[38;5;241m=\u001b[39m \u001b[38;5;28mtuple\u001b[39m(\n\u001b[0;32m--> 543\u001b[0m         \u001b[38;5;28;43mself\u001b[39;49m\u001b[38;5;241;43m.\u001b[39;49m\u001b[43m_reindex_one\u001b[49m\u001b[43m(\u001b[49m\u001b[43mobj\u001b[49m\u001b[43m,\u001b[49m\u001b[43m \u001b[49m\u001b[43mmatching_indexes\u001b[49m\u001b[43m)\u001b[49m\n\u001b[1;32m    544\u001b[0m         \u001b[38;5;28;01mfor\u001b[39;00m obj, matching_indexes \u001b[38;5;129;01min\u001b[39;00m \u001b[38;5;28mzip\u001b[39m(\n\u001b[1;32m    545\u001b[0m             \u001b[38;5;28mself\u001b[39m\u001b[38;5;241m.\u001b[39mobjects, \u001b[38;5;28mself\u001b[39m\u001b[38;5;241m.\u001b[39mobjects_matching_indexes\n\u001b[1;32m    546\u001b[0m         )\n\u001b[1;32m    547\u001b[0m     )\n",
      "File \u001b[0;32m~/miniconda3/envs/global-modeling-paper/lib/python3.11/site-packages/xarray/core/alignment.py:529\u001b[0m, in \u001b[0;36mAligner._reindex_one\u001b[0;34m(self, obj, matching_indexes)\u001b[0m\n\u001b[1;32m    526\u001b[0m new_indexes, new_variables \u001b[38;5;241m=\u001b[39m \u001b[38;5;28mself\u001b[39m\u001b[38;5;241m.\u001b[39m_get_indexes_and_vars(obj, matching_indexes)\n\u001b[1;32m    527\u001b[0m dim_pos_indexers \u001b[38;5;241m=\u001b[39m \u001b[38;5;28mself\u001b[39m\u001b[38;5;241m.\u001b[39m_get_dim_pos_indexers(matching_indexes)\n\u001b[0;32m--> 529\u001b[0m new_obj \u001b[38;5;241m=\u001b[39m \u001b[43mobj\u001b[49m\u001b[38;5;241;43m.\u001b[39;49m\u001b[43m_reindex_callback\u001b[49m\u001b[43m(\u001b[49m\n\u001b[1;32m    530\u001b[0m \u001b[43m    \u001b[49m\u001b[38;5;28;43mself\u001b[39;49m\u001b[43m,\u001b[49m\n\u001b[1;32m    531\u001b[0m \u001b[43m    \u001b[49m\u001b[43mdim_pos_indexers\u001b[49m\u001b[43m,\u001b[49m\n\u001b[1;32m    532\u001b[0m \u001b[43m    \u001b[49m\u001b[43mnew_variables\u001b[49m\u001b[43m,\u001b[49m\n\u001b[1;32m    533\u001b[0m \u001b[43m    \u001b[49m\u001b[43mnew_indexes\u001b[49m\u001b[43m,\u001b[49m\n\u001b[1;32m    534\u001b[0m \u001b[43m    \u001b[49m\u001b[38;5;28;43mself\u001b[39;49m\u001b[38;5;241;43m.\u001b[39;49m\u001b[43mfill_value\u001b[49m\u001b[43m,\u001b[49m\n\u001b[1;32m    535\u001b[0m \u001b[43m    \u001b[49m\u001b[38;5;28;43mself\u001b[39;49m\u001b[38;5;241;43m.\u001b[39;49m\u001b[43mexclude_dims\u001b[49m\u001b[43m,\u001b[49m\n\u001b[1;32m    536\u001b[0m \u001b[43m    \u001b[49m\u001b[38;5;28;43mself\u001b[39;49m\u001b[38;5;241;43m.\u001b[39;49m\u001b[43mexclude_vars\u001b[49m\u001b[43m,\u001b[49m\n\u001b[1;32m    537\u001b[0m \u001b[43m\u001b[49m\u001b[43m)\u001b[49m\n\u001b[1;32m    538\u001b[0m new_obj\u001b[38;5;241m.\u001b[39mencoding \u001b[38;5;241m=\u001b[39m obj\u001b[38;5;241m.\u001b[39mencoding\n\u001b[1;32m    539\u001b[0m \u001b[38;5;28;01mreturn\u001b[39;00m new_obj\n",
      "File \u001b[0;32m~/miniconda3/envs/global-modeling-paper/lib/python3.11/site-packages/xarray/core/dataset.py:2821\u001b[0m, in \u001b[0;36mDataset._reindex_callback\u001b[0;34m(self, aligner, dim_pos_indexers, variables, indexes, fill_value, exclude_dims, exclude_vars)\u001b[0m\n\u001b[1;32m   2815\u001b[0m \u001b[38;5;28;01melse\u001b[39;00m:\n\u001b[1;32m   2816\u001b[0m     to_reindex \u001b[38;5;241m=\u001b[39m {\n\u001b[1;32m   2817\u001b[0m         k: v\n\u001b[1;32m   2818\u001b[0m         \u001b[38;5;28;01mfor\u001b[39;00m k, v \u001b[38;5;129;01min\u001b[39;00m \u001b[38;5;28mself\u001b[39m\u001b[38;5;241m.\u001b[39mvariables\u001b[38;5;241m.\u001b[39mitems()\n\u001b[1;32m   2819\u001b[0m         \u001b[38;5;28;01mif\u001b[39;00m k \u001b[38;5;129;01mnot\u001b[39;00m \u001b[38;5;129;01min\u001b[39;00m variables \u001b[38;5;129;01mand\u001b[39;00m k \u001b[38;5;129;01mnot\u001b[39;00m \u001b[38;5;129;01min\u001b[39;00m exclude_vars\n\u001b[1;32m   2820\u001b[0m     }\n\u001b[0;32m-> 2821\u001b[0m     reindexed_vars \u001b[38;5;241m=\u001b[39m \u001b[43malignment\u001b[49m\u001b[38;5;241;43m.\u001b[39;49m\u001b[43mreindex_variables\u001b[49m\u001b[43m(\u001b[49m\n\u001b[1;32m   2822\u001b[0m \u001b[43m        \u001b[49m\u001b[43mto_reindex\u001b[49m\u001b[43m,\u001b[49m\n\u001b[1;32m   2823\u001b[0m \u001b[43m        \u001b[49m\u001b[43mdim_pos_indexers\u001b[49m\u001b[43m,\u001b[49m\n\u001b[1;32m   2824\u001b[0m \u001b[43m        \u001b[49m\u001b[43mcopy\u001b[49m\u001b[38;5;241;43m=\u001b[39;49m\u001b[43maligner\u001b[49m\u001b[38;5;241;43m.\u001b[39;49m\u001b[43mcopy\u001b[49m\u001b[43m,\u001b[49m\n\u001b[1;32m   2825\u001b[0m \u001b[43m        \u001b[49m\u001b[43mfill_value\u001b[49m\u001b[38;5;241;43m=\u001b[39;49m\u001b[43mfill_value\u001b[49m\u001b[43m,\u001b[49m\n\u001b[1;32m   2826\u001b[0m \u001b[43m        \u001b[49m\u001b[43msparse\u001b[49m\u001b[38;5;241;43m=\u001b[39;49m\u001b[43maligner\u001b[49m\u001b[38;5;241;43m.\u001b[39;49m\u001b[43msparse\u001b[49m\u001b[43m,\u001b[49m\n\u001b[1;32m   2827\u001b[0m \u001b[43m    \u001b[49m\u001b[43m)\u001b[49m\n\u001b[1;32m   2828\u001b[0m     new_variables\u001b[38;5;241m.\u001b[39mupdate(reindexed_vars)\n\u001b[1;32m   2829\u001b[0m     new_coord_names \u001b[38;5;241m=\u001b[39m \u001b[38;5;28mself\u001b[39m\u001b[38;5;241m.\u001b[39m_coord_names \u001b[38;5;241m|\u001b[39m \u001b[38;5;28mset\u001b[39m(new_indexes)\n",
      "File \u001b[0;32m~/miniconda3/envs/global-modeling-paper/lib/python3.11/site-packages/xarray/core/alignment.py:87\u001b[0m, in \u001b[0;36mreindex_variables\u001b[0;34m(variables, dim_pos_indexers, copy, fill_value, sparse)\u001b[0m\n\u001b[1;32m     84\u001b[0m needs_masking \u001b[38;5;241m=\u001b[39m \u001b[38;5;28many\u001b[39m(d \u001b[38;5;129;01min\u001b[39;00m masked_dims \u001b[38;5;28;01mfor\u001b[39;00m d \u001b[38;5;129;01min\u001b[39;00m var\u001b[38;5;241m.\u001b[39mdims)\n\u001b[1;32m     86\u001b[0m \u001b[38;5;28;01mif\u001b[39;00m needs_masking:\n\u001b[0;32m---> 87\u001b[0m     new_var \u001b[38;5;241m=\u001b[39m \u001b[43mvar\u001b[49m\u001b[38;5;241;43m.\u001b[39;49m\u001b[43m_getitem_with_mask\u001b[49m\u001b[43m(\u001b[49m\u001b[43mindxr\u001b[49m\u001b[43m,\u001b[49m\u001b[43m \u001b[49m\u001b[43mfill_value\u001b[49m\u001b[38;5;241;43m=\u001b[39;49m\u001b[43mfill_value_\u001b[49m\u001b[43m)\u001b[49m\n\u001b[1;32m     88\u001b[0m \u001b[38;5;28;01melif\u001b[39;00m \u001b[38;5;28mall\u001b[39m(is_full_slice(k) \u001b[38;5;28;01mfor\u001b[39;00m k \u001b[38;5;129;01min\u001b[39;00m indxr):\n\u001b[1;32m     89\u001b[0m     \u001b[38;5;66;03m# no reindexing necessary\u001b[39;00m\n\u001b[1;32m     90\u001b[0m     \u001b[38;5;66;03m# here we need to manually deal with copying data, since\u001b[39;00m\n\u001b[1;32m     91\u001b[0m     \u001b[38;5;66;03m# we neither created a new ndarray nor used fancy indexing\u001b[39;00m\n\u001b[1;32m     92\u001b[0m     new_var \u001b[38;5;241m=\u001b[39m var\u001b[38;5;241m.\u001b[39mcopy(deep\u001b[38;5;241m=\u001b[39mcopy)\n",
      "File \u001b[0;32m~/miniconda3/envs/global-modeling-paper/lib/python3.11/site-packages/xarray/core/variable.py:908\u001b[0m, in \u001b[0;36mVariable._getitem_with_mask\u001b[0;34m(self, key, fill_value)\u001b[0m\n\u001b[1;32m    904\u001b[0m     mask \u001b[38;5;241m=\u001b[39m indexing\u001b[38;5;241m.\u001b[39mcreate_mask(indexer, \u001b[38;5;28mself\u001b[39m\u001b[38;5;241m.\u001b[39mshape, data)\n\u001b[1;32m    905\u001b[0m     \u001b[38;5;66;03m# we need to invert the mask in order to pass data first. This helps\u001b[39;00m\n\u001b[1;32m    906\u001b[0m     \u001b[38;5;66;03m# pint to choose the correct unit\u001b[39;00m\n\u001b[1;32m    907\u001b[0m     \u001b[38;5;66;03m# TODO: revert after https://github.com/hgrecco/pint/issues/1019 is fixed\u001b[39;00m\n\u001b[0;32m--> 908\u001b[0m     data \u001b[38;5;241m=\u001b[39m \u001b[43mduck_array_ops\u001b[49m\u001b[38;5;241;43m.\u001b[39;49m\u001b[43mwhere\u001b[49m\u001b[43m(\u001b[49m\u001b[43mnp\u001b[49m\u001b[38;5;241;43m.\u001b[39;49m\u001b[43mlogical_not\u001b[49m\u001b[43m(\u001b[49m\u001b[43mmask\u001b[49m\u001b[43m)\u001b[49m\u001b[43m,\u001b[49m\u001b[43m \u001b[49m\u001b[43mdata\u001b[49m\u001b[43m,\u001b[49m\u001b[43m \u001b[49m\u001b[43mfill_value\u001b[49m\u001b[43m)\u001b[49m\n\u001b[1;32m    909\u001b[0m \u001b[38;5;28;01melse\u001b[39;00m:\n\u001b[1;32m    910\u001b[0m     \u001b[38;5;66;03m# array cannot be indexed along dimensions of size 0, so just\u001b[39;00m\n\u001b[1;32m    911\u001b[0m     \u001b[38;5;66;03m# build the mask directly instead.\u001b[39;00m\n\u001b[1;32m    912\u001b[0m     mask \u001b[38;5;241m=\u001b[39m indexing\u001b[38;5;241m.\u001b[39mcreate_mask(indexer, \u001b[38;5;28mself\u001b[39m\u001b[38;5;241m.\u001b[39mshape)\n",
      "File \u001b[0;32m~/miniconda3/envs/global-modeling-paper/lib/python3.11/site-packages/xarray/core/duck_array_ops.py:296\u001b[0m, in \u001b[0;36mwhere\u001b[0;34m(condition, x, y)\u001b[0m\n\u001b[1;32m    294\u001b[0m \u001b[38;5;250m\u001b[39m\u001b[38;5;124;03m\"\"\"Three argument where() with better dtype promotion rules.\"\"\"\u001b[39;00m\n\u001b[1;32m    295\u001b[0m xp \u001b[38;5;241m=\u001b[39m get_array_namespace(condition)\n\u001b[0;32m--> 296\u001b[0m \u001b[38;5;28;01mreturn\u001b[39;00m \u001b[43mxp\u001b[49m\u001b[38;5;241;43m.\u001b[39;49m\u001b[43mwhere\u001b[49m\u001b[43m(\u001b[49m\u001b[43mcondition\u001b[49m\u001b[43m,\u001b[49m\u001b[43m \u001b[49m\u001b[38;5;241;43m*\u001b[39;49m\u001b[43mas_shared_dtype\u001b[49m\u001b[43m(\u001b[49m\u001b[43m[\u001b[49m\u001b[43mx\u001b[49m\u001b[43m,\u001b[49m\u001b[43m \u001b[49m\u001b[43my\u001b[49m\u001b[43m]\u001b[49m\u001b[43m,\u001b[49m\u001b[43m \u001b[49m\u001b[43mxp\u001b[49m\u001b[38;5;241;43m=\u001b[39;49m\u001b[43mxp\u001b[49m\u001b[43m)\u001b[49m\u001b[43m)\u001b[49m\n",
      "File \u001b[0;32m<__array_function__ internals>:200\u001b[0m, in \u001b[0;36mwhere\u001b[0;34m(*args, **kwargs)\u001b[0m\n",
      "\u001b[0;31mKeyboardInterrupt\u001b[0m: "
     ]
    }
   ],
   "source": [
    "# Add observation data to model run xarrays, and delete redundant varaible to save memory.\n",
    "for experiment in google_model_runs.keys():\n",
    "    google_model_runs[experiment] = xarray.merge(\n",
    "        [google_model_runs[experiment], grdc_observation_data])"
   ]
  },
  {
   "cell_type": "markdown",
   "metadata": {},
   "source": [
    "## Metrics: 2014 - Present"
   ]
  },
  {
   "cell_type": "code",
   "execution_count": null,
   "metadata": {},
   "outputs": [],
   "source": [
    "working_path = data_paths.GOOGLE_2014_RETURN_PERIOD_METRICS_DIR\n",
    "experiments = GOOGLE_EXPERIMENTS\n",
    "gauge_list = gauges\n",
    "ds_dict = google_model_runs\n",
    "evaluation_time_periods = google_validation_time_periods\n",
    "lead_times = None\n",
    "\n",
    "missing_gauges = return_period_metrics.compute_metrics(\n",
    "    restart=RESTART,\n",
    "    working_path=working_path,\n",
    "    experiments=experiments,\n",
    "    gauge_list=gauge_list,\n",
    "    sim_variable=metrics_utils.GOOGLE_VARIABLE,\n",
    "    obs_variable=metrics_utils.OBS_VARIABLE,\n",
    "    ds_dict=ds_dict,\n",
    "    evaluation_time_periods=evaluation_time_periods,\n",
    "    lead_times=lead_times\n",
    ")"
   ]
  },
  {
   "cell_type": "code",
   "execution_count": null,
   "metadata": {},
   "outputs": [],
   "source": [
    "for experiment in experiments:\n",
    "    print(f'Experiment {experiment} has {len(missing_gauges[experiment])} missing gauges.')"
   ]
  },
  {
   "cell_type": "code",
   "execution_count": null,
   "metadata": {},
   "outputs": [],
   "source": [
    "metrics = metrics_utils.load_metrics_df(\n",
    "    filepath=working_path / experiment / 'precision' / f'{gauges[0]}.csv')\n",
    "metrics"
   ]
  },
  {
   "cell_type": "markdown",
   "metadata": {
    "id": "8_gz12ner_iY"
   },
   "source": [
    "## Metrics: 1980 - Present"
   ]
  },
  {
   "cell_type": "code",
   "execution_count": null,
   "metadata": {
    "executionInfo": {
     "elapsed": 171999,
     "status": "ok",
     "timestamp": 1678974843460,
     "user": {
      "displayName": "Grey Nearing",
      "userId": "00389065855797486266"
     },
     "user_tz": -120
    },
    "id": "YNMuFv9zr_io",
    "outputId": "1ab0d24d-63b7-4cb0-c4d1-f2bd14df98f9"
   },
   "outputs": [],
   "source": [
    "working_path = data_paths.GOOGLE_1980_RETURN_PERIOD_METRICS_DIR\n",
    "experiments = GOOGLE_EXPERIMENTS\n",
    "gauge_list = gauges\n",
    "ds_dict = google_model_runs\n",
    "evaluation_time_periods = None\n",
    "lead_times = [0]\n",
    "\n",
    "missing_gauges = return_period_metrics.compute_metrics(\n",
    "    restart=RESTART,\n",
    "    working_path=working_path,\n",
    "    experiments=experiments,\n",
    "    gauge_list=gauge_list,\n",
    "    sim_variable=metrics_utils.GOOGLE_VARIABLE,\n",
    "    obs_variable=metrics_utils.OBS_VARIABLE,\n",
    "    ds_dict=ds_dict,\n",
    "    evaluation_time_periods=evaluation_time_periods,\n",
    "    lead_times=lead_times\n",
    ")"
   ]
  },
  {
   "cell_type": "code",
   "execution_count": null,
   "metadata": {},
   "outputs": [],
   "source": [
    "for experiment in experiments:\n",
    "    print(f'Experiment {experiment} has {len(missing_gauges[experiment])} missing gauges.')"
   ]
  },
  {
   "cell_type": "code",
   "execution_count": null,
   "metadata": {},
   "outputs": [],
   "source": [
    "metrics = metrics_utils.load_metrics_df(\n",
    "    filepath=working_path / experiment / 'precision' / f'{gauges[0]}.csv')\n",
    "metrics"
   ]
  },
  {
   "cell_type": "markdown",
   "metadata": {},
   "source": [
    "## Delete Variables to Clear Memory"
   ]
  },
  {
   "cell_type": "code",
   "execution_count": null,
   "metadata": {},
   "outputs": [],
   "source": [
    "del google_model_runs"
   ]
  },
  {
   "cell_type": "markdown",
   "metadata": {
    "id": "dIRc3y2R0xip"
   },
   "source": [
    "# GloFAS"
   ]
  },
  {
   "cell_type": "code",
   "execution_count": 22,
   "metadata": {},
   "outputs": [],
   "source": [
    "# Merge everything into one large xarray.\n",
    "# This xarray merge takes ... forever ...\n",
    "glofas_model_runs = xarray.merge(\n",
    "    [glofas_model_runs, grdc_observation_data.sel(lead_time=0)])"
   ]
  },
  {
   "cell_type": "markdown",
   "metadata": {},
   "source": [
    "## Metrics: 2014 - Present"
   ]
  },
  {
   "cell_type": "code",
   "execution_count": null,
   "metadata": {},
   "outputs": [],
   "source": [
    "working_path = data_paths.GLOFAS_2014_RETURN_PERIOD_METRICS_DIR\n",
    "experiments = GLOFAS_EXPERIMENTS\n",
    "gauge_list = gauges\n",
    "ds_dict = {metrics_utils.GLOFAS_VARIABLE: glofas_model_runs}\n",
    "evaluation_time_periods = google_validation_time_periods\n",
    "lead_times = [0]\n",
    "\n",
    "missing_gauges = return_period_metrics.compute_metrics(\n",
    "    restart=RESTART,\n",
    "    working_path=working_path,\n",
    "    experiments=experiments,\n",
    "    gauge_list=gauge_list,\n",
    "    sim_variable=metrics_utils.GLOFAS_VARIABLE,\n",
    "    obs_variable=metrics_utils.UNNORMALIZED_OBS_VARIABLE,\n",
    "    ds_dict=ds_dict,\n",
    "    evaluation_time_periods=evaluation_time_periods,\n",
    "    lead_times=lead_times\n",
    ")"
   ]
  },
  {
   "cell_type": "code",
   "execution_count": null,
   "metadata": {},
   "outputs": [],
   "source": [
    "for experiment in experiments:\n",
    "    print(f'Experiment {experiment} has {len(missing_gauges[experiment])} missing gauges.')"
   ]
  },
  {
   "cell_type": "code",
   "execution_count": null,
   "metadata": {},
   "outputs": [],
   "source": [
    "metrics = metrics_utils.load_metrics_df(\n",
    "    filepath=working_path / experiment / 'precision' / f'{gauges[0]}.csv')\n",
    "metrics"
   ]
  },
  {
   "cell_type": "markdown",
   "metadata": {},
   "source": [
    "## Metrics: 1980 - Present"
   ]
  },
  {
   "cell_type": "code",
   "execution_count": 23,
   "metadata": {},
   "outputs": [
    {
     "name": "stdout",
     "output_type": "stream",
     "text": [
      "Working on experiment: glofas_prediction ...\n"
     ]
    },
    {
     "name": "stderr",
     "output_type": "stream",
     "text": [
      "100%|█████████████████████████████████████████████████████████████████████████████████████████████████████████████████████████████████████████████████████████████████████████████████████████████████████████████████████| 4089/4089 [25:50<00:00,  2.64it/s]\n"
     ]
    }
   ],
   "source": [
    "working_path = data_paths.GLOFAS_1980_RETURN_PERIOD_METRICS_DIR\n",
    "experiments = GLOFAS_EXPERIMENTS\n",
    "gauge_list = gauges\n",
    "ds_dict = {metrics_utils.GLOFAS_VARIABLE: glofas_model_runs}\n",
    "evaluation_time_periods = None\n",
    "lead_times = [0]\n",
    "\n",
    "missing_gauges = return_period_metrics.compute_metrics(\n",
    "    restart=RESTART,\n",
    "    working_path=working_path,\n",
    "    experiments=experiments,\n",
    "    gauge_list=gauge_list,\n",
    "    sim_variable=metrics_utils.GLOFAS_VARIABLE,\n",
    "    obs_variable=metrics_utils.UNNORMALIZED_OBS_VARIABLE,\n",
    "    ds_dict=ds_dict,\n",
    "    evaluation_time_periods=evaluation_time_periods,\n",
    "    lead_times=lead_times\n",
    ")"
   ]
  },
  {
   "cell_type": "code",
   "execution_count": 24,
   "metadata": {},
   "outputs": [
    {
     "name": "stdout",
     "output_type": "stream",
     "text": [
      "Experiment glofas_prediction has 0 missing gauges.\n"
     ]
    }
   ],
   "source": [
    "for experiment in experiments:\n",
    "    print(f'Experiment {experiment} has {len(missing_gauges[experiment])} missing gauges.')"
   ]
  },
  {
   "cell_type": "code",
   "execution_count": 25,
   "metadata": {},
   "outputs": [
    {
     "data": {
      "text/html": [
       "<div>\n",
       "<style scoped>\n",
       "    .dataframe tbody tr th:only-of-type {\n",
       "        vertical-align: middle;\n",
       "    }\n",
       "\n",
       "    .dataframe tbody tr th {\n",
       "        vertical-align: top;\n",
       "    }\n",
       "\n",
       "    .dataframe thead th {\n",
       "        text-align: right;\n",
       "    }\n",
       "</style>\n",
       "<table border=\"1\" class=\"dataframe\">\n",
       "  <thead>\n",
       "    <tr style=\"text-align: right;\">\n",
       "      <th></th>\n",
       "      <th>Unnamed: 1</th>\n",
       "      <th>0</th>\n",
       "      <th>1</th>\n",
       "      <th>2</th>\n",
       "      <th>3</th>\n",
       "      <th>4</th>\n",
       "      <th>5</th>\n",
       "      <th>6</th>\n",
       "      <th>7</th>\n",
       "    </tr>\n",
       "  </thead>\n",
       "  <tbody>\n",
       "    <tr>\n",
       "      <th>1.01</th>\n",
       "      <td>0.0</td>\n",
       "      <td>0.165094</td>\n",
       "      <td>NaN</td>\n",
       "      <td>NaN</td>\n",
       "      <td>NaN</td>\n",
       "      <td>NaN</td>\n",
       "      <td>NaN</td>\n",
       "      <td>NaN</td>\n",
       "      <td>NaN</td>\n",
       "    </tr>\n",
       "    <tr>\n",
       "      <th>1.01</th>\n",
       "      <td>1.0</td>\n",
       "      <td>0.372642</td>\n",
       "      <td>NaN</td>\n",
       "      <td>NaN</td>\n",
       "      <td>NaN</td>\n",
       "      <td>NaN</td>\n",
       "      <td>NaN</td>\n",
       "      <td>NaN</td>\n",
       "      <td>NaN</td>\n",
       "    </tr>\n",
       "    <tr>\n",
       "      <th>1.01</th>\n",
       "      <td>2.0</td>\n",
       "      <td>0.421801</td>\n",
       "      <td>NaN</td>\n",
       "      <td>NaN</td>\n",
       "      <td>NaN</td>\n",
       "      <td>NaN</td>\n",
       "      <td>NaN</td>\n",
       "      <td>NaN</td>\n",
       "      <td>NaN</td>\n",
       "    </tr>\n",
       "    <tr>\n",
       "      <th>2.00</th>\n",
       "      <td>0.0</td>\n",
       "      <td>0.242424</td>\n",
       "      <td>NaN</td>\n",
       "      <td>NaN</td>\n",
       "      <td>NaN</td>\n",
       "      <td>NaN</td>\n",
       "      <td>NaN</td>\n",
       "      <td>NaN</td>\n",
       "      <td>NaN</td>\n",
       "    </tr>\n",
       "    <tr>\n",
       "      <th>2.00</th>\n",
       "      <td>1.0</td>\n",
       "      <td>0.363636</td>\n",
       "      <td>NaN</td>\n",
       "      <td>NaN</td>\n",
       "      <td>NaN</td>\n",
       "      <td>NaN</td>\n",
       "      <td>NaN</td>\n",
       "      <td>NaN</td>\n",
       "      <td>NaN</td>\n",
       "    </tr>\n",
       "    <tr>\n",
       "      <th>2.00</th>\n",
       "      <td>2.0</td>\n",
       "      <td>0.393939</td>\n",
       "      <td>NaN</td>\n",
       "      <td>NaN</td>\n",
       "      <td>NaN</td>\n",
       "      <td>NaN</td>\n",
       "      <td>NaN</td>\n",
       "      <td>NaN</td>\n",
       "      <td>NaN</td>\n",
       "    </tr>\n",
       "    <tr>\n",
       "      <th>5.00</th>\n",
       "      <td>0.0</td>\n",
       "      <td>0.272727</td>\n",
       "      <td>NaN</td>\n",
       "      <td>NaN</td>\n",
       "      <td>NaN</td>\n",
       "      <td>NaN</td>\n",
       "      <td>NaN</td>\n",
       "      <td>NaN</td>\n",
       "      <td>NaN</td>\n",
       "    </tr>\n",
       "    <tr>\n",
       "      <th>5.00</th>\n",
       "      <td>1.0</td>\n",
       "      <td>0.454545</td>\n",
       "      <td>NaN</td>\n",
       "      <td>NaN</td>\n",
       "      <td>NaN</td>\n",
       "      <td>NaN</td>\n",
       "      <td>NaN</td>\n",
       "      <td>NaN</td>\n",
       "      <td>NaN</td>\n",
       "    </tr>\n",
       "    <tr>\n",
       "      <th>5.00</th>\n",
       "      <td>2.0</td>\n",
       "      <td>0.454545</td>\n",
       "      <td>NaN</td>\n",
       "      <td>NaN</td>\n",
       "      <td>NaN</td>\n",
       "      <td>NaN</td>\n",
       "      <td>NaN</td>\n",
       "      <td>NaN</td>\n",
       "      <td>NaN</td>\n",
       "    </tr>\n",
       "    <tr>\n",
       "      <th>10.00</th>\n",
       "      <td>0.0</td>\n",
       "      <td>0.000000</td>\n",
       "      <td>NaN</td>\n",
       "      <td>NaN</td>\n",
       "      <td>NaN</td>\n",
       "      <td>NaN</td>\n",
       "      <td>NaN</td>\n",
       "      <td>NaN</td>\n",
       "      <td>NaN</td>\n",
       "    </tr>\n",
       "    <tr>\n",
       "      <th>10.00</th>\n",
       "      <td>1.0</td>\n",
       "      <td>0.750000</td>\n",
       "      <td>NaN</td>\n",
       "      <td>NaN</td>\n",
       "      <td>NaN</td>\n",
       "      <td>NaN</td>\n",
       "      <td>NaN</td>\n",
       "      <td>NaN</td>\n",
       "      <td>NaN</td>\n",
       "    </tr>\n",
       "    <tr>\n",
       "      <th>10.00</th>\n",
       "      <td>2.0</td>\n",
       "      <td>0.750000</td>\n",
       "      <td>NaN</td>\n",
       "      <td>NaN</td>\n",
       "      <td>NaN</td>\n",
       "      <td>NaN</td>\n",
       "      <td>NaN</td>\n",
       "      <td>NaN</td>\n",
       "      <td>NaN</td>\n",
       "    </tr>\n",
       "    <tr>\n",
       "      <th>20.00</th>\n",
       "      <td>0.0</td>\n",
       "      <td>0.333333</td>\n",
       "      <td>NaN</td>\n",
       "      <td>NaN</td>\n",
       "      <td>NaN</td>\n",
       "      <td>NaN</td>\n",
       "      <td>NaN</td>\n",
       "      <td>NaN</td>\n",
       "      <td>NaN</td>\n",
       "    </tr>\n",
       "    <tr>\n",
       "      <th>20.00</th>\n",
       "      <td>1.0</td>\n",
       "      <td>0.666667</td>\n",
       "      <td>NaN</td>\n",
       "      <td>NaN</td>\n",
       "      <td>NaN</td>\n",
       "      <td>NaN</td>\n",
       "      <td>NaN</td>\n",
       "      <td>NaN</td>\n",
       "      <td>NaN</td>\n",
       "    </tr>\n",
       "    <tr>\n",
       "      <th>20.00</th>\n",
       "      <td>2.0</td>\n",
       "      <td>0.666667</td>\n",
       "      <td>NaN</td>\n",
       "      <td>NaN</td>\n",
       "      <td>NaN</td>\n",
       "      <td>NaN</td>\n",
       "      <td>NaN</td>\n",
       "      <td>NaN</td>\n",
       "      <td>NaN</td>\n",
       "    </tr>\n",
       "    <tr>\n",
       "      <th>50.00</th>\n",
       "      <td>0.0</td>\n",
       "      <td>0.000000</td>\n",
       "      <td>NaN</td>\n",
       "      <td>NaN</td>\n",
       "      <td>NaN</td>\n",
       "      <td>NaN</td>\n",
       "      <td>NaN</td>\n",
       "      <td>NaN</td>\n",
       "      <td>NaN</td>\n",
       "    </tr>\n",
       "    <tr>\n",
       "      <th>50.00</th>\n",
       "      <td>1.0</td>\n",
       "      <td>0.000000</td>\n",
       "      <td>NaN</td>\n",
       "      <td>NaN</td>\n",
       "      <td>NaN</td>\n",
       "      <td>NaN</td>\n",
       "      <td>NaN</td>\n",
       "      <td>NaN</td>\n",
       "      <td>NaN</td>\n",
       "    </tr>\n",
       "    <tr>\n",
       "      <th>50.00</th>\n",
       "      <td>2.0</td>\n",
       "      <td>0.000000</td>\n",
       "      <td>NaN</td>\n",
       "      <td>NaN</td>\n",
       "      <td>NaN</td>\n",
       "      <td>NaN</td>\n",
       "      <td>NaN</td>\n",
       "      <td>NaN</td>\n",
       "      <td>NaN</td>\n",
       "    </tr>\n",
       "  </tbody>\n",
       "</table>\n",
       "</div>"
      ],
      "text/plain": [
       "       Unnamed: 1         0   1   2   3   4   5   6   7\n",
       "1.01          0.0  0.165094 NaN NaN NaN NaN NaN NaN NaN\n",
       "1.01          1.0  0.372642 NaN NaN NaN NaN NaN NaN NaN\n",
       "1.01          2.0  0.421801 NaN NaN NaN NaN NaN NaN NaN\n",
       "2.00          0.0  0.242424 NaN NaN NaN NaN NaN NaN NaN\n",
       "2.00          1.0  0.363636 NaN NaN NaN NaN NaN NaN NaN\n",
       "2.00          2.0  0.393939 NaN NaN NaN NaN NaN NaN NaN\n",
       "5.00          0.0  0.272727 NaN NaN NaN NaN NaN NaN NaN\n",
       "5.00          1.0  0.454545 NaN NaN NaN NaN NaN NaN NaN\n",
       "5.00          2.0  0.454545 NaN NaN NaN NaN NaN NaN NaN\n",
       "10.00         0.0  0.000000 NaN NaN NaN NaN NaN NaN NaN\n",
       "10.00         1.0  0.750000 NaN NaN NaN NaN NaN NaN NaN\n",
       "10.00         2.0  0.750000 NaN NaN NaN NaN NaN NaN NaN\n",
       "20.00         0.0  0.333333 NaN NaN NaN NaN NaN NaN NaN\n",
       "20.00         1.0  0.666667 NaN NaN NaN NaN NaN NaN NaN\n",
       "20.00         2.0  0.666667 NaN NaN NaN NaN NaN NaN NaN\n",
       "50.00         0.0  0.000000 NaN NaN NaN NaN NaN NaN NaN\n",
       "50.00         1.0  0.000000 NaN NaN NaN NaN NaN NaN NaN\n",
       "50.00         2.0  0.000000 NaN NaN NaN NaN NaN NaN NaN"
      ]
     },
     "execution_count": 25,
     "metadata": {},
     "output_type": "execute_result"
    }
   ],
   "source": [
    "metrics = metrics_utils.load_metrics_df(\n",
    "    filepath=working_path / experiment / 'precision' / f'{gauges[0]}.csv')\n",
    "metrics"
   ]
  },
  {
   "cell_type": "markdown",
   "metadata": {},
   "source": [
    "# Collect Return Period Metrics in Pickle Files"
   ]
  },
  {
   "cell_type": "code",
   "execution_count": 26,
   "metadata": {},
   "outputs": [],
   "source": [
    "_DATASET_RETURN_PERIOD_METRICS_PATH = {\n",
    "    'google_2014': data_paths.GOOGLE_2014_RETURN_PERIOD_METRICS_DIR,\n",
    "    'google_1980': data_paths.GOOGLE_1980_RETURN_PERIOD_METRICS_DIR,\n",
    "    'glofas_2014': data_paths.GLOFAS_2014_RETURN_PERIOD_METRICS_DIR,\n",
    "    'glofas_1980': data_paths.GLOFAS_1980_RETURN_PERIOD_METRICS_DIR,\n",
    "}"
   ]
  },
  {
   "cell_type": "code",
   "execution_count": 27,
   "metadata": {},
   "outputs": [
    {
     "name": "stdout",
     "output_type": "stream",
     "text": [
      "Working on google_2014 ...\n",
      "Working on experiment kfold_splits ...\n"
     ]
    },
    {
     "name": "stderr",
     "output_type": "stream",
     "text": [
      "100%|███████████████████████████████████████████████████████████████████████████████████████████████████████████████████████████████████████████████████████████████████████████████████████████████████████████████████| 4089/4089 [00:01<00:00, 3046.17it/s]\n"
     ]
    },
    {
     "name": "stdout",
     "output_type": "stream",
     "text": [
      "Working on experiment kfold_splits ...\n"
     ]
    },
    {
     "name": "stderr",
     "output_type": "stream",
     "text": [
      "100%|███████████████████████████████████████████████████████████████████████████████████████████████████████████████████████████████████████████████████████████████████████████████████████████████████████████████████| 4089/4089 [00:01<00:00, 3073.56it/s]\n"
     ]
    },
    {
     "name": "stdout",
     "output_type": "stream",
     "text": [
      "Finished with google_2014. \n",
      "\n",
      "Working on google_1980 ...\n",
      "Working on experiment kfold_splits ...\n"
     ]
    },
    {
     "name": "stderr",
     "output_type": "stream",
     "text": [
      "100%|████████████████████████████████████████████████████████████████████████████████████████████████████████████████████████████████████████████████████████████████████████████████████████████████████████████████████| 4089/4089 [00:18<00:00, 221.14it/s]\n"
     ]
    },
    {
     "name": "stdout",
     "output_type": "stream",
     "text": [
      "Working on experiment kfold_splits ...\n"
     ]
    },
    {
     "name": "stderr",
     "output_type": "stream",
     "text": [
      "100%|████████████████████████████████████████████████████████████████████████████████████████████████████████████████████████████████████████████████████████████████████████████████████████████████████████████████████| 4089/4089 [00:17<00:00, 237.82it/s]\n"
     ]
    },
    {
     "name": "stdout",
     "output_type": "stream",
     "text": [
      "Finished with google_1980. \n",
      "\n",
      "Working on glofas_2014 ...\n",
      "Working on experiment glofas_prediction ...\n"
     ]
    },
    {
     "name": "stderr",
     "output_type": "stream",
     "text": [
      "100%|███████████████████████████████████████████████████████████████████████████████████████████████████████████████████████████████████████████████████████████████████████████████████████████████████████████████████| 4089/4089 [00:01<00:00, 3085.14it/s]\n"
     ]
    },
    {
     "name": "stdout",
     "output_type": "stream",
     "text": [
      "Working on experiment glofas_prediction ...\n"
     ]
    },
    {
     "name": "stderr",
     "output_type": "stream",
     "text": [
      "100%|███████████████████████████████████████████████████████████████████████████████████████████████████████████████████████████████████████████████████████████████████████████████████████████████████████████████████| 4089/4089 [00:01<00:00, 3081.17it/s]\n"
     ]
    },
    {
     "name": "stdout",
     "output_type": "stream",
     "text": [
      "Finished with glofas_2014. \n",
      "\n",
      "Working on glofas_1980 ...\n",
      "Working on experiment glofas_prediction ...\n"
     ]
    },
    {
     "name": "stderr",
     "output_type": "stream",
     "text": [
      "100%|████████████████████████████████████████████████████████████████████████████████████████████████████████████████████████████████████████████████████████████████████████████████████████████████████████████████████| 4089/4089 [00:17<00:00, 236.95it/s]\n"
     ]
    },
    {
     "name": "stdout",
     "output_type": "stream",
     "text": [
      "Working on experiment glofas_prediction ...\n"
     ]
    },
    {
     "name": "stderr",
     "output_type": "stream",
     "text": [
      "100%|████████████████████████████████████████████████████████████████████████████████████████████████████████████████████████████████████████████████████████████████████████████████████████████████████████████████████| 4089/4089 [00:17<00:00, 237.54it/s]\n"
     ]
    },
    {
     "name": "stdout",
     "output_type": "stream",
     "text": [
      "Finished with glofas_1980. \n",
      "\n"
     ]
    }
   ],
   "source": [
    "from backend import data_paths\n",
    "\n",
    "precisions_by_lead_time = {}\n",
    "recalls_by_lead_time = {}\n",
    "\n",
    "precisions_by_return_period = {}\n",
    "recalls_by_return_period = {}\n",
    "\n",
    "loading_utils.create_remote_folder_if_necessary(data_paths.CONCATENATED_RETURN_PERIOD_DICTS_DIR)\n",
    "\n",
    "for dataset, data_path in _DATASET_RETURN_PERIOD_METRICS_PATH.items():\n",
    "\n",
    "    print(f'Working on {dataset} ...')\n",
    "\n",
    "    file_path = data_paths.CONCATENATED_RETURN_PERIOD_DICTS_DIR / f'{dataset}_return_period_dicts.pkl'\n",
    "\n",
    "    if 'glofas' in dataset:\n",
    "        experiments = GLOFAS_EXPERIMENTS\n",
    "    else:\n",
    "        experiments = GOOGLE_EXPERIMENTS\n",
    "\n",
    "    precisions_by_lead_time[dataset] = evaluation_utils.load_return_period_metrics(\n",
    "        base_path=data_path,\n",
    "        experiments=experiments,\n",
    "        gauges=gauges,\n",
    "        metric='precision'\n",
    "    )\n",
    "    recalls_by_lead_time[dataset] = evaluation_utils.load_return_period_metrics(\n",
    "        base_path=data_path,\n",
    "        experiments=experiments,\n",
    "        gauges=gauges,\n",
    "        metric='recall'\n",
    "    )\n",
    "\n",
    "    with open(file_path, 'wb') as f:\n",
    "        pkl.dump(\n",
    "            [\n",
    "                precisions_by_lead_time[dataset],\n",
    "                recalls_by_lead_time[dataset],\n",
    "            ], f\n",
    "        )\n",
    "\n",
    "    print(f'Finished with {dataset}. \\n')"
   ]
  },
  {
   "cell_type": "code",
   "execution_count": null,
   "metadata": {},
   "outputs": [],
   "source": []
  }
 ],
 "metadata": {
  "colab": {
   "last_runtime": {
    "build_target": "//intelligence/flood_forecasting/colab:notebook",
    "kind": "private"
   },
   "provenance": [
    {
     "file_id": "18Q7SqYfIiUY2tbHk_wSE4xwAF53pF0bK",
     "timestamp": 1677256000296
    },
    {
     "file_id": "1U5lV5oB6crQAV7-OLTxegU4Dathhwd8Q",
     "timestamp": 1676807730788
    }
   ]
  },
  "kernelspec": {
   "display_name": "Python 3 (ipykernel)",
   "language": "python",
   "name": "python3"
  },
  "language_info": {
   "codemirror_mode": {
    "name": "ipython",
    "version": 3
   },
   "file_extension": ".py",
   "mimetype": "text/x-python",
   "name": "python",
   "nbconvert_exporter": "python",
   "pygments_lexer": "ipython3",
   "version": "3.11.4"
  }
 },
 "nbformat": 4,
 "nbformat_minor": 1
}
