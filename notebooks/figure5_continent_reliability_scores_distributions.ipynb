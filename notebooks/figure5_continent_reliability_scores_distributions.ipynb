{
 "cells": [
  {
   "cell_type": "markdown",
   "metadata": {
    "id": "dzNFopjta4Ln"
   },
   "source": [
    "# Imports"
   ]
  },
  {
   "cell_type": "code",
   "execution_count": 37,
   "metadata": {
    "executionInfo": {
     "elapsed": 4538,
     "status": "ok",
     "timestamp": 1686657068813,
     "user": {
      "displayName": "Grey Nearing",
      "userId": "00389065855797486266"
     },
     "user_tz": -180
    },
    "id": "2mIv77EiNGS3"
   },
   "outputs": [],
   "source": [
    "# # import itertools\n",
    "# # import matplotlib\n",
    "import matplotlib.pyplot as plt\n",
    "import pandas as pd\n",
    "# import numpy as np\n",
    "import pickle as pkl\n",
    "import seaborn as sns\n",
    "# # from sklearn.metrics import confusion_matrix\n",
    "# # from sklearn.metrics import precision_recall_fscore_support\n",
    "# # from sklearn.ensemble import RandomForestRegressor\n",
    "# # from sklearn.ensemble import RandomForestClassifier\n",
    "from scipy.stats import ttest_ind, ttest_rel, ranksums, wilcoxon\n",
    "# # import tqdm\n",
    "# # from typing import Optional\n",
    "# # import xarray"
   ]
  },
  {
   "cell_type": "code",
   "execution_count": 21,
   "metadata": {},
   "outputs": [
    {
     "name": "stdout",
     "output_type": "stream",
     "text": [
      "The autoreload extension is already loaded. To reload it, use:\n",
      "  %reload_ext autoreload\n"
     ]
    }
   ],
   "source": [
    "%load_ext autoreload\n",
    "%autoreload 2"
   ]
  },
  {
   "cell_type": "code",
   "execution_count": 22,
   "metadata": {
    "executionInfo": {
     "elapsed": 5599,
     "status": "ok",
     "timestamp": 1686657075040,
     "user": {
      "displayName": "Grey Nearing",
      "userId": "00389065855797486266"
     },
     "user_tz": -180
    },
    "id": "NKOTbNQx04-D"
   },
   "outputs": [],
   "source": [
    "from backend import data_paths\n",
    "from backend import evaluation_utils\n",
    "from backend import gauge_groups_utils\n",
    "# from backend import loading_utils\n",
    "# from backend import metrics_utils\n",
    "# from backend import return_period_metrics\n",
    "# from backend import skill_prediction_utils"
   ]
  },
  {
   "cell_type": "markdown",
   "metadata": {
    "id": "3DH4JNSQM7lD"
   },
   "source": [
    "# Load Return Period Metrics"
   ]
  },
  {
   "cell_type": "code",
   "execution_count": 23,
   "metadata": {
    "executionInfo": {
     "elapsed": 82,
     "status": "ok",
     "timestamp": 1686657081409,
     "user": {
      "displayName": "Grey Nearing",
      "userId": "00389065855797486266"
     },
     "user_tz": -180
    },
    "id": "r-Ipfs2Z_YWv"
   },
   "outputs": [],
   "source": [
    "_DATASET_RETURN_PERIOD_METRICS_PATH = {\n",
    "    'google_2014': data_paths.GOOGLE_2014_RETURN_PERIOD_METRICS_DIR,\n",
    "    'google_1980': data_paths.GOOGLE_1980_RETURN_PERIOD_METRICS_DIR,\n",
    "    'glofas_2014': data_paths.GLOFAS_v3_REANALYSIS_2014_RETURN_PERIOD_METRICS_DIR,\n",
    "    'glofas_1980': data_paths.GLOFAS_v3_REANALYSIS_1980_RETURN_PERIOD_METRICS_DIR,\n",
    "}"
   ]
  },
  {
   "cell_type": "code",
   "execution_count": 24,
   "metadata": {
    "executionInfo": {
     "elapsed": 5599,
     "status": "ok",
     "timestamp": 1686657075040,
     "user": {
      "displayName": "Grey Nearing",
      "userId": "00389065855797486266"
     },
     "user_tz": -180
    },
    "id": "NKOTbNQx04-D",
    "scrolled": true
   },
   "outputs": [
    {
     "name": "stdout",
     "output_type": "stream",
     "text": [
      "Working on google_2014 ...\n",
      "Finished loading google_2014. \n",
      "\n",
      "Working on google_1980 ...\n",
      "Finished loading google_1980. \n",
      "\n",
      "Working on glofas_2014 ...\n",
      "Finished loading glofas_2014. \n",
      "\n",
      "Working on glofas_1980 ...\n",
      "Finished loading glofas_1980. \n",
      "\n"
     ]
    }
   ],
   "source": [
    "from backend import data_paths\n",
    "from backend import evaluation_utils\n",
    "# from backend import gauge# Load Return Period Metrics\n",
    "\n",
    "_DATASET_RETURN_PERIOD_METRICS_PATH = {\n",
    "    'google_2014': data_paths.GOOGLE_2014_RETURN_PERIOD_METRICS_DIR,\n",
    "    'google_1980': data_paths.GOOGLE_1980_RETURN_PERIOD_METRICS_DIR,\n",
    "    'glofas_2014': data_paths.GLOFAS_v3_REANALYSIS_2014_RETURN_PERIOD_METRICS_DIR,\n",
    "    'glofas_1980': data_paths.GLOFAS_v3_REANALYSIS_1980_RETURN_PERIOD_METRICS_DIR,\n",
    "}\n",
    "\n",
    "precisions_by_lead_time = {}\n",
    "recalls_by_lead_time = {}\n",
    "\n",
    "precisions_by_return_period = {}\n",
    "recalls_by_return_period = {}\n",
    "\n",
    "for dataset, data_path in _DATASET_RETURN_PERIOD_METRICS_PATH.items():\n",
    "    print(f'Working on {dataset} ...')\n",
    "    file_path = data_paths.CONCATENATED_RETURN_PERIOD_DICTS_DIR / f'{dataset}_return_period_dicts.pkl'\n",
    "    with open(file_path, 'rb') as f:\n",
    "        precisions_by_lead_time[dataset], recalls_by_lead_time[dataset] = pkl.load(f)\n",
    "    print(f'Finished loading {dataset}. \\n')"
   ]
  },
  {
   "cell_type": "markdown",
   "metadata": {},
   "source": [
    "# Calculate F1 Scores from Precision & Recall"
   ]
  },
  {
   "cell_type": "code",
   "execution_count": 25,
   "metadata": {
    "executionInfo": {
     "elapsed": 920,
     "status": "ok",
     "timestamp": 1686657100636,
     "user": {
      "displayName": "Grey Nearing",
      "userId": "00389065855797486266"
     },
     "user_tz": -180
    },
    "id": "5gE4-QHOCwSC"
   },
   "outputs": [],
   "source": [
    "f1s_by_lead_time = {\n",
    "    dataset: {\n",
    "        experiment: {\n",
    "            lead_time:\n",
    "              evaluation_utils.f1_from_precision_and_recall_dfs(\n",
    "                  precision_df=precisions_by_lead_time[dataset][experiment][lead_time],\n",
    "                  recall_df=recalls_by_lead_time[dataset][experiment][lead_time]\n",
    "              ) for lead_time in data_paths.LEAD_TIMES\n",
    "        } for experiment in precisions_by_lead_time[dataset]\n",
    "    } for dataset in _DATASET_RETURN_PERIOD_METRICS_PATH\n",
    "}"
   ]
  },
  {
   "cell_type": "markdown",
   "metadata": {
    "id": "wWNyBx23-3zy"
   },
   "source": [
    "# Gauge Groups"
   ]
  },
  {
   "cell_type": "code",
   "execution_count": 30,
   "metadata": {},
   "outputs": [
    {
     "name": "stdout",
     "output_type": "stream",
     "text": [
      "There are 5678 gauges.\n"
     ]
    }
   ],
   "source": [
    "gauges = gauge_groups_utils.get_full_gauge_group()\n",
    "print(f'There are {len(gauges)} gauges.')"
   ]
  },
  {
   "cell_type": "code",
   "execution_count": 31,
   "metadata": {
    "executionInfo": {
     "elapsed": 1187,
     "status": "ok",
     "timestamp": 1686657078273,
     "user": {
      "displayName": "Grey Nearing",
      "userId": "00389065855797486266"
     },
     "user_tz": -180
    },
    "id": "FQq1T_gjTuKF",
    "outputId": "2562a054-8e51-4d83-8b9f-4f5d9d522b5b"
   },
   "outputs": [
    {
     "name": "stdout",
     "output_type": "stream",
     "text": [
      "Working on kfold_splits ...\n"
     ]
    },
    {
     "name": "stderr",
     "output_type": "stream",
     "text": [
      "100%|██████████████████████████████████████████████████████████████████████████████| 10/10 [00:00<00:00, 6657.63it/s]\n"
     ]
    },
    {
     "name": "stdout",
     "output_type": "stream",
     "text": [
      "Working on continent_splits ...\n"
     ]
    },
    {
     "name": "stderr",
     "output_type": "stream",
     "text": [
      "100%|████████████████████████████████████████████████████████████████████████████████| 6/6 [00:00<00:00, 2992.01it/s]\n"
     ]
    },
    {
     "name": "stdout",
     "output_type": "stream",
     "text": [
      "Working on climate_splits ...\n"
     ]
    },
    {
     "name": "stderr",
     "output_type": "stream",
     "text": [
      "100%|██████████████████████████████████████████████████████████████████████████████| 13/13 [00:00<00:00, 3609.08it/s]\n"
     ]
    }
   ],
   "source": [
    "ungauged_gauge_groups = gauge_groups_utils.load_all_ungauged_gauge_groups()"
   ]
  },
  {
   "cell_type": "markdown",
   "metadata": {},
   "source": [
    "# F1 Distributions over Continents"
   ]
  },
  {
   "cell_type": "code",
   "execution_count": 33,
   "metadata": {},
   "outputs": [],
   "source": [
    "# Assign continents to each gauge.\n",
    "continent_names = {split: split.replace('_', ' ').title() for split in ungauged_gauge_groups['continent_splits']}\n",
    "gauge_continent_df = pd.Series(index=gauges, dtype=str, name='Continent')\n",
    "for gauge in gauges:\n",
    "    continent = [continent for continent, split_gauges in ungauged_gauge_groups['continent_splits'].items() if gauge in split_gauges][0]\n",
    "    gauge_continent_df.loc[gauge] = continent_names[continent]"
   ]
  },
  {
   "cell_type": "code",
   "execution_count": 43,
   "metadata": {
    "colab": {
     "height": 423
    },
    "executionInfo": {
     "elapsed": 64,
     "status": "ok",
     "timestamp": 1686666627465,
     "user": {
      "displayName": "Grey Nearing",
      "userId": "00389065855797486266"
     },
     "user_tz": -180
    },
    "id": "sgU5cNdimwW6",
    "outputId": "ba7b40d6-4690-464f-f0db-5bf8bcdeb2b1"
   },
   "outputs": [
    {
     "data": {
      "image/png": "[encoded data removed]",
      "text/plain": [
       "<Figure size 1800x900 with 4 Axes>"
      ]
     },
     "metadata": {},
     "output_type": "display_data"
    }
   ],
   "source": [
    "lead_time = 0\n",
    "return_periods = evaluation_utils.RETURN_PERIODS[:-2]\n",
    "experiments = ['glofas_reanalysis', 'kfold_splits']\n",
    "experiment_names = {experiment: evaluation_utils.EXPERIMENT_NAMES[experiment] for experiment in experiments}\n",
    "split_names = {split: split.replace('_', ' ').title() for split in ungauged_gauge_groups['continent_splits']}\n",
    "\n",
    "metric = 'F1 Score'\n",
    "\n",
    "fig, axes = plt.subplots(2, 2, figsize=(18, 9))\n",
    "\n",
    "for ridx, (ax, return_period) in enumerate(zip(axes.flatten(), return_periods)):\n",
    "\n",
    "    if metric.lower() == 'precision':\n",
    "        plotdata = pd.concat(\n",
    "            [\n",
    "                gauge_continent_df,\n",
    "                precisions_by_lead_time['glofas_1980']['glofas_reanalysis'][lead_time][return_period].rename('glofas_reanalysis'),\n",
    "                precisions_by_lead_time['google_1980']['kfold_splits'][lead_time][return_period].rename('kfold_splits')\n",
    "            ], axis=1\n",
    "        ).dropna()\n",
    "    elif metric.lower() == 'recall':\n",
    "        plotdata = pd.concat(\n",
    "            [\n",
    "                gauge_continent_df,\n",
    "                recalls_by_lead_time['glofas_1980']['glofas_reanalysis'][lead_time][return_period].rename('glofas_reanalysis'),\n",
    "                recalls_by_lead_time['google_1980']['kfold_splits'][lead_time][return_period].rename('kfold_splits')\n",
    "            ], axis=1\n",
    "        ).dropna()\n",
    "    elif metric.lower() == 'f1 score':\n",
    "        plotdata = pd.concat(\n",
    "            [\n",
    "                gauge_continent_df,\n",
    "                f1s_by_lead_time['glofas_1980']['glofas_reanalysis'][lead_time][return_period].rename('glofas_reanalysis'),\n",
    "                f1s_by_lead_time['google_1980']['kfold_splits'][lead_time][return_period].rename('kfold_splits')\n",
    "            ], axis=1\n",
    "        ).dropna()\n",
    "    else:\n",
    "        raise ValueError('Unknown metric')\n",
    "\n",
    "    plotdata.rename(columns=experiment_names, inplace=True)\n",
    "    dd = pd.melt(\n",
    "        plotdata,\n",
    "        id_vars=['Continent'],\n",
    "        value_vars=experiment_names.values(),\n",
    "        var_name='Model',\n",
    "        value_name=metric\n",
    "    )\n",
    "    sns.boxplot(\n",
    "        data=dd,\n",
    "        x='Continent',\n",
    "        y=metric,\n",
    "        hue='Model',\n",
    "        ax=ax,\n",
    "        showfliers=False\n",
    "    )\n",
    "\n",
    "    ax.set_title(f'{int(return_period)}-Year Return Period Events 1984-2022')\n",
    "    ax.grid(c='#EEE')\n",
    "    ax.set_axisbelow(True)\n",
    "\n",
    "    if ax != axes.flatten()[0]:\n",
    "        ax.get_legend().remove()\n",
    "\n",
    "plt.tight_layout()\n",
    "\n",
    "evaluation_utils.save_figure(data_paths.CONTINENT_RELIABILITY_SCORES_DISTRIBUTIONS_FILENAME)"
   ]
  },
  {
   "cell_type": "markdown",
   "metadata": {},
   "source": [
    "# GloFAS Difference Between Continents"
   ]
  },
  {
   "cell_type": "markdown",
   "metadata": {},
   "source": [
    "## Precisions"
   ]
  },
  {
   "cell_type": "code",
   "execution_count": 54,
   "metadata": {},
   "outputs": [
    {
     "name": "stdout",
     "output_type": "stream",
     "text": [
      "--- return_period = 1.01-----------------------------------------------\n",
      "Continent\n",
      "Africa                0.253210\n",
      "Europe                0.382247\n",
      "North America         0.285695\n",
      "South America         0.282522\n",
      "South West Pacific    0.309222\n",
      "Name: glofas_reanalysis, dtype: float64\n",
      "0.33757398920920106\n",
      "--- return_period = 2-----------------------------------------------\n",
      "Continent\n",
      "Africa                0.255968\n",
      "Europe                0.371424\n",
      "North America         0.291130\n",
      "South America         0.224586\n",
      "South West Pacific    0.330688\n",
      "Name: glofas_reanalysis, dtype: float64\n",
      "0.39533815709438314\n",
      "--- return_period = 5-----------------------------------------------\n",
      "Continent\n",
      "Africa                0.211763\n",
      "Europe                0.290501\n",
      "North America         0.226703\n",
      "South America         0.178403\n",
      "South West Pacific    0.274284\n",
      "Name: glofas_reanalysis, dtype: float64\n",
      "0.38587931368746864\n",
      "--- return_period = 10-----------------------------------------------\n",
      "Continent\n",
      "Africa                0.150058\n",
      "Europe                0.232671\n",
      "North America         0.196245\n",
      "South America         0.141474\n",
      "South West Pacific    0.211263\n",
      "Name: glofas_reanalysis, dtype: float64\n",
      "0.39195529251784333\n",
      "--- return_period = 20-----------------------------------------------\n",
      "Continent\n",
      "Africa                0.133634\n",
      "Europe                0.189838\n",
      "North America         0.155306\n",
      "South America         0.076967\n",
      "South West Pacific    0.167318\n",
      "Name: glofas_reanalysis, dtype: float64\n",
      "0.5945653914044366\n",
      "--- return_period = 50-----------------------------------------------\n",
      "Continent\n",
      "Africa                0.071237\n",
      "Europe                0.122330\n",
      "North America         0.094112\n",
      "South America         0.055147\n",
      "South West Pacific    0.086667\n",
      "Name: glofas_reanalysis, dtype: float64\n",
      "0.5491929698708752\n"
     ]
    }
   ],
   "source": [
    "for return_period in evaluation_utils.RETURN_PERIODS:\n",
    "    df = pd.concat(\n",
    "        [\n",
    "            gauge_continent_df,\n",
    "            precisions_by_lead_time['glofas_1980']['glofas_reanalysis'][lead_time][return_period].rename('glofas_reanalysis'),\n",
    "        ], axis=1\n",
    "    ).dropna()\n",
    "\n",
    "    continent_means = df.groupby(['Continent'])['glofas_reanalysis'].mean()\n",
    "    \n",
    "    print(f'--- {return_period = }-----------------------------------------------')\n",
    "    print(continent_means)\n",
    "    \n",
    "    frac_diff = (continent_means.max() - continent_means.min()) / continent_means.max()\n",
    "    print(frac_diff)"
   ]
  },
  {
   "cell_type": "markdown",
   "metadata": {},
   "source": [
    "## Recalls"
   ]
  },
  {
   "cell_type": "code",
   "execution_count": 55,
   "metadata": {},
   "outputs": [
    {
     "name": "stdout",
     "output_type": "stream",
     "text": [
      "--- return_period = 1.01-----------------------------------------------\n",
      "Continent\n",
      "Africa                0.159012\n",
      "Europe                0.338362\n",
      "North America         0.236093\n",
      "South America         0.162268\n",
      "South West Pacific    0.242310\n",
      "Name: glofas_reanalysis, dtype: float64\n",
      "0.5300539871068305\n",
      "--- return_period = 2-----------------------------------------------\n",
      "Continent\n",
      "Africa                0.190297\n",
      "Europe                0.341745\n",
      "North America         0.252098\n",
      "South America         0.194756\n",
      "South West Pacific    0.320944\n",
      "Name: glofas_reanalysis, dtype: float64\n",
      "0.4431600333201582\n",
      "--- return_period = 5-----------------------------------------------\n",
      "Continent\n",
      "Africa                0.168238\n",
      "Europe                0.278983\n",
      "North America         0.220050\n",
      "South America         0.169345\n",
      "South West Pacific    0.280292\n",
      "Name: glofas_reanalysis, dtype: float64\n",
      "0.39977650676654675\n",
      "--- return_period = 10-----------------------------------------------\n",
      "Continent\n",
      "Africa                0.115283\n",
      "Europe                0.242876\n",
      "North America         0.202563\n",
      "South America         0.159809\n",
      "South West Pacific    0.215481\n",
      "Name: glofas_reanalysis, dtype: float64\n",
      "0.5253423270167005\n",
      "--- return_period = 20-----------------------------------------------\n",
      "Continent\n",
      "Africa                0.120151\n",
      "Europe                0.201567\n",
      "North America         0.183381\n",
      "South America         0.092946\n",
      "South West Pacific    0.178184\n",
      "Name: glofas_reanalysis, dtype: float64\n",
      "0.5388848320507483\n",
      "--- return_period = 50-----------------------------------------------\n",
      "Continent\n",
      "Africa                0.088710\n",
      "Europe                0.125225\n",
      "North America         0.140510\n",
      "South America         0.063218\n",
      "South West Pacific    0.119792\n",
      "Name: glofas_reanalysis, dtype: float64\n",
      "0.5500787912495366\n"
     ]
    }
   ],
   "source": [
    "for return_period in evaluation_utils.RETURN_PERIODS:\n",
    "    df = pd.concat(\n",
    "        [\n",
    "            gauge_continent_df,\n",
    "            recalls_by_lead_time['glofas_1980']['glofas_reanalysis'][lead_time][return_period].rename('glofas_reanalysis'),\n",
    "        ], axis=1\n",
    "    ).dropna()\n",
    "\n",
    "    continent_means = df.groupby(['Continent'])['glofas_reanalysis'].mean()\n",
    "    \n",
    "    print(f'--- {return_period = }-----------------------------------------------')\n",
    "    print(continent_means)\n",
    "    \n",
    "    frac_diff = (continent_means.max() - continent_means.min()) / continent_means.max()\n",
    "    print(frac_diff)"
   ]
  },
  {
   "cell_type": "markdown",
   "metadata": {},
   "source": [
    "## F1s"
   ]
  },
  {
   "cell_type": "code",
   "execution_count": 56,
   "metadata": {},
   "outputs": [
    {
     "name": "stdout",
     "output_type": "stream",
     "text": [
      "--- return_period = 1.01-----------------------------------------------\n",
      "Continent\n",
      "Africa                0.181422\n",
      "Europe                0.344759\n",
      "North America         0.244099\n",
      "South America         0.192472\n",
      "South West Pacific    0.255257\n",
      "Name: glofas_reanalysis, dtype: float64\n",
      "0.4737705982560068\n",
      "--- return_period = 2-----------------------------------------------\n",
      "Continent\n",
      "Africa                0.203080\n",
      "Europe                0.347060\n",
      "North America         0.261622\n",
      "South America         0.201963\n",
      "South West Pacific    0.314739\n",
      "Name: glofas_reanalysis, dtype: float64\n",
      "0.418075671268796\n",
      "--- return_period = 5-----------------------------------------------\n",
      "Continent\n",
      "Africa                0.194488\n",
      "Europe                0.276865\n",
      "North America         0.215750\n",
      "South America         0.163722\n",
      "South West Pacific    0.267153\n",
      "Name: glofas_reanalysis, dtype: float64\n",
      "0.40865840185954433\n",
      "--- return_period = 10-----------------------------------------------\n",
      "Continent\n",
      "Africa                0.151569\n",
      "Europe                0.235742\n",
      "North America         0.191852\n",
      "South America         0.137891\n",
      "South West Pacific    0.206379\n",
      "Name: glofas_reanalysis, dtype: float64\n",
      "0.4150769879702039\n",
      "--- return_period = 20-----------------------------------------------\n",
      "Continent\n",
      "Africa                0.175217\n",
      "Europe                0.204339\n",
      "North America         0.167965\n",
      "South America         0.087206\n",
      "South West Pacific    0.199482\n",
      "Name: glofas_reanalysis, dtype: float64\n",
      "0.5732293221338753\n",
      "--- return_period = 50-----------------------------------------------\n",
      "Continent\n",
      "Africa                0.192691\n",
      "Europe                0.222230\n",
      "North America         0.178387\n",
      "South America         0.119883\n",
      "South West Pacific    0.238519\n",
      "Name: glofas_reanalysis, dtype: float64\n",
      "0.49738476626348477\n"
     ]
    }
   ],
   "source": [
    "for return_period in evaluation_utils.RETURN_PERIODS:\n",
    "    df = pd.concat(\n",
    "        [\n",
    "            gauge_continent_df,\n",
    "            f1s_by_lead_time['glofas_1980']['glofas_reanalysis'][lead_time][return_period].rename('glofas_reanalysis'),\n",
    "        ], axis=1\n",
    "    ).dropna()\n",
    "\n",
    "    continent_means = df.groupby(['Continent'])['glofas_reanalysis'].mean()\n",
    "    \n",
    "    print(f'--- {return_period = }-----------------------------------------------')\n",
    "    print(continent_means)\n",
    "    \n",
    "    frac_diff = (continent_means.max() - continent_means.min()) / continent_means.max()\n",
    "    print(frac_diff)"
   ]
  },
  {
   "cell_type": "markdown",
   "metadata": {},
   "source": [
    "# Statistical Tests with GloFAS Europe"
   ]
  },
  {
   "cell_type": "code",
   "execution_count": 84,
   "metadata": {},
   "outputs": [
    {
     "name": "stdout",
     "output_type": "stream",
     "text": [
      "--- Test Against GloFAS Europe: metric ='precision' --- continent ='South America' --- return_period =1.01 ----\n",
      "RanksumsResult(statistic=5.270930853214563, pvalue=1.3573360199060508e-07)\n",
      "0.18466425105636386\n",
      "-------------------------------------------------------------------------------\n",
      "\n",
      "--- Test Against GloFAS Europe: metric ='precision' --- continent ='Africa' --- return_period =1.01 ----\n",
      "RanksumsResult(statistic=10.667693628652717, pvalue=1.4416024300009266e-26)\n",
      "0.32419812103588\n",
      "-------------------------------------------------------------------------------\n",
      "\n",
      "--- Test Against GloFAS Europe: metric ='precision' --- continent ='South America' --- return_period =2 ----\n",
      "RanksumsResult(statistic=4.591995780040085, pvalue=4.3902724811827615e-06)\n",
      "0.15690002382331558\n",
      "-------------------------------------------------------------------------------\n",
      "\n",
      "--- Test Against GloFAS Europe: metric ='precision' --- continent ='Africa' --- return_period =2 ----\n",
      "RanksumsResult(statistic=4.474824735525376, pvalue=7.647401668595818e-06)\n",
      "0.13371740321365683\n",
      "-------------------------------------------------------------------------------\n",
      "\n",
      "--- Test Against GloFAS Europe: metric ='recall' --- continent ='South America' --- return_period =1.01 ----\n",
      "RanksumsResult(statistic=5.859048681169152, pvalue=4.655262284106631e-09)\n",
      "0.1879516461016264\n",
      "-------------------------------------------------------------------------------\n",
      "\n",
      "--- Test Against GloFAS Europe: metric ='recall' --- continent ='Africa' --- return_period =1.01 ----\n",
      "RanksumsResult(statistic=10.316711264420153, pvalue=5.921684342671305e-25)\n",
      "0.3078934045352874\n",
      "-------------------------------------------------------------------------------\n",
      "\n",
      "--- Test Against GloFAS Europe: metric ='recall' --- continent ='Africa' --- return_period =2 ----\n",
      "RanksumsResult(statistic=5.740058441135453, pvalue=9.464388436443142e-09)\n",
      "0.18295863679591867\n",
      "-------------------------------------------------------------------------------\n",
      "\n",
      "--- Test Against GloFAS Europe: metric ='recall' --- continent ='Africa' --- return_period =5 ----\n",
      "RanksumsResult(statistic=2.9018201529405294, pvalue=0.0037100146628183737)\n",
      "0.10087557383867587\n",
      "-------------------------------------------------------------------------------\n",
      "\n",
      "--- Test Against GloFAS Europe: metric ='f1 score' --- continent ='South America' --- return_period =1.01 ----\n",
      "RanksumsResult(statistic=5.251336692139976, pvalue=1.509993753469286e-07)\n",
      "0.18001882268987215\n",
      "-------------------------------------------------------------------------------\n",
      "\n",
      "--- Test Against GloFAS Europe: metric ='f1 score' --- continent ='Africa' --- return_period =1.01 ----\n",
      "RanksumsResult(statistic=10.911476575419941, pvalue=1.0159263505302098e-27)\n",
      "0.32644181815687\n",
      "-------------------------------------------------------------------------------\n",
      "\n",
      "--- Test Against GloFAS Europe: metric ='f1 score' --- continent ='South America' --- return_period =2 ----\n",
      "RanksumsResult(statistic=2.893548915927932, pvalue=0.0038091495337988735)\n",
      "0.078454820131189\n",
      "-------------------------------------------------------------------------------\n",
      "\n",
      "--- Test Against GloFAS Europe: metric ='f1 score' --- continent ='Africa' --- return_period =2 ----\n",
      "RanksumsResult(statistic=6.145418651593661, pvalue=7.975287912232701e-10)\n",
      "0.19051943053369808\n",
      "-------------------------------------------------------------------------------\n",
      "\n"
     ]
    }
   ],
   "source": [
    "lead_time = 0\n",
    "return_periods = evaluation_utils.RETURN_PERIODS[:-2]\n",
    "experiments = ['glofas_reanalysis', 'kfold_splits']\n",
    "experiment_names = {experiment: evaluation_utils.EXPERIMENT_NAMES[experiment] for experiment in experiments}\n",
    "split_names = {split: split.replace('_', ' ').title() for split in ungauged_gauge_groups['continent_splits']}\n",
    "\n",
    "for metric in ['precision', 'recall', 'f1 score']:\n",
    "    for ridx, (ax, return_period) in enumerate(zip(axes.flatten(), return_periods)):\n",
    "\n",
    "        if metric.lower() == 'precision':\n",
    "            plotdata = pd.concat(\n",
    "                [\n",
    "                    gauge_continent_df,\n",
    "                    precisions_by_lead_time['glofas_1980']['glofas_reanalysis'][lead_time][return_period].rename('glofas_reanalysis'),\n",
    "                    precisions_by_lead_time['google_1980']['kfold_splits'][lead_time][return_period].rename('kfold_splits')\n",
    "                ], axis=1\n",
    "            ).dropna()\n",
    "        elif metric.lower() == 'recall':\n",
    "            plotdata = pd.concat(\n",
    "                [\n",
    "                    gauge_continent_df,\n",
    "                    recalls_by_lead_time['glofas_1980']['glofas_reanalysis'][lead_time][return_period].rename('glofas_reanalysis'),\n",
    "                    recalls_by_lead_time['google_1980']['kfold_splits'][lead_time][return_period].rename('kfold_splits')\n",
    "                ], axis=1\n",
    "            ).dropna()\n",
    "        elif metric.lower() == 'f1 score':\n",
    "            plotdata = pd.concat(\n",
    "                [\n",
    "                    gauge_continent_df,\n",
    "                    f1s_by_lead_time['glofas_1980']['glofas_reanalysis'][lead_time][return_period].rename('glofas_reanalysis'),\n",
    "                    f1s_by_lead_time['google_1980']['kfold_splits'][lead_time][return_period].rename('kfold_splits')\n",
    "                ], axis=1\n",
    "            ).dropna()\n",
    "        else:\n",
    "            raise ValueError('Unknown metric')\n",
    "\n",
    "        plotdata.rename(columns=experiment_names, inplace=True)\n",
    "        dd = pd.melt(plotdata, id_vars=['Continent'], value_vars=experiment_names.values(), var_name='Model', value_name=metric)\n",
    "\n",
    "        # Statistical tests over continents.\n",
    "        europe_glofas_df = dd.loc[(dd['Continent'] == 'Europe') & (dd['Model'] == evaluation_utils.EXPERIMENT_NAMES['glofas_reanalysis'])]\n",
    "        for continent in set(dd['Continent']):\n",
    "            continent_google_df = dd.loc[(dd['Continent'] == continent) & (dd['Model'] == evaluation_utils.EXPERIMENT_NAMES['kfold_splits'])]\n",
    "            stats = ranksums(europe_glofas_df[metric], continent_google_df[metric])\n",
    "\n",
    "            if stats.statistic > 0 and stats.pvalue < 1e-2:\n",
    "                print(f'--- Test Against GloFAS Europe: {metric =} --- {continent =} --- {return_period =} ----')\n",
    "                print(stats)\n",
    "                frac_diff = (europe_glofas_df[metric].mean() - continent_google_df[metric].mean()) / europe_glofas_df[metric].mean()\n",
    "                print(frac_diff)\n",
    "                print('-------------------------------------------------------------------------------\\n')"
   ]
  },
  {
   "cell_type": "code",
   "execution_count": 83,
   "metadata": {},
   "outputs": [
    {
     "data": {
      "text/plain": [
       "0.24062262524074218"
      ]
     },
     "execution_count": 83,
     "metadata": {},
     "output_type": "execute_result"
    }
   ],
   "source": []
  },
  {
   "cell_type": "markdown",
   "metadata": {},
   "source": [
    "# Continent-by-Continent Statistical Tests"
   ]
  },
  {
   "cell_type": "code",
   "execution_count": 81,
   "metadata": {},
   "outputs": [
    {
     "name": "stdout",
     "output_type": "stream",
     "text": [
      "--- Continent-to-Continent Test: metric='precision' --- continent='Africa' --- return_period=1.01 ----\n",
      "Mean Difference: 0.00511287913176367\n",
      "WilcoxonResult(statistic=42702.0, pvalue=0.27536593419158106)\n",
      "-------------------------------------------------------\n",
      "\n"
     ]
    }
   ],
   "source": [
    "lead_time = 0\n",
    "return_periods = evaluation_utils.RETURN_PERIODS[:-2]\n",
    "experiments = ['glofas_reanalysis', 'kfold_splits']\n",
    "experiment_names = {experiment: evaluation_utils.EXPERIMENT_NAMES[experiment] for experiment in experiments}\n",
    "split_names = {split: split.replace('_', ' ').title() for split in ungauged_gauge_groups['continent_splits']}\n",
    "\n",
    "for metric in ['precision', 'recall', 'f1 score']:\n",
    "    for ridx, (ax, return_period) in enumerate(zip(axes.flatten(), return_periods)):\n",
    "\n",
    "        if metric.lower() == 'precision':\n",
    "            plotdata = pd.concat(\n",
    "                [\n",
    "                    gauge_continent_df,\n",
    "                    precisions_by_lead_time['glofas_1980']['glofas_reanalysis'][lead_time][return_period].rename('glofas_reanalysis'),\n",
    "                    precisions_by_lead_time['google_1980']['kfold_splits'][lead_time][return_period].rename('kfold_splits')\n",
    "                ], axis=1\n",
    "            ).dropna()\n",
    "        elif metric.lower() == 'recall':\n",
    "            plotdata = pd.concat(\n",
    "                [\n",
    "                    gauge_continent_df,\n",
    "                    recalls_by_lead_time['glofas_1980']['glofas_reanalysis'][lead_time][return_period].rename('glofas_reanalysis'),\n",
    "                    recalls_by_lead_time['google_1980']['kfold_splits'][lead_time][return_period].rename('kfold_splits')\n",
    "                ], axis=1\n",
    "            ).dropna()\n",
    "        elif metric.lower() == 'f1 score':\n",
    "            plotdata = pd.concat(\n",
    "                [\n",
    "                    gauge_continent_df,\n",
    "                    f1s_by_lead_time['glofas_1980']['glofas_reanalysis'][lead_time][return_period].rename('glofas_reanalysis'),\n",
    "                    f1s_by_lead_time['google_1980']['kfold_splits'][lead_time][return_period].rename('kfold_splits')\n",
    "                ], axis=1\n",
    "            ).dropna()\n",
    "        else:\n",
    "            raise ValueError('Unknown metric')\n",
    "\n",
    "        plotdata.rename(columns=experiment_names, inplace=True)\n",
    "        dd = pd.melt(plotdata, id_vars=['Continent'], value_vars=experiment_names.values(), var_name='Model', value_name=metric)\n",
    "\n",
    "        # Statistical tests over continents.\n",
    "        for continent in set(dd['Continent']):\n",
    "            google_df = dd.loc[(dd['Continent'] == continent) & (\n",
    "                dd['Model'] == evaluation_utils.EXPERIMENT_NAMES['kfold_splits'])]\n",
    "            glofas_df = dd.loc[(dd['Continent'] == continent) & (\n",
    "                dd['Model'] == evaluation_utils.EXPERIMENT_NAMES['glofas_reanalysis'])]\n",
    "            mean_difference = google_df[metric].mean() - glofas_df[metric].mean()\n",
    "            stats = wilcoxon(google_df[metric], glofas_df[metric])\n",
    "            \n",
    "            if mean_difference < 0 or stats.pvalue > 1e-2:\n",
    "                print(f'--- Continent-to-Continent Test: {metric=} --- {continent=} --- {return_period=} ----')\n",
    "                print('Mean Difference:', mean_difference)\n",
    "                print(stats)\n",
    "                print('-------------------------------------------------------\\n')"
   ]
  },
  {
   "cell_type": "code",
   "execution_count": null,
   "metadata": {},
   "outputs": [],
   "source": []
  }
 ],
 "metadata": {
  "colab": {
   "last_runtime": {
    "build_target": "//intelligence/flood_forecasting/colab:notebook",
    "kind": "private"
   },
   "provenance": [
    {
     "file_id": "1U5lV5oB6crQAV7-OLTxegU4Dathhwd8Q",
     "timestamp": 1678011930641
    }
   ],
   "toc_visible": true
  },
  "kernelspec": {
   "display_name": "Python 3 (ipykernel)",
   "language": "python",
   "name": "python3"
  },
  "language_info": {
   "codemirror_mode": {
    "name": "ipython",
    "version": 3
   },
   "file_extension": ".py",
   "mimetype": "text/x-python",
   "name": "python",
   "nbconvert_exporter": "python",
   "pygments_lexer": "ipython3",
   "version": "3.11.4"
  }
 },
 "nbformat": 4,
 "nbformat_minor": 1
}
