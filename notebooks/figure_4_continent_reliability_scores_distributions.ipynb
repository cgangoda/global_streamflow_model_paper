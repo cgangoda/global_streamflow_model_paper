{
 "cells": [
  {
   "cell_type": "markdown",
   "metadata": {
    "id": "dzNFopjta4Ln"
   },
   "source": [
    "# Imports"
   ]
  },
  {
   "cell_type": "code",
   "execution_count": 1,
   "metadata": {},
   "outputs": [],
   "source": [
    "%load_ext autoreload\n",
    "%autoreload 2"
   ]
  },
  {
   "cell_type": "code",
   "execution_count": 2,
   "metadata": {
    "executionInfo": {
     "elapsed": 4538,
     "status": "ok",
     "timestamp": 1686657068813,
     "user": {
      "displayName": "Grey Nearing",
      "userId": "00389065855797486266"
     },
     "user_tz": -180
    },
    "id": "2mIv77EiNGS3"
   },
   "outputs": [],
   "source": [
    "import matplotlib.pyplot as plt\n",
    "import pandas as pd\n",
    "import pickle as pkl\n",
    "import seaborn as sns\n",
    "from scipy.stats import norm\n",
    "from scipy.stats import ranksums, wilcoxon"
   ]
  },
  {
   "cell_type": "code",
   "execution_count": 3,
   "metadata": {
    "executionInfo": {
     "elapsed": 5599,
     "status": "ok",
     "timestamp": 1686657075040,
     "user": {
      "displayName": "Grey Nearing",
      "userId": "00389065855797486266"
     },
     "user_tz": -180
    },
    "id": "NKOTbNQx04-D"
   },
   "outputs": [],
   "source": [
    "from backend import data_paths\n",
    "from backend import evaluation_utils\n",
    "from backend import gauge_groups_utils\n",
    "from backend import metrics_utils"
   ]
  },
  {
   "cell_type": "markdown",
   "metadata": {
    "id": "3DH4JNSQM7lD"
   },
   "source": [
    "# Load Return Period Metrics"
   ]
  },
  {
   "cell_type": "code",
   "execution_count": 4,
   "metadata": {
    "executionInfo": {
     "elapsed": 82,
     "status": "ok",
     "timestamp": 1686657081409,
     "user": {
      "displayName": "Grey Nearing",
      "userId": "00389065855797486266"
     },
     "user_tz": -180
    },
    "id": "r-Ipfs2Z_YWv"
   },
   "outputs": [],
   "source": [
    "_DATASET_RETURN_PERIOD_METRICS_PATH = {\n",
    "    'google_2014': data_paths.GOOGLE_2014_RETURN_PERIOD_METRICS_DIR,\n",
    "    'google_1980': data_paths.GOOGLE_1980_RETURN_PERIOD_METRICS_DIR,\n",
    "    'glofas_2014': data_paths.GLOFAS_2014_RETURN_PERIOD_METRICS_DIR,\n",
    "    'glofas_1980': data_paths.GLOFAS_1980_RETURN_PERIOD_METRICS_DIR,\n",
    "}"
   ]
  },
  {
   "cell_type": "code",
   "execution_count": 5,
   "metadata": {
    "executionInfo": {
     "elapsed": 5599,
     "status": "ok",
     "timestamp": 1686657075040,
     "user": {
      "displayName": "Grey Nearing",
      "userId": "00389065855797486266"
     },
     "user_tz": -180
    },
    "id": "NKOTbNQx04-D",
    "scrolled": true
   },
   "outputs": [
    {
     "name": "stdout",
     "output_type": "stream",
     "text": [
      "Working on google_2014 ...\n",
      "Finished loading google_2014. \n",
      "\n",
      "Working on google_1980 ...\n",
      "Finished loading google_1980. \n",
      "\n",
      "Working on glofas_2014 ...\n",
      "Finished loading glofas_2014. \n",
      "\n",
      "Working on glofas_1980 ...\n",
      "Finished loading glofas_1980. \n",
      "\n"
     ]
    }
   ],
   "source": [
    "precisions_by_lead_time = {}\n",
    "recalls_by_lead_time = {}\n",
    "\n",
    "precisions_by_return_period = {}\n",
    "recalls_by_return_period = {}\n",
    "\n",
    "for dataset, data_path in _DATASET_RETURN_PERIOD_METRICS_PATH.items():\n",
    "    print(f'Working on {dataset} ...')\n",
    "    file_path = data_paths.CONCATENATED_RETURN_PERIOD_DICTS_DIR / f'{dataset}_return_period_dicts.pkl'\n",
    "    with open(file_path, 'rb') as f:\n",
    "        precisions_by_lead_time[dataset], recalls_by_lead_time[dataset] = pkl.load(f)\n",
    "    print(f'Finished loading {dataset}. \\n')"
   ]
  },
  {
   "cell_type": "markdown",
   "metadata": {},
   "source": [
    "# Calculate F1 Scores from Precision & Recall"
   ]
  },
  {
   "cell_type": "code",
   "execution_count": 6,
   "metadata": {
    "executionInfo": {
     "elapsed": 920,
     "status": "ok",
     "timestamp": 1686657100636,
     "user": {
      "displayName": "Grey Nearing",
      "userId": "00389065855797486266"
     },
     "user_tz": -180
    },
    "id": "5gE4-QHOCwSC"
   },
   "outputs": [],
   "source": [
    "f1s_by_lead_time = {\n",
    "    dataset: {\n",
    "        experiment: {\n",
    "            lead_time:\n",
    "              evaluation_utils.f1_from_precision_and_recall_dfs(\n",
    "                  precision_df=precisions_by_lead_time[dataset][experiment][lead_time],\n",
    "                  recall_df=recalls_by_lead_time[dataset][experiment][lead_time]\n",
    "              ) for lead_time in data_paths.LEAD_TIMES\n",
    "        } for experiment in precisions_by_lead_time[dataset]\n",
    "    } for dataset in _DATASET_RETURN_PERIOD_METRICS_PATH\n",
    "}"
   ]
  },
  {
   "cell_type": "markdown",
   "metadata": {
    "id": "wWNyBx23-3zy"
   },
   "source": [
    "# Gauge Groups"
   ]
  },
  {
   "cell_type": "code",
   "execution_count": 7,
   "metadata": {},
   "outputs": [
    {
     "name": "stdout",
     "output_type": "stream",
     "text": [
      "There are 5678 gauges.\n"
     ]
    }
   ],
   "source": [
    "gauges = gauge_groups_utils.get_full_gauge_group()\n",
    "print(f'There are {len(gauges)} gauges.')"
   ]
  },
  {
   "cell_type": "code",
   "execution_count": 8,
   "metadata": {
    "executionInfo": {
     "elapsed": 1187,
     "status": "ok",
     "timestamp": 1686657078273,
     "user": {
      "displayName": "Grey Nearing",
      "userId": "00389065855797486266"
     },
     "user_tz": -180
    },
    "id": "FQq1T_gjTuKF",
    "outputId": "2562a054-8e51-4d83-8b9f-4f5d9d522b5b"
   },
   "outputs": [
    {
     "name": "stdout",
     "output_type": "stream",
     "text": [
      "Working on kfold_splits ...\n"
     ]
    },
    {
     "name": "stderr",
     "output_type": "stream",
     "text": [
      "100%|███████████████████████████████████████████████████████████████████████████████████████████████████████████████████████████████████████████████████████████████████████████████████████████████████████████████████████| 10/10 [00:00<00:00, 4639.72it/s]\n"
     ]
    },
    {
     "name": "stdout",
     "output_type": "stream",
     "text": [
      "Working on continent_splits ...\n"
     ]
    },
    {
     "name": "stderr",
     "output_type": "stream",
     "text": [
      "100%|█████████████████████████████████████████████████████████████████████████████████████████████████████████████████████████████████████████████████████████████████████████████████████████████████████████████████████████| 6/6 [00:00<00:00, 2337.09it/s]\n"
     ]
    },
    {
     "name": "stdout",
     "output_type": "stream",
     "text": [
      "Working on climate_splits ...\n"
     ]
    },
    {
     "name": "stderr",
     "output_type": "stream",
     "text": [
      "100%|███████████████████████████████████████████████████████████████████████████████████████████████████████████████████████████████████████████████████████████████████████████████████████████████████████████████████████| 13/13 [00:00<00:00, 5009.27it/s]\n"
     ]
    },
    {
     "name": "stdout",
     "output_type": "stream",
     "text": [
      "Working on hydrologically_separated ...\n"
     ]
    },
    {
     "name": "stderr",
     "output_type": "stream",
     "text": [
      "100%|█████████████████████████████████████████████████████████████████████████████████████████████████████████████████████████████████████████████████████████████████████████████████████████████████████████████████████████| 8/8 [00:00<00:00, 2673.23it/s]\n"
     ]
    }
   ],
   "source": [
    "ungauged_gauge_groups = gauge_groups_utils.load_all_ungauged_gauge_groups()"
   ]
  },
  {
   "cell_type": "markdown",
   "metadata": {},
   "source": [
    "# F1 Distributions over Continents"
   ]
  },
  {
   "cell_type": "code",
   "execution_count": 9,
   "metadata": {},
   "outputs": [],
   "source": [
    "# Assign continents to each gauge.\n",
    "continent_names = {split: split.replace('_', ' ').title() for split in ungauged_gauge_groups['continent_splits']}\n",
    "gauge_continent_df = pd.Series(index=gauges, dtype=str, name='Continent')\n",
    "for gauge in gauges:\n",
    "    continent = [continent for continent, split_gauges in ungauged_gauge_groups['continent_splits'].items() if gauge in split_gauges][0]\n",
    "    gauge_continent_df.loc[gauge] = continent_names[continent]"
   ]
  },
  {
   "cell_type": "code",
   "execution_count": 10,
   "metadata": {
    "colab": {
     "height": 423
    },
    "executionInfo": {
     "elapsed": 64,
     "status": "ok",
     "timestamp": 1686666627465,
     "user": {
      "displayName": "Grey Nearing",
      "userId": "00389065855797486266"
     },
     "user_tz": -180
    },
    "id": "sgU5cNdimwW6",
    "outputId": "ba7b40d6-4690-464f-f0db-5bf8bcdeb2b1"
   },
   "outputs": [
    {
     "name": "stderr",
     "output_type": "stream",
     "text": [
      "/tmp/ipykernel_389197/659895089.py:83: UserWarning: FixedFormatter should only be used together with FixedLocator\n",
      "  ax.set_yticklabels(\n",
      "/tmp/ipykernel_389197/659895089.py:83: UserWarning: FixedFormatter should only be used together with FixedLocator\n",
      "  ax.set_yticklabels(\n",
      "/tmp/ipykernel_389197/659895089.py:83: UserWarning: FixedFormatter should only be used together with FixedLocator\n",
      "  ax.set_yticklabels(\n",
      "/tmp/ipykernel_389197/659895089.py:83: UserWarning: FixedFormatter should only be used together with FixedLocator\n",
      "  ax.set_yticklabels(\n",
      "The PostScript backend does not support transparency; partially transparent artists will be rendered opaque.\n"
     ]
    },
    {
     "data": {
      "image/png": "[encoded data removed]",
      "text/plain": [
       "<Figure size 720.472x360.236 with 4 Axes>"
      ]
     },
     "metadata": {},
     "output_type": "display_data"
    }
   ],
   "source": [
    "lead_time = 0\n",
    "return_periods = evaluation_utils.RETURN_PERIODS[:-2]\n",
    "experiments = [metrics_utils.GLOFAS_VARIABLE, 'kfold_splits']\n",
    "experiment_names = {experiment: evaluation_utils.EXPERIMENT_NAMES[experiment] for experiment in experiments}\n",
    "split_names = {split: split.replace('_', ' ').title() for split in ungauged_gauge_groups['continent_splits']}\n",
    "\n",
    "metric = 'F1 Score'\n",
    "\n",
    "fig, axes = plt.subplots(\n",
    "    2, 2, \n",
    "    figsize=(\n",
    "        evaluation_utils.NATURE_FIG_SIZES['two_column'], \n",
    "        evaluation_utils.NATURE_FIG_SIZES['two_column']/2\n",
    "    )\n",
    ")\n",
    "\n",
    "for ridx, (ax, return_period) in enumerate(zip(axes.flatten(), return_periods)):\n",
    "\n",
    "    if metric.lower() == 'precision':\n",
    "        plotdata = pd.concat(\n",
    "            [\n",
    "                gauge_continent_df,\n",
    "                precisions_by_lead_time['glofas_1980'][metrics_utils.GLOFAS_VARIABLE][\n",
    "                    lead_time][return_period].rename(evaluation_utils.EXPERIMENT_NAMES[metrics_utils.GLOFAS_VARIABLE]),\n",
    "                precisions_by_lead_time['google_1980']['kfold_splits'][\n",
    "                    lead_time][return_period].rename(evaluation_utils.EXPERIMENT_NAMES['kfold_splits'])\n",
    "            ], axis=1\n",
    "        ).dropna()\n",
    "    elif metric.lower() == 'recall':\n",
    "        plotdata = pd.concat(\n",
    "            [\n",
    "                gauge_continent_df,\n",
    "                recalls_by_lead_time['glofas_1980'][metrics_utils.GLOFAS_VARIABLE][\n",
    "                    lead_time][return_period].rename(evaluation_utils.EXPERIMENT_NAMES[metrics_utils.GLOFAS_VARIABLE]),\n",
    "                recalls_by_lead_time['google_1980']['kfold_splits'][\n",
    "                    lead_time][return_period].rename(evaluation_utils.EXPERIMENT_NAMES['kfold_splits'])\n",
    "            ], axis=1\n",
    "        ).dropna()\n",
    "    elif metric.lower() == 'f1 score':\n",
    "        plotdata = pd.concat(\n",
    "            [\n",
    "                gauge_continent_df,\n",
    "                f1s_by_lead_time['glofas_1980'][metrics_utils.GLOFAS_VARIABLE][\n",
    "                    lead_time][return_period].rename(evaluation_utils.EXPERIMENT_NAMES[metrics_utils.GLOFAS_VARIABLE]),\n",
    "                f1s_by_lead_time['google_1980']['kfold_splits'][\n",
    "                    lead_time][return_period].rename(evaluation_utils.EXPERIMENT_NAMES['kfold_splits'])\n",
    "            ], axis=1\n",
    "        ).dropna()\n",
    "    else:\n",
    "        raise ValueError('Unknown metric')\n",
    "\n",
    "    # Add sample size to all continent names.    \n",
    "    continent_mapper = {}\n",
    "    for continent in set(plotdata['Continent'].values):\n",
    "        gauges_in_continent = plotdata.loc[plotdata['Continent'] == continent].index\n",
    "        plotdata.loc[gauges_in_continent, 'continent_with_sample_size'] = f'{continent} ({len(gauges_in_continent)})'\n",
    "    \n",
    "    plotdata.rename(columns=experiment_names, inplace=True)\n",
    "    dd = pd.melt(\n",
    "        plotdata,\n",
    "        id_vars=['continent_with_sample_size'],\n",
    "        value_vars=experiment_names.values(),\n",
    "        var_name='Model',\n",
    "        value_name=metric\n",
    "    )\n",
    "    sns.boxplot(\n",
    "        data=dd,\n",
    "        x='continent_with_sample_size',\n",
    "        y=metric,\n",
    "        hue='Model',\n",
    "        ax=ax,\n",
    "        showfliers=False,\n",
    "        linewidth=1\n",
    "    )\n",
    "    ax.set_ylim(-0.05, 1.0)\n",
    "    ax.set_xlabel(None)\n",
    "    ax.set_xticklabels(\n",
    "        ax.get_xticklabels(), \n",
    "        rotation=15, \n",
    "        fontsize=evaluation_utils.NATURE_FONT_SIZES['tick_labels'],\n",
    "        ha='right'\n",
    "    )\n",
    "    ax.set_yticklabels(\n",
    "        ax.get_yticklabels(), \n",
    "        fontsize=evaluation_utils.NATURE_FONT_SIZES['tick_labels'],\n",
    "    )\n",
    "    ax.set_title(\n",
    "        f'{int(return_period)}-Year Return Period Events 1984-2022', \n",
    "        fontsize=evaluation_utils.NATURE_FONT_SIZES['title']\n",
    "    )\n",
    "    ax.grid(c='#EEE')\n",
    "    ax.set_axisbelow(True)\n",
    "    \n",
    "    if ax in axes[:, 0]:\n",
    "        ax.set_ylabel(\n",
    "            'F1 Score', \n",
    "            fontsize=evaluation_utils.NATURE_FONT_SIZES['axis_label'],\n",
    "        )\n",
    "    else:\n",
    "        ax.set_ylabel(None)\n",
    "    \n",
    "    if ax != axes.flatten()[0]:\n",
    "        ax.get_legend().remove()\n",
    "    else:\n",
    "        ax.legend(\n",
    "            fontsize=evaluation_utils.NATURE_FONT_SIZES['legend'],\n",
    "            loc='upper left'\n",
    "        )\n",
    "\n",
    "\n",
    "plt.tight_layout()\n",
    "\n",
    "evaluation_utils.save_figure(data_paths.CONTINENT_RELIABILITY_SCORES_DISTRIBUTIONS_FILENAME)"
   ]
  },
  {
   "cell_type": "markdown",
   "metadata": {},
   "source": [
    "# GloFAS Difference Between Continents"
   ]
  },
  {
   "cell_type": "markdown",
   "metadata": {},
   "source": [
    "## Precisions -- GloFAS"
   ]
  },
  {
   "cell_type": "code",
   "execution_count": 11,
   "metadata": {},
   "outputs": [
    {
     "name": "stdout",
     "output_type": "stream",
     "text": [
      "--- return_period = 1.01-----------------------------------------------\n",
      "Continent\n",
      "Africa                0.266145\n",
      "Asia                  0.445563\n",
      "Europe                0.408796\n",
      "North America         0.349793\n",
      "South America         0.243575\n",
      "South West Pacific    0.347726\n",
      "Name: glofas_prediction, dtype: float64\n",
      "0.4533322960281054\n",
      "--- return_period = 2-----------------------------------------------\n",
      "Continent\n",
      "Africa                0.266393\n",
      "Asia                  0.353120\n",
      "Europe                0.413845\n",
      "North America         0.321386\n",
      "South America         0.205122\n",
      "South West Pacific    0.346001\n",
      "Name: glofas_prediction, dtype: float64\n",
      "0.5043502778394287\n",
      "--- return_period = 5-----------------------------------------------\n",
      "Continent\n",
      "Africa                0.175126\n",
      "Asia                  0.260630\n",
      "Europe                0.340994\n",
      "North America         0.253674\n",
      "South America         0.157522\n",
      "South West Pacific    0.303935\n",
      "Name: glofas_prediction, dtype: float64\n",
      "0.5380501670553528\n",
      "--- return_period = 10-----------------------------------------------\n",
      "Continent\n",
      "Africa                0.176890\n",
      "Asia                  0.186937\n",
      "Europe                0.278403\n",
      "North America         0.226505\n",
      "South America         0.132368\n",
      "South West Pacific    0.269378\n",
      "Name: glofas_prediction, dtype: float64\n",
      "0.5245446301053307\n",
      "--- return_period = 20-----------------------------------------------\n",
      "Continent\n",
      "Africa                0.112298\n",
      "Asia                  0.105372\n",
      "Europe                0.207520\n",
      "North America         0.203237\n",
      "South America         0.077504\n",
      "South West Pacific    0.192101\n",
      "Name: glofas_prediction, dtype: float64\n",
      "0.6265205670618763\n",
      "--- return_period = 50-----------------------------------------------\n",
      "Continent\n",
      "Africa                0.041667\n",
      "Asia                  0.000000\n",
      "Europe                0.116809\n",
      "North America         0.157671\n",
      "South America         0.018349\n",
      "South West Pacific    0.097531\n",
      "Name: glofas_prediction, dtype: float64\n",
      "1.0\n"
     ]
    }
   ],
   "source": [
    "for return_period in evaluation_utils.RETURN_PERIODS:\n",
    "    df = pd.concat(\n",
    "        [\n",
    "            gauge_continent_df,\n",
    "            precisions_by_lead_time['glofas_1980'][metrics_utils.GLOFAS_VARIABLE][\n",
    "                lead_time][return_period].rename(metrics_utils.GLOFAS_VARIABLE),\n",
    "        ], axis=1\n",
    "    ).dropna()\n",
    "\n",
    "    continent_means = df.groupby(['Continent'])[metrics_utils.GLOFAS_VARIABLE].mean()\n",
    "    \n",
    "    print(f'--- {return_period = }-----------------------------------------------')\n",
    "    print(continent_means)\n",
    "    \n",
    "    frac_diff = (continent_means.max() - continent_means.min()) / continent_means.max()\n",
    "    print(frac_diff)"
   ]
  },
  {
   "cell_type": "markdown",
   "metadata": {},
   "source": [
    "## Recalls -- GloFAS"
   ]
  },
  {
   "cell_type": "code",
   "execution_count": 12,
   "metadata": {},
   "outputs": [
    {
     "name": "stdout",
     "output_type": "stream",
     "text": [
      "--- return_period = 1.01-----------------------------------------------\n",
      "Continent\n",
      "Africa                0.207380\n",
      "Asia                  0.347690\n",
      "Europe                0.392804\n",
      "North America         0.305710\n",
      "South America         0.169673\n",
      "South West Pacific    0.321218\n",
      "Name: glofas_prediction, dtype: float64\n",
      "0.5680476803469697\n",
      "--- return_period = 2-----------------------------------------------\n",
      "Continent\n",
      "Africa                0.219794\n",
      "Asia                  0.303178\n",
      "Europe                0.381053\n",
      "North America         0.305025\n",
      "South America         0.186928\n",
      "South West Pacific    0.382396\n",
      "Name: glofas_prediction, dtype: float64\n",
      "0.5111661323097466\n",
      "--- return_period = 5-----------------------------------------------\n",
      "Continent\n",
      "Africa                0.172344\n",
      "Asia                  0.218744\n",
      "Europe                0.312225\n",
      "North America         0.260746\n",
      "South America         0.149646\n",
      "South West Pacific    0.328610\n",
      "Name: glofas_prediction, dtype: float64\n",
      "0.5446076628734473\n",
      "--- return_period = 10-----------------------------------------------\n",
      "Continent\n",
      "Africa                0.166445\n",
      "Asia                  0.160099\n",
      "Europe                0.283236\n",
      "North America         0.233597\n",
      "South America         0.124936\n",
      "South West Pacific    0.282203\n",
      "Name: glofas_prediction, dtype: float64\n",
      "0.5588960111417716\n",
      "--- return_period = 20-----------------------------------------------\n",
      "Continent\n",
      "Africa                0.128355\n",
      "Asia                  0.140110\n",
      "Europe                0.213319\n",
      "North America         0.201551\n",
      "South America         0.097079\n",
      "South West Pacific    0.232344\n",
      "Name: glofas_prediction, dtype: float64\n",
      "0.5821763874449934\n",
      "--- return_period = 50-----------------------------------------------\n",
      "Continent\n",
      "Africa                0.111111\n",
      "Asia                  0.000000\n",
      "Europe                0.123280\n",
      "North America         0.137767\n",
      "South America         0.016588\n",
      "South West Pacific    0.176707\n",
      "Name: glofas_prediction, dtype: float64\n",
      "1.0\n"
     ]
    }
   ],
   "source": [
    "for return_period in evaluation_utils.RETURN_PERIODS:\n",
    "    df = pd.concat(\n",
    "        [\n",
    "            gauge_continent_df,\n",
    "            recalls_by_lead_time['glofas_1980'][metrics_utils.GLOFAS_VARIABLE][\n",
    "                lead_time][return_period].rename(metrics_utils.GLOFAS_VARIABLE),\n",
    "        ], axis=1\n",
    "    ).dropna()\n",
    "\n",
    "    continent_means = df.groupby(['Continent'])[metrics_utils.GLOFAS_VARIABLE].mean()\n",
    "    \n",
    "    print(f'--- {return_period = }-----------------------------------------------')\n",
    "    print(continent_means)\n",
    "    \n",
    "    frac_diff = (continent_means.max() - continent_means.min()) / continent_means.max()\n",
    "    print(frac_diff)"
   ]
  },
  {
   "cell_type": "markdown",
   "metadata": {},
   "source": [
    "## F1s -- GloFAS"
   ]
  },
  {
   "cell_type": "code",
   "execution_count": 13,
   "metadata": {},
   "outputs": [
    {
     "name": "stdout",
     "output_type": "stream",
     "text": [
      "--- return_period = 1.01-----------------------------------------------\n",
      "Continent\n",
      "Africa                0.223651\n",
      "Asia                  0.367861\n",
      "Europe                0.384880\n",
      "North America         0.314270\n",
      "South America         0.184759\n",
      "South West Pacific    0.317280\n",
      "Name: glofas_prediction, dtype: float64\n",
      "0.5199554540198402\n",
      "--- return_period = 2-----------------------------------------------\n",
      "Continent\n",
      "Africa                0.224202\n",
      "Asia                  0.306398\n",
      "Europe                0.384619\n",
      "North America         0.305090\n",
      "South America         0.187560\n",
      "South West Pacific    0.349901\n",
      "Name: glofas_prediction, dtype: float64\n",
      "0.5123473192535595\n",
      "--- return_period = 5-----------------------------------------------\n",
      "Continent\n",
      "Africa                0.169748\n",
      "Asia                  0.241195\n",
      "Europe                0.319904\n",
      "North America         0.246691\n",
      "South America         0.147253\n",
      "South West Pacific    0.302418\n",
      "Name: glofas_prediction, dtype: float64\n",
      "0.5396960832531055\n",
      "--- return_period = 10-----------------------------------------------\n",
      "Continent\n",
      "Africa                0.182256\n",
      "Asia                  0.207510\n",
      "Europe                0.275797\n",
      "North America         0.222759\n",
      "South America         0.123200\n",
      "South West Pacific    0.268780\n",
      "Name: glofas_prediction, dtype: float64\n",
      "0.5532937840965215\n",
      "--- return_period = 20-----------------------------------------------\n",
      "Continent\n",
      "Africa                0.162482\n",
      "Asia                  0.228931\n",
      "Europe                0.219554\n",
      "North America         0.213799\n",
      "South America         0.085074\n",
      "South West Pacific    0.244981\n",
      "Name: glofas_prediction, dtype: float64\n",
      "0.65273367039964\n",
      "--- return_period = 50-----------------------------------------------\n",
      "Continent\n",
      "Africa                0.172414\n",
      "Asia                  0.000000\n",
      "Europe                0.208103\n",
      "North America         0.246088\n",
      "South America         0.032448\n",
      "South West Pacific    0.268027\n",
      "Name: glofas_prediction, dtype: float64\n",
      "1.0\n"
     ]
    }
   ],
   "source": [
    "for return_period in evaluation_utils.RETURN_PERIODS:\n",
    "    df = pd.concat(\n",
    "        [\n",
    "            gauge_continent_df,\n",
    "            f1s_by_lead_time['glofas_1980'][metrics_utils.GLOFAS_VARIABLE][lead_time][\n",
    "                return_period].rename(metrics_utils.GLOFAS_VARIABLE),\n",
    "        ], axis=1\n",
    "    ).dropna()\n",
    "\n",
    "    continent_means = df.groupby(['Continent'])[metrics_utils.GLOFAS_VARIABLE].mean()\n",
    "    \n",
    "    print(f'--- {return_period = }-----------------------------------------------')\n",
    "    print(continent_means)\n",
    "    \n",
    "    frac_diff = (continent_means.max() - continent_means.min()) / continent_means.max()\n",
    "    print(frac_diff)"
   ]
  },
  {
   "cell_type": "markdown",
   "metadata": {},
   "source": [
    "# F1s -- Google"
   ]
  },
  {
   "cell_type": "code",
   "execution_count": 14,
   "metadata": {},
   "outputs": [
    {
     "name": "stdout",
     "output_type": "stream",
     "text": [
      "--- return_period = 1.01-----------------------------------------------\n",
      "Continent\n",
      "Africa                0.238792\n",
      "Asia                  0.386659\n",
      "Europe                0.451811\n",
      "North America         0.371169\n",
      "South America         0.240308\n",
      "South West Pacific    0.397027\n",
      "Name: AI Model, dtype: float64\n",
      "0.47147793494230344 0.45181145950661866 0.23879232559516994\n",
      "--- return_period = 2-----------------------------------------------\n",
      "Continent\n",
      "Africa                0.292098\n",
      "Asia                  0.337328\n",
      "Europe                0.446643\n",
      "North America         0.406918\n",
      "South America         0.264263\n",
      "South West Pacific    0.511161\n",
      "Name: AI Model, dtype: float64\n",
      "0.483014075610495 0.511160716984942 0.2642628957820624\n",
      "--- return_period = 5-----------------------------------------------\n",
      "Continent\n",
      "Africa                0.262328\n",
      "Asia                  0.275652\n",
      "Europe                0.385691\n",
      "North America         0.357473\n",
      "South America         0.210967\n",
      "South West Pacific    0.456442\n",
      "Name: AI Model, dtype: float64\n",
      "0.5378020762045793 0.4564420003334015 0.21096654488712688\n",
      "--- return_period = 10-----------------------------------------------\n",
      "Continent\n",
      "Africa                0.258788\n",
      "Asia                  0.246920\n",
      "Europe                0.330756\n",
      "North America         0.325813\n",
      "South America         0.193897\n",
      "South West Pacific    0.387261\n",
      "Name: AI Model, dtype: float64\n",
      "0.4993110393954159 0.38726061926186506 0.19389711694131082\n",
      "--- return_period = 20-----------------------------------------------\n",
      "Continent\n",
      "Africa                0.256967\n",
      "Asia                  0.227083\n",
      "Europe                0.292428\n",
      "North America         0.296466\n",
      "South America         0.148546\n",
      "South West Pacific    0.368850\n",
      "Name: AI Model, dtype: float64\n",
      "0.5972722213294964 0.3688503803888419 0.14854629435576858\n",
      "--- return_period = 50-----------------------------------------------\n",
      "Continent\n",
      "Africa                0.357143\n",
      "Asia                  0.000000\n",
      "Europe                0.323686\n",
      "North America         0.388705\n",
      "South America         0.118616\n",
      "South West Pacific    0.514815\n",
      "Name: AI Model, dtype: float64\n",
      "1.0 0.5148148148148148 0.0\n"
     ]
    }
   ],
   "source": [
    "for return_period in evaluation_utils.RETURN_PERIODS:\n",
    "    df = pd.concat(\n",
    "        [\n",
    "            gauge_continent_df,\n",
    "            f1s_by_lead_time['google_1980']['kfold_splits'][\n",
    "                lead_time][return_period].rename(evaluation_utils.EXPERIMENT_NAMES['kfold_splits'])\n",
    "        ], axis=1\n",
    "    ).dropna()\n",
    "\n",
    "    continent_means = df.groupby(['Continent'])[evaluation_utils.EXPERIMENT_NAMES['kfold_splits']].mean()\n",
    "    \n",
    "    print(f'--- {return_period = }-----------------------------------------------')\n",
    "    print(continent_means)\n",
    "    \n",
    "    frac_diff = (continent_means.max() - continent_means.min()) / continent_means.max()\n",
    "    print(frac_diff, continent_means.max(), continent_means.min())"
   ]
  },
  {
   "cell_type": "markdown",
   "metadata": {},
   "source": [
    "# Statistical Tests with GloFAS Europe"
   ]
  },
  {
   "cell_type": "code",
   "execution_count": 15,
   "metadata": {},
   "outputs": [
    {
     "name": "stdout",
     "output_type": "stream",
     "text": [
      "--- Test Against GloFAS Europe: metric ='f1 score' --- continent ='Africa' --- return_period =1.01 ----\n",
      "RanksumsResult(statistic=12.853481353824257, pvalue=8.22248246776427e-38) -0.906562703909127\n",
      "0.40800312814316064\n",
      "-------------------------------------------------------------------------------\n",
      "\n",
      "--- Test Against GloFAS Europe: metric ='f1 score' --- continent ='South America' --- return_period =1.01 ----\n",
      "RanksumsResult(statistic=12.725764514658229, pvalue=4.252915789322636e-37) -0.7888755121336376\n",
      "0.36864375821368156\n",
      "-------------------------------------------------------------------------------\n",
      "\n",
      "--- Test Against GloFAS Europe: metric ='f1 score' --- continent ='Asia' --- return_period =2 ----\n",
      "RanksumsResult(statistic=3.2428841557988797, pvalue=0.001183263114857987) -0.2191790017310194\n",
      "0.11329270448552753\n",
      "-------------------------------------------------------------------------------\n",
      "\n",
      "--- Test Against GloFAS Europe: metric ='f1 score' --- continent ='Africa' --- return_period =2 ----\n",
      "RanksumsResult(statistic=7.6722302615387825, pvalue=1.6903115708182384e-14) -0.5253582268939119\n",
      "0.2565055067907289\n",
      "-------------------------------------------------------------------------------\n",
      "\n",
      "--- Test Against GloFAS Europe: metric ='f1 score' --- continent ='South America' --- return_period =2 ----\n",
      "RanksumsResult(statistic=10.54939562099885, pvalue=5.1124891069598604e-26) -0.6260123084296578\n",
      "0.3069081228352968\n",
      "-------------------------------------------------------------------------------\n",
      "\n",
      "--- Test Against GloFAS Europe: metric ='f1 score' --- continent ='Africa' --- return_period =5 ----\n",
      "RanksumsResult(statistic=3.651296184588493, pvalue=0.000260920120961255) -0.2715424693730273\n",
      "0.19470016242550062\n",
      "-------------------------------------------------------------------------------\n",
      "\n",
      "--- Test Against GloFAS Europe: metric ='f1 score' --- continent ='South America' --- return_period =5 ----\n",
      "RanksumsResult(statistic=7.374762721593547, pvalue=1.6463800934724058e-13) -0.4671200680512958\n",
      "0.31694028829631515\n",
      "-------------------------------------------------------------------------------\n",
      "\n",
      "--- Test Against GloFAS Europe: metric ='f1 score' --- continent ='South America' --- return_period =10 ----\n",
      "RanksumsResult(statistic=4.90611918867075, pvalue=9.28960869548892e-07) -0.31972251366377935\n",
      "0.28165088402895366\n",
      "-------------------------------------------------------------------------------\n",
      "\n"
     ]
    }
   ],
   "source": [
    "lead_time = 0\n",
    "return_periods = evaluation_utils.RETURN_PERIODS[:-2]\n",
    "experiments = [metrics_utils.GLOFAS_VARIABLE, 'kfold_splits']\n",
    "experiment_names = {experiment: evaluation_utils.EXPERIMENT_NAMES[experiment] for experiment in experiments}\n",
    "split_names = {split: split.replace('_', ' ').title() for split in ungauged_gauge_groups['continent_splits']}\n",
    "\n",
    "for metric in ['f1 score']: #['precision', 'recall', 'f1 score']:\n",
    "    for ridx, (ax, return_period) in enumerate(zip(axes.flatten(), return_periods)):\n",
    "\n",
    "        if metric.lower() == 'precision':\n",
    "            plotdata = pd.concat(\n",
    "                [\n",
    "                    gauge_continent_df,\n",
    "                    precisions_by_lead_time['glofas_1980'][metrics_utils.GLOFAS_VARIABLE][\n",
    "                        lead_time][return_period].rename(metrics_utils.GLOFAS_VARIABLE),\n",
    "                    precisions_by_lead_time['google_1980']['kfold_splits'][\n",
    "                        lead_time][return_period].rename('kfold_splits')\n",
    "                ], axis=1\n",
    "            ).dropna()\n",
    "        elif metric.lower() == 'recall':\n",
    "            plotdata = pd.concat(\n",
    "                [\n",
    "                    gauge_continent_df,\n",
    "                    recalls_by_lead_time['glofas_1980'][metrics_utils.GLOFAS_VARIABLE][\n",
    "                        lead_time][return_period].rename(metrics_utils.GLOFAS_VARIABLE),\n",
    "                    recalls_by_lead_time['google_1980']['kfold_splits'][\n",
    "                        lead_time][return_period].rename('kfold_splits')\n",
    "                ], axis=1\n",
    "            ).dropna()\n",
    "        elif metric.lower() == 'f1 score':\n",
    "            plotdata = pd.concat(\n",
    "                [\n",
    "                    gauge_continent_df,\n",
    "                    f1s_by_lead_time['glofas_1980'][metrics_utils.GLOFAS_VARIABLE][\n",
    "                        lead_time][return_period].rename(metrics_utils.GLOFAS_VARIABLE),\n",
    "                    f1s_by_lead_time['google_1980']['kfold_splits'][\n",
    "                        lead_time][return_period].rename('kfold_splits')\n",
    "                ], axis=1\n",
    "            ).dropna()\n",
    "        else:\n",
    "            raise ValueError('Unknown metric')\n",
    "\n",
    "        plotdata.rename(columns=experiment_names, inplace=True)\n",
    "        dd = pd.melt(\n",
    "            plotdata, \n",
    "            id_vars=['Continent'], \n",
    "            value_vars=experiment_names.values(), \n",
    "            var_name='Model', \n",
    "            value_name=metric\n",
    "        )\n",
    "\n",
    "        # Statistical tests over continents.\n",
    "        europe_glofas_df = dd.loc[(dd['Continent'] == 'Europe') & (\n",
    "            dd['Model'] == evaluation_utils.EXPERIMENT_NAMES[metrics_utils.GLOFAS_VARIABLE])]\n",
    "        for continent in set(dd['Continent']):\n",
    "            continent_google_df = dd.loc[(dd['Continent'] == continent) & (\n",
    "                dd['Model'] == evaluation_utils.EXPERIMENT_NAMES['kfold_splits'])]\n",
    "            stats = ranksums(europe_glofas_df[metric], continent_google_df[metric])\n",
    "            d = evaluation_utils.cohen_d(continent_google_df[metric].values, europe_glofas_df[metric].values)\n",
    "\n",
    "            if d < 0 and stats.pvalue < 1e-2:\n",
    "#             if continent == 'Africa':\n",
    "                print(f'--- Test Against GloFAS Europe: {metric =} --- {continent =} --- {return_period =} ----')\n",
    "                print(stats, d)\n",
    "                frac_diff = (europe_glofas_df[metric].mean() - continent_google_df[metric].mean()) / europe_glofas_df[metric].mean()\n",
    "                print(frac_diff)\n",
    "                print('-------------------------------------------------------------------------------\\n')"
   ]
  },
  {
   "cell_type": "markdown",
   "metadata": {},
   "source": [
    "# Continent-by-Continent Statistical Tests"
   ]
  },
  {
   "cell_type": "code",
   "execution_count": 16,
   "metadata": {},
   "outputs": [
    {
     "name": "stdout",
     "output_type": "stream",
     "text": [
      "--- Continent-to-Continent Test: metric='f1 score' --- continent='Africa' --- return_period=1.01 ----\n",
      "Mean Difference: 0.004196840511787481\n",
      "WilcoxonResult(statistic=23411.5, pvalue=0.06960462965045766) 0.02812128519231496\n",
      "-------------------------------------------------------\n",
      "\n",
      "--- Continent-to-Continent Test: metric='f1 score' --- continent='Asia' --- return_period=5 ----\n",
      "Mean Difference: 0.03531956641719203\n",
      "WilcoxonResult(statistic=3908.0, pvalue=0.04415977939583954) 0.12158445920040643\n",
      "-------------------------------------------------------\n",
      "\n",
      "--- Continent-to-Continent Test: metric='f1 score' --- continent='Asia' --- return_period=10 ----\n",
      "Mean Difference: 0.041446824780158126\n",
      "WilcoxonResult(statistic=457.5, pvalue=0.17981598128594123) 0.11625831973888676\n",
      "-------------------------------------------------------\n",
      "\n"
     ]
    }
   ],
   "source": [
    "lead_time = 0\n",
    "return_periods = evaluation_utils.RETURN_PERIODS[:-2]\n",
    "experiments = [metrics_utils.GLOFAS_VARIABLE, 'kfold_splits']\n",
    "experiment_names = {experiment: evaluation_utils.EXPERIMENT_NAMES[experiment] for experiment in experiments}\n",
    "split_names = {split: split.replace('_', ' ').title() for split in ungauged_gauge_groups['continent_splits']}\n",
    "\n",
    "for metric in ['f1 score']: #['precision', 'recall', 'f1 score']:\n",
    "    for ridx, (ax, return_period) in enumerate(zip(axes.flatten(), return_periods)):\n",
    "\n",
    "        if metric.lower() == 'precision':\n",
    "            plotdata = pd.concat(\n",
    "                [\n",
    "                    gauge_continent_df,\n",
    "                    precisions_by_lead_time['glofas_1980'][metrics_utils.GLOFAS_VARIABLE][\n",
    "                        lead_time][return_period].rename(metrics_utils.GLOFAS_VARIABLE),\n",
    "                    precisions_by_lead_time['google_1980']['kfold_splits'][\n",
    "                        lead_time][return_period].rename('kfold_splits')\n",
    "                ], axis=1\n",
    "            ).dropna()\n",
    "        elif metric.lower() == 'recall':\n",
    "            plotdata = pd.concat(\n",
    "                [\n",
    "                    gauge_continent_df,\n",
    "                    recalls_by_lead_time['glofas_1980'][metrics_utils.GLOFAS_VARIABLE][\n",
    "                        lead_time][return_period].rename(metrics_utils.GLOFAS_VARIABLE),\n",
    "                    recalls_by_lead_time['google_1980']['kfold_splits'][\n",
    "                        lead_time][return_period].rename('kfold_splits')\n",
    "                ], axis=1\n",
    "            ).dropna()\n",
    "        elif metric.lower() == 'f1 score':\n",
    "            plotdata = pd.concat(\n",
    "                [\n",
    "                    gauge_continent_df,\n",
    "                    f1s_by_lead_time['glofas_1980'][metrics_utils.GLOFAS_VARIABLE][\n",
    "                        lead_time][return_period].rename(metrics_utils.GLOFAS_VARIABLE),\n",
    "                    f1s_by_lead_time['google_1980']['kfold_splits'][\n",
    "                        lead_time][return_period].rename('kfold_splits')\n",
    "                ], axis=1\n",
    "            ).dropna()\n",
    "        else:\n",
    "            raise ValueError('Unknown metric')\n",
    "\n",
    "        plotdata.rename(columns=experiment_names, inplace=True)\n",
    "        dd = pd.melt(\n",
    "            plotdata, \n",
    "            id_vars=['Continent'], \n",
    "            value_vars=experiment_names.values(), \n",
    "            var_name='Model', \n",
    "            value_name=metric\n",
    "        )\n",
    "\n",
    "        # Statistical tests over continents.\n",
    "        for continent in set(dd['Continent']):\n",
    "            google_df = dd.loc[(dd['Continent'] == continent) & (\n",
    "                dd['Model'] == evaluation_utils.EXPERIMENT_NAMES['kfold_splits'])]\n",
    "            glofas_df = dd.loc[(dd['Continent'] == continent) & (\n",
    "                dd['Model'] == evaluation_utils.EXPERIMENT_NAMES[metrics_utils.GLOFAS_VARIABLE])]\n",
    "            mean_difference = google_df[metric].mean() - glofas_df[metric].mean()\n",
    "            stats = wilcoxon(google_df[metric], glofas_df[metric])\n",
    "            d = evaluation_utils.cohen_d(google_df[metric].values, glofas_df[metric].values)\n",
    "            \n",
    "#             if mean_difference < 0 or stats.pvalue > 1e-2:\n",
    "            if mean_difference < 0 or stats.pvalue > 1e-2: #print('!!!!!!!!!!!!')\n",
    "                print(f'--- Continent-to-Continent Test: {metric=} --- {continent=} --- {return_period=} ----')\n",
    "                print('Mean Difference:', mean_difference)\n",
    "                print(stats, d)\n",
    "                print('-------------------------------------------------------\\n')"
   ]
  },
  {
   "cell_type": "code",
   "execution_count": 17,
   "metadata": {},
   "outputs": [
    {
     "name": "stdout",
     "output_type": "stream",
     "text": [
      "--- Continent-to-Continent Test: metric='f1 score' --- continent='North America' --- return_period=1.01 ----\n",
      "Mean Difference: 0.05734338407921796\n",
      "WilcoxonResult(statistic=296649.0, pvalue=3.494904050544809e-50) 0.2801327874736311\n",
      "-------------------------------------------------------\n",
      "\n",
      "--- Continent-to-Continent Test: metric='f1 score' --- continent='Asia' --- return_period=1.01 ----\n",
      "Mean Difference: 0.021476353271595805\n",
      "WilcoxonResult(statistic=16699.0, pvalue=0.00024826465551645963) 0.10742494150583093\n",
      "-------------------------------------------------------\n",
      "\n",
      "--- Continent-to-Continent Test: metric='f1 score' --- continent='South West Pacific' --- return_period=1.01 ----\n",
      "Mean Difference: 0.053189671145704776\n",
      "WilcoxonResult(statistic=13192.0, pvalue=2.0969293645422676e-08) 0.2975998307651699\n",
      "-------------------------------------------------------\n",
      "\n",
      "--- Continent-to-Continent Test: metric='f1 score' --- continent='Europe' --- return_period=1.01 ----\n",
      "Mean Difference: 0.03695174511001287\n",
      "WilcoxonResult(statistic=94317.0, pvalue=6.903780867787109e-15) 0.17883789097364763\n",
      "-------------------------------------------------------\n",
      "\n",
      "--- Continent-to-Continent Test: metric='f1 score' --- continent='South America' --- return_period=1.01 ----\n",
      "Mean Difference: 0.057965997368286004\n",
      "WilcoxonResult(statistic=25612.0, pvalue=1.3248280261996484e-20) 0.3676608939082116\n",
      "-------------------------------------------------------\n",
      "\n",
      "--- Continent-to-Continent Test: metric='f1 score' --- continent='North America' --- return_period=2 ----\n",
      "Mean Difference: 0.09808178811146484\n",
      "WilcoxonResult(statistic=219408.0, pvalue=5.980099781495779e-88) 0.52096136141569\n",
      "-------------------------------------------------------\n",
      "\n",
      "--- Continent-to-Continent Test: metric='f1 score' --- continent='Asia' --- return_period=2 ----\n",
      "Mean Difference: 0.03365264747533636\n",
      "WilcoxonResult(statistic=15879.5, pvalue=0.008873516582777163) 0.15953455926632373\n",
      "-------------------------------------------------------\n",
      "\n",
      "--- Continent-to-Continent Test: metric='f1 score' --- continent='South West Pacific' --- return_period=2 ----\n",
      "Mean Difference: 0.13684770128915585\n",
      "WilcoxonResult(statistic=4062.0, pvalue=2.239774795687534e-33) 0.7381568247393561\n",
      "-------------------------------------------------------\n",
      "\n",
      "--- Continent-to-Continent Test: metric='f1 score' --- continent='Africa' --- return_period=2 ----\n",
      "Mean Difference: 0.06071626468827751\n",
      "WilcoxonResult(statistic=12687.5, pvalue=7.033285640729707e-15) 0.3491816147786866\n",
      "-------------------------------------------------------\n",
      "\n",
      "--- Continent-to-Continent Test: metric='f1 score' --- continent='Europe' --- return_period=2 ----\n",
      "Mean Difference: 0.05906703675812419\n",
      "WilcoxonResult(statistic=72587.0, pvalue=2.248672253252254e-27) 0.30652821248737055\n",
      "-------------------------------------------------------\n",
      "\n",
      "--- Continent-to-Continent Test: metric='f1 score' --- continent='South America' --- return_period=2 ----\n",
      "Mean Difference: 0.07926117082376397\n",
      "WilcoxonResult(statistic=16772.5, pvalue=2.516676357455873e-36) 0.46502373332550073\n",
      "-------------------------------------------------------\n",
      "\n",
      "--- Continent-to-Continent Test: metric='f1 score' --- continent='North America' --- return_period=5 ----\n",
      "Mean Difference: 0.1114072993965424\n",
      "WilcoxonResult(statistic=201234.5, pvalue=5.723562140913317e-68) 0.5281802847774774\n",
      "-------------------------------------------------------\n",
      "\n",
      "--- Continent-to-Continent Test: metric='f1 score' --- continent='South West Pacific' --- return_period=5 ----\n",
      "Mean Difference: 0.14752626379043693\n",
      "WilcoxonResult(statistic=5262.0, pvalue=1.1677236049696723e-22) 0.6760462253698271\n",
      "-------------------------------------------------------\n",
      "\n",
      "--- Continent-to-Continent Test: metric='f1 score' --- continent='Africa' --- return_period=5 ----\n",
      "Mean Difference: 0.08539809062070067\n",
      "WilcoxonResult(statistic=4087.0, pvalue=4.2224599380363246e-12) 0.4058830277919196\n",
      "-------------------------------------------------------\n",
      "\n",
      "--- Continent-to-Continent Test: metric='f1 score' --- continent='Europe' --- return_period=5 ----\n",
      "Mean Difference: 0.07643558119806637\n",
      "WilcoxonResult(statistic=53151.5, pvalue=1.021135654605212e-20) 0.3318016281073624\n",
      "-------------------------------------------------------\n",
      "\n",
      "--- Continent-to-Continent Test: metric='f1 score' --- continent='South America' --- return_period=5 ----\n",
      "Mean Difference: 0.06849433392699528\n",
      "WilcoxonResult(statistic=14023.0, pvalue=1.2450411120671355e-18) 0.36914752588560523\n",
      "-------------------------------------------------------\n",
      "\n",
      "--- Continent-to-Continent Test: metric='f1 score' --- continent='North America' --- return_period=10 ----\n",
      "Mean Difference: 0.10035733518774292\n",
      "WilcoxonResult(statistic=151254.5, pvalue=7.871832581267473e-38) 0.40230550858201164\n",
      "-------------------------------------------------------\n",
      "\n",
      "--- Continent-to-Continent Test: metric='f1 score' --- continent='South West Pacific' --- return_period=10 ----\n",
      "Mean Difference: 0.12860295789403647\n",
      "WilcoxonResult(statistic=4140.0, pvalue=9.134353876187846e-13) 0.5006738522634876\n",
      "-------------------------------------------------------\n",
      "\n",
      "--- Continent-to-Continent Test: metric='f1 score' --- continent='Africa' --- return_period=10 ----\n",
      "Mean Difference: 0.048943510324512884\n",
      "WilcoxonResult(statistic=2307.5, pvalue=0.002783349019653961) 0.193578253588159\n",
      "-------------------------------------------------------\n",
      "\n",
      "--- Continent-to-Continent Test: metric='f1 score' --- continent='Europe' --- return_period=10 ----\n",
      "Mean Difference: 0.06146167223769228\n",
      "WilcoxonResult(statistic=42686.5, pvalue=1.2690092558986272e-08) 0.23818936206178737\n",
      "-------------------------------------------------------\n",
      "\n",
      "--- Continent-to-Continent Test: metric='f1 score' --- continent='South America' --- return_period=10 ----\n",
      "Mean Difference: 0.07647234742454126\n",
      "WilcoxonResult(statistic=4689.0, pvalue=5.748893046739006e-14) 0.3488449345908827\n",
      "-------------------------------------------------------\n",
      "\n"
     ]
    }
   ],
   "source": [
    "lead_time = 0\n",
    "return_periods = evaluation_utils.RETURN_PERIODS[:-2]\n",
    "experiments = [metrics_utils.GLOFAS_VARIABLE, 'kfold_splits']\n",
    "experiment_names = {experiment: evaluation_utils.EXPERIMENT_NAMES[experiment] for experiment in experiments}\n",
    "split_names = {split: split.replace('_', ' ').title() for split in ungauged_gauge_groups['continent_splits']}\n",
    "\n",
    "for metric in ['f1 score']: #['precision', 'recall', 'f1 score']:\n",
    "    for ridx, (ax, return_period) in enumerate(zip(axes.flatten(), return_periods)):\n",
    "\n",
    "        if metric.lower() == 'precision':\n",
    "            plotdata = pd.concat(\n",
    "                [\n",
    "                    gauge_continent_df,\n",
    "                    precisions_by_lead_time['glofas_1980'][metrics_utils.GLOFAS_VARIABLE][\n",
    "                        lead_time][return_period].rename(metrics_utils.GLOFAS_VARIABLE),\n",
    "                    precisions_by_lead_time['google_1980']['kfold_splits'][\n",
    "                        lead_time][return_period].rename('kfold_splits')\n",
    "                ], axis=1\n",
    "            ).dropna()\n",
    "        elif metric.lower() == 'recall':\n",
    "            plotdata = pd.concat(\n",
    "                [\n",
    "                    gauge_continent_df,\n",
    "                    recalls_by_lead_time['glofas_1980'][metrics_utils.GLOFAS_VARIABLE][\n",
    "                        lead_time][return_period].rename(metrics_utils.GLOFAS_VARIABLE),\n",
    "                    recalls_by_lead_time['google_1980']['kfold_splits'][\n",
    "                        lead_time][return_period].rename('kfold_splits')\n",
    "                ], axis=1\n",
    "            ).dropna()\n",
    "        elif metric.lower() == 'f1 score':\n",
    "            plotdata = pd.concat(\n",
    "                [\n",
    "                    gauge_continent_df,\n",
    "                    f1s_by_lead_time['glofas_1980'][metrics_utils.GLOFAS_VARIABLE][\n",
    "                        lead_time][return_period].rename(metrics_utils.GLOFAS_VARIABLE),\n",
    "                    f1s_by_lead_time['google_1980']['kfold_splits'][\n",
    "                        lead_time][return_period].rename('kfold_splits')\n",
    "                ], axis=1\n",
    "            ).dropna()\n",
    "        else:\n",
    "            raise ValueError('Unknown metric')\n",
    "\n",
    "        plotdata.rename(columns=experiment_names, inplace=True)\n",
    "        dd = pd.melt(\n",
    "            plotdata, \n",
    "            id_vars=['Continent'], \n",
    "            value_vars=experiment_names.values(), \n",
    "            var_name='Model', \n",
    "            value_name=metric\n",
    "        )\n",
    "\n",
    "        # Statistical tests over continents.\n",
    "        for continent in set(dd['Continent']):\n",
    "            google_df = dd.loc[(dd['Continent'] == continent) & (\n",
    "                dd['Model'] == evaluation_utils.EXPERIMENT_NAMES['kfold_splits'])]\n",
    "            glofas_df = dd.loc[(dd['Continent'] == continent) & (\n",
    "                dd['Model'] == evaluation_utils.EXPERIMENT_NAMES[metrics_utils.GLOFAS_VARIABLE])]\n",
    "            mean_difference = google_df[metric].mean() - glofas_df[metric].mean()\n",
    "            stats = wilcoxon(google_df[metric], glofas_df[metric])\n",
    "            d = evaluation_utils.cohen_d(google_df[metric].values, glofas_df[metric].values)\n",
    "            \n",
    "#             if mean_difference < 0 or stats.pvalue > 1e-2:\n",
    "            if mean_difference > 0 and stats.pvalue < 1e-2: #print('!!!!!!!!!!!!')\n",
    "                print(f'--- Continent-to-Continent Test: {metric=} --- {continent=} --- {return_period=} ----')\n",
    "                print('Mean Difference:', mean_difference)\n",
    "                print(stats, d)\n",
    "                print('-------------------------------------------------------\\n')"
   ]
  },
  {
   "cell_type": "code",
   "execution_count": null,
   "metadata": {},
   "outputs": [],
   "source": []
  }
 ],
 "metadata": {
  "colab": {
   "last_runtime": {
    "build_target": "//intelligence/flood_forecasting/colab:notebook",
    "kind": "private"
   },
   "provenance": [
    {
     "file_id": "1U5lV5oB6crQAV7-OLTxegU4Dathhwd8Q",
     "timestamp": 1678011930641
    }
   ],
   "toc_visible": true
  },
  "kernelspec": {
   "display_name": "Python 3 (ipykernel)",
   "language": "python",
   "name": "python3"
  },
  "language_info": {
   "codemirror_mode": {
    "name": "ipython",
    "version": 3
   },
   "file_extension": ".py",
   "mimetype": "text/x-python",
   "name": "python",
   "nbconvert_exporter": "python",
   "pygments_lexer": "ipython3",
   "version": "3.11.4"
  }
 },
 "nbformat": 4,
 "nbformat_minor": 1
}
